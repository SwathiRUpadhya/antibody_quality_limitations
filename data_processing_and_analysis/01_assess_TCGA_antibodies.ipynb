{
 "cells": [
  {
   "cell_type": "markdown",
   "id": "4aa6d550",
   "metadata": {},
   "source": [
    "## Assessing the antibody validation status "
   ]
  },
  {
   "cell_type": "markdown",
   "id": "18e5ece5",
   "metadata": {},
   "source": [
    "**Input:**  Antibody validation status obtained from <a href=\"https://api.gdc.cancer.gov/v0/data/62647302-b4d3-4a81-a7c0-d141f5dbd300\">GDC reference files</a> and TCGA Pan-Cancer Protein data"
   ]
  },
  {
   "cell_type": "markdown",
   "id": "a1fafb88",
   "metadata": {},
   "source": [
    "**Output:** Supplemental Table 1 and Figure 1"
   ]
  },
  {
   "cell_type": "markdown",
   "id": "b2fc81f0",
   "metadata": {},
   "source": [
    "### Import Packages"
   ]
  },
  {
   "cell_type": "code",
   "execution_count": 1,
   "id": "35b97f76",
   "metadata": {},
   "outputs": [],
   "source": [
    "import os, re\n",
    "import numpy as np\n",
    "import pandas as pd\n",
    "import seaborn as sns\n",
    "\n",
    "%matplotlib inline\n",
    "\n",
    "import graphing_utils\n",
    "import customized_plot \n",
    "from matplotlib import pyplot as plt"
   ]
  },
  {
   "cell_type": "code",
   "execution_count": 2,
   "id": "20916731",
   "metadata": {},
   "outputs": [],
   "source": [
    "get_data_path = lambda folders, fname: os.path.normpath(os.environ['DATA_PATH']+'/'+'/'.join(folders) +'/'+ fname)\n",
    "get_table_path = lambda fname: os.path.normpath('../tables/' + fname)\n",
    "get_figure_path = lambda fname: os.path.normpath('../figures/' + fname)\n",
    "\n",
    "file_antibody_tcga = get_data_path(['gdc_cancer_gov'], 'TCGA_antibodies_descriptions.gencode.v36.tsv')\n",
    "file_pancan_rppa = get_data_path(['usc_xena_browser'], 'TCGA-RPPA-pancan-clean.xena')\n",
    "\n",
    "file_sourceData_Figure1 = get_table_path('SourceDataForFigure1.csv')\n",
    "file_table_s1 = get_table_path('TableS1.csv')"
   ]
  },
  {
   "cell_type": "markdown",
   "id": "28df36cf",
   "metadata": {},
   "source": [
    "### Load data"
   ]
  },
  {
   "cell_type": "code",
   "execution_count": 3,
   "id": "a266e953",
   "metadata": {},
   "outputs": [
    {
     "name": "stdout",
     "output_type": "stream",
     "text": [
      "Dimensions: (487, 6)\n"
     ]
    },
    {
     "data": {
      "text/html": [
       "<div>\n",
       "<style scoped>\n",
       "    .dataframe tbody tr th:only-of-type {\n",
       "        vertical-align: middle;\n",
       "    }\n",
       "\n",
       "    .dataframe tbody tr th {\n",
       "        vertical-align: top;\n",
       "    }\n",
       "\n",
       "    .dataframe thead th {\n",
       "        text-align: right;\n",
       "    }\n",
       "</style>\n",
       "<table border=\"1\" class=\"dataframe\">\n",
       "  <thead>\n",
       "    <tr style=\"text-align: right;\">\n",
       "      <th></th>\n",
       "      <th>peptide_target</th>\n",
       "      <th>gene_name</th>\n",
       "      <th>antibody_origin</th>\n",
       "      <th>source</th>\n",
       "      <th>catalog_number</th>\n",
       "      <th>validation_status</th>\n",
       "    </tr>\n",
       "  </thead>\n",
       "  <tbody>\n",
       "    <tr>\n",
       "      <th>0</th>\n",
       "      <td>1433BETA</td>\n",
       "      <td>YWHAB</td>\n",
       "      <td>Rabbit</td>\n",
       "      <td>Santa Cruz</td>\n",
       "      <td>sc-628</td>\n",
       "      <td>Valid</td>\n",
       "    </tr>\n",
       "    <tr>\n",
       "      <th>1</th>\n",
       "      <td>1433EPSILON</td>\n",
       "      <td>YWHAE</td>\n",
       "      <td>Mouse</td>\n",
       "      <td>Santa Cruz</td>\n",
       "      <td>sc-23957</td>\n",
       "      <td>Caution</td>\n",
       "    </tr>\n",
       "  </tbody>\n",
       "</table>\n",
       "</div>"
      ],
      "text/plain": [
       "  peptide_target gene_name antibody_origin      source catalog_number  \\\n",
       "0       1433BETA     YWHAB          Rabbit  Santa Cruz         sc-628   \n",
       "1    1433EPSILON     YWHAE           Mouse  Santa Cruz       sc-23957   \n",
       "\n",
       "  validation_status  \n",
       "0             Valid  \n",
       "1           Caution  "
      ]
     },
     "execution_count": 3,
     "metadata": {},
     "output_type": "execute_result"
    }
   ],
   "source": [
    "antibody_tcga_status = pd.read_csv(file_antibody_tcga, sep='\\t', usecols=['peptide_target', 'gene_name', 'antibody_origin', \n",
    "                                                                          'source', 'catalog_number', 'validation_status'])\n",
    "print(\"Dimensions:\", antibody_tcga_status.shape)\n",
    "antibody_tcga_status[:2]"
   ]
  },
  {
   "cell_type": "code",
   "execution_count": 4,
   "id": "f0385326",
   "metadata": {},
   "outputs": [
    {
     "data": {
      "text/plain": [
       "Valid               283\n",
       "Caution             197\n",
       "Under Evaluation      7\n",
       "Name: validation_status, dtype: int64"
      ]
     },
     "execution_count": 4,
     "metadata": {},
     "output_type": "execute_result"
    }
   ],
   "source": [
    "antibody_tcga_status['validation_status'].value_counts()"
   ]
  },
  {
   "cell_type": "markdown",
   "id": "4a25a90d",
   "metadata": {},
   "source": [
    "<div class=\"alert alert-block alert-warning\">\n",
    "    We include antibodies in our analyses only when it:\n",
    "    <li> is present in the TCGA Pan-Cancer RPPA data </li>   \n",
    "    <li> is marked as 'Valid' or 'Caution'</li>\n",
    "    <li> targets no more than one protein</li>\n",
    "    <li> does not target phosphoproteins </li>\n",
    "   \n",
    "</div>"
   ]
  },
  {
   "cell_type": "markdown",
   "id": "10446b3c",
   "metadata": {},
   "source": [
    "#### Load TCGA Pan-Cancer RPPA data "
   ]
  },
  {
   "cell_type": "code",
   "execution_count": 5,
   "id": "d89cdf36",
   "metadata": {},
   "outputs": [
    {
     "name": "stdout",
     "output_type": "stream",
     "text": [
      "Dimensions: (258, 7755)\n"
     ]
    },
    {
     "data": {
      "text/html": [
       "<div>\n",
       "<style scoped>\n",
       "    .dataframe tbody tr th:only-of-type {\n",
       "        vertical-align: middle;\n",
       "    }\n",
       "\n",
       "    .dataframe tbody tr th {\n",
       "        vertical-align: top;\n",
       "    }\n",
       "\n",
       "    .dataframe thead th {\n",
       "        text-align: right;\n",
       "    }\n",
       "</style>\n",
       "<table border=\"1\" class=\"dataframe\">\n",
       "  <thead>\n",
       "    <tr style=\"text-align: right;\">\n",
       "      <th></th>\n",
       "      <th>SampleID</th>\n",
       "      <th>TCGA-FI-A2EY-01</th>\n",
       "      <th>TCGA-DF-A2KS-01</th>\n",
       "      <th>TCGA-A5-A1OH-01</th>\n",
       "      <th>TCGA-AX-A2H7-01</th>\n",
       "      <th>TCGA-AX-A2HA-01</th>\n",
       "      <th>TCGA-A5-A2K4-01</th>\n",
       "      <th>TCGA-EY-A2OM-01</th>\n",
       "      <th>TCGA-EY-A2ON-01</th>\n",
       "      <th>TCGA-E6-A2P8-01</th>\n",
       "      <th>...</th>\n",
       "      <th>TCGA-RD-A8N0-01</th>\n",
       "      <th>TCGA-RD-A8MW-01</th>\n",
       "      <th>TCGA-VQ-A8E2-01</th>\n",
       "      <th>TCGA-VQ-A8E0-01</th>\n",
       "      <th>TCGA-VQ-A8DL-01</th>\n",
       "      <th>TCGA-VQ-A8DU-01</th>\n",
       "      <th>TCGA-VQ-A8DT-01</th>\n",
       "      <th>TCGA-IN-A7NR-01</th>\n",
       "      <th>TCGA-RD-A8MV-01</th>\n",
       "      <th>TCGA-KB-A93G-01</th>\n",
       "    </tr>\n",
       "  </thead>\n",
       "  <tbody>\n",
       "    <tr>\n",
       "      <th>0</th>\n",
       "      <td>X1433EPSILON</td>\n",
       "      <td>-0.013829</td>\n",
       "      <td>-0.16863</td>\n",
       "      <td>0.038842</td>\n",
       "      <td>0.021308</td>\n",
       "      <td>0.108640</td>\n",
       "      <td>-0.24198</td>\n",
       "      <td>0.051101</td>\n",
       "      <td>0.183180</td>\n",
       "      <td>-0.062962</td>\n",
       "      <td>...</td>\n",
       "      <td>-0.30092</td>\n",
       "      <td>-0.006139</td>\n",
       "      <td>-0.022418</td>\n",
       "      <td>0.001432</td>\n",
       "      <td>0.027505</td>\n",
       "      <td>-0.048516</td>\n",
       "      <td>-0.13928</td>\n",
       "      <td>-0.23253</td>\n",
       "      <td>-0.019379</td>\n",
       "      <td>-0.064041</td>\n",
       "    </tr>\n",
       "    <tr>\n",
       "      <th>1</th>\n",
       "      <td>X4EBP1</td>\n",
       "      <td>-1.127400</td>\n",
       "      <td>0.16587</td>\n",
       "      <td>-0.382370</td>\n",
       "      <td>-0.717660</td>\n",
       "      <td>0.090459</td>\n",
       "      <td>-0.37866</td>\n",
       "      <td>-0.044557</td>\n",
       "      <td>-0.053956</td>\n",
       "      <td>0.008223</td>\n",
       "      <td>...</td>\n",
       "      <td>-0.48837</td>\n",
       "      <td>-0.321200</td>\n",
       "      <td>-0.386970</td>\n",
       "      <td>0.018423</td>\n",
       "      <td>-0.325220</td>\n",
       "      <td>-0.073244</td>\n",
       "      <td>-0.16909</td>\n",
       "      <td>-0.50985</td>\n",
       "      <td>0.250550</td>\n",
       "      <td>-0.247550</td>\n",
       "    </tr>\n",
       "  </tbody>\n",
       "</table>\n",
       "<p>2 rows × 7755 columns</p>\n",
       "</div>"
      ],
      "text/plain": [
       "       SampleID  TCGA-FI-A2EY-01  TCGA-DF-A2KS-01  TCGA-A5-A1OH-01  \\\n",
       "0  X1433EPSILON        -0.013829         -0.16863         0.038842   \n",
       "1        X4EBP1        -1.127400          0.16587        -0.382370   \n",
       "\n",
       "   TCGA-AX-A2H7-01  TCGA-AX-A2HA-01  TCGA-A5-A2K4-01  TCGA-EY-A2OM-01  \\\n",
       "0         0.021308         0.108640         -0.24198         0.051101   \n",
       "1        -0.717660         0.090459         -0.37866        -0.044557   \n",
       "\n",
       "   TCGA-EY-A2ON-01  TCGA-E6-A2P8-01  ...  TCGA-RD-A8N0-01  TCGA-RD-A8MW-01  \\\n",
       "0         0.183180        -0.062962  ...         -0.30092        -0.006139   \n",
       "1        -0.053956         0.008223  ...         -0.48837        -0.321200   \n",
       "\n",
       "   TCGA-VQ-A8E2-01  TCGA-VQ-A8E0-01  TCGA-VQ-A8DL-01  TCGA-VQ-A8DU-01  \\\n",
       "0        -0.022418         0.001432         0.027505        -0.048516   \n",
       "1        -0.386970         0.018423        -0.325220        -0.073244   \n",
       "\n",
       "   TCGA-VQ-A8DT-01  TCGA-IN-A7NR-01  TCGA-RD-A8MV-01  TCGA-KB-A93G-01  \n",
       "0         -0.13928         -0.23253        -0.019379        -0.064041  \n",
       "1         -0.16909         -0.50985         0.250550        -0.247550  \n",
       "\n",
       "[2 rows x 7755 columns]"
      ]
     },
     "execution_count": 5,
     "metadata": {},
     "output_type": "execute_result"
    }
   ],
   "source": [
    "pancan_rppa = pd.read_csv(file_pancan_rppa, sep='\\t')\n",
    "print(\"Dimensions:\", pancan_rppa.shape)\n",
    "pancan_rppa[:2]"
   ]
  },
  {
   "cell_type": "code",
   "execution_count": 6,
   "id": "938f0af4",
   "metadata": {},
   "outputs": [
    {
     "data": {
      "text/html": [
       "<div>\n",
       "<style scoped>\n",
       "    .dataframe tbody tr th:only-of-type {\n",
       "        vertical-align: middle;\n",
       "    }\n",
       "\n",
       "    .dataframe tbody tr th {\n",
       "        vertical-align: top;\n",
       "    }\n",
       "\n",
       "    .dataframe thead th {\n",
       "        text-align: right;\n",
       "    }\n",
       "</style>\n",
       "<table border=\"1\" class=\"dataframe\">\n",
       "  <thead>\n",
       "    <tr style=\"text-align: right;\">\n",
       "      <th></th>\n",
       "      <th>peptide_target</th>\n",
       "      <th>TCGA-FI-A2EY-01</th>\n",
       "      <th>TCGA-DF-A2KS-01</th>\n",
       "      <th>TCGA-A5-A1OH-01</th>\n",
       "      <th>TCGA-AX-A2H7-01</th>\n",
       "      <th>TCGA-AX-A2HA-01</th>\n",
       "      <th>TCGA-A5-A2K4-01</th>\n",
       "      <th>TCGA-EY-A2OM-01</th>\n",
       "      <th>TCGA-EY-A2ON-01</th>\n",
       "      <th>TCGA-E6-A2P8-01</th>\n",
       "      <th>...</th>\n",
       "      <th>TCGA-RD-A8N0-01</th>\n",
       "      <th>TCGA-RD-A8MW-01</th>\n",
       "      <th>TCGA-VQ-A8E2-01</th>\n",
       "      <th>TCGA-VQ-A8E0-01</th>\n",
       "      <th>TCGA-VQ-A8DL-01</th>\n",
       "      <th>TCGA-VQ-A8DU-01</th>\n",
       "      <th>TCGA-VQ-A8DT-01</th>\n",
       "      <th>TCGA-IN-A7NR-01</th>\n",
       "      <th>TCGA-RD-A8MV-01</th>\n",
       "      <th>TCGA-KB-A93G-01</th>\n",
       "    </tr>\n",
       "  </thead>\n",
       "  <tbody>\n",
       "    <tr>\n",
       "      <th>0</th>\n",
       "      <td>1433EPSILON</td>\n",
       "      <td>-0.013829</td>\n",
       "      <td>-0.16863</td>\n",
       "      <td>0.038842</td>\n",
       "      <td>0.021308</td>\n",
       "      <td>0.108640</td>\n",
       "      <td>-0.24198</td>\n",
       "      <td>0.051101</td>\n",
       "      <td>0.183180</td>\n",
       "      <td>-0.062962</td>\n",
       "      <td>...</td>\n",
       "      <td>-0.30092</td>\n",
       "      <td>-0.006139</td>\n",
       "      <td>-0.022418</td>\n",
       "      <td>0.001432</td>\n",
       "      <td>0.027505</td>\n",
       "      <td>-0.048516</td>\n",
       "      <td>-0.13928</td>\n",
       "      <td>-0.23253</td>\n",
       "      <td>-0.019379</td>\n",
       "      <td>-0.064041</td>\n",
       "    </tr>\n",
       "    <tr>\n",
       "      <th>1</th>\n",
       "      <td>4EBP1</td>\n",
       "      <td>-1.127400</td>\n",
       "      <td>0.16587</td>\n",
       "      <td>-0.382370</td>\n",
       "      <td>-0.717660</td>\n",
       "      <td>0.090459</td>\n",
       "      <td>-0.37866</td>\n",
       "      <td>-0.044557</td>\n",
       "      <td>-0.053956</td>\n",
       "      <td>0.008223</td>\n",
       "      <td>...</td>\n",
       "      <td>-0.48837</td>\n",
       "      <td>-0.321200</td>\n",
       "      <td>-0.386970</td>\n",
       "      <td>0.018423</td>\n",
       "      <td>-0.325220</td>\n",
       "      <td>-0.073244</td>\n",
       "      <td>-0.16909</td>\n",
       "      <td>-0.50985</td>\n",
       "      <td>0.250550</td>\n",
       "      <td>-0.247550</td>\n",
       "    </tr>\n",
       "  </tbody>\n",
       "</table>\n",
       "<p>2 rows × 7755 columns</p>\n",
       "</div>"
      ],
      "text/plain": [
       "  peptide_target  TCGA-FI-A2EY-01  TCGA-DF-A2KS-01  TCGA-A5-A1OH-01  \\\n",
       "0    1433EPSILON        -0.013829         -0.16863         0.038842   \n",
       "1          4EBP1        -1.127400          0.16587        -0.382370   \n",
       "\n",
       "   TCGA-AX-A2H7-01  TCGA-AX-A2HA-01  TCGA-A5-A2K4-01  TCGA-EY-A2OM-01  \\\n",
       "0         0.021308         0.108640         -0.24198         0.051101   \n",
       "1        -0.717660         0.090459         -0.37866        -0.044557   \n",
       "\n",
       "   TCGA-EY-A2ON-01  TCGA-E6-A2P8-01  ...  TCGA-RD-A8N0-01  TCGA-RD-A8MW-01  \\\n",
       "0         0.183180        -0.062962  ...         -0.30092        -0.006139   \n",
       "1        -0.053956         0.008223  ...         -0.48837        -0.321200   \n",
       "\n",
       "   TCGA-VQ-A8E2-01  TCGA-VQ-A8E0-01  TCGA-VQ-A8DL-01  TCGA-VQ-A8DU-01  \\\n",
       "0        -0.022418         0.001432         0.027505        -0.048516   \n",
       "1        -0.386970         0.018423        -0.325220        -0.073244   \n",
       "\n",
       "   TCGA-VQ-A8DT-01  TCGA-IN-A7NR-01  TCGA-RD-A8MV-01  TCGA-KB-A93G-01  \n",
       "0         -0.13928         -0.23253        -0.019379        -0.064041  \n",
       "1         -0.16909         -0.50985         0.250550        -0.247550  \n",
       "\n",
       "[2 rows x 7755 columns]"
      ]
     },
     "execution_count": 6,
     "metadata": {},
     "output_type": "execute_result"
    }
   ],
   "source": [
    "pancan_rppa_renamed = pancan_rppa.rename(columns={'SampleID': 'peptide_target'})\n",
    "# antibody name that begins with a number is prefixed with an 'X' for e.g., X1433EPSILON should be 1433EPSILON, \n",
    "# so trying to get rid of the X using regex\n",
    "pancan_rppa_renamed['peptide_target'] = pancan_rppa_renamed['peptide_target'].replace(r\"^X(\\d)\", r\"\\1\", regex=True)\n",
    "pancan_rppa_renamed[:2]"
   ]
  },
  {
   "cell_type": "code",
   "execution_count": 7,
   "id": "85bec682",
   "metadata": {},
   "outputs": [
    {
     "name": "stdout",
     "output_type": "stream",
     "text": [
      "Number of antibodies which are mapped to only proteins 200\n"
     ]
    }
   ],
   "source": [
    "# remove antibodies that map to phospho-proteins\n",
    "pancan_rppa_renamed = pancan_rppa_renamed[pancan_rppa_renamed[\"peptide_target\"].str.contains(\"_p\") == False]\n",
    "print(\"Number of antibodies which are mapped to only proteins\", pancan_rppa_renamed.shape[0])"
   ]
  },
  {
   "cell_type": "code",
   "execution_count": 8,
   "id": "de92a7b6",
   "metadata": {},
   "outputs": [
    {
     "data": {
      "text/plain": [
       "189"
      ]
     },
     "execution_count": 8,
     "metadata": {},
     "output_type": "execute_result"
    }
   ],
   "source": [
    "len(np.intersect1d(pancan_rppa_renamed['peptide_target'], antibody_tcga_status['peptide_target']))"
   ]
  },
  {
   "cell_type": "code",
   "execution_count": 9,
   "id": "a0b5eb4b",
   "metadata": {},
   "outputs": [
    {
     "data": {
      "text/plain": [
       "array(['1433BETA', '1433EPSILON', '1433ZETA', '4EBP1', '53BP1', 'ACC1',\n",
       "       'ACETYLATUBULINLYS40', 'ACVRL1', 'ADAR1', 'AKT', 'ALPHACATENIN',\n",
       "       'AMPKALPHA', 'ANNEXIN1', 'ANNEXINVII', 'AR', 'ARAF', 'ARID1A',\n",
       "       'ASNS', 'ATM', 'AXL', 'BAK', 'BAP1C4', 'BAX', 'BCL2', 'BCL2A1',\n",
       "       'BCLXL', 'BECLIN', 'BETACATENIN', 'BID', 'BIM', 'BRAF', 'BRCA2',\n",
       "       'BRD4', 'CA9', 'CABL', 'CASPASE3', 'CASPASE7CLEAVEDD198',\n",
       "       'CASPASE8', 'CASPASE9', 'CAVEOLIN1', 'CD20', 'CD26', 'CD31',\n",
       "       'CD49B', 'CDK1', 'CHK1', 'CHK2', 'CIAP', 'CKIT', 'CLAUDIN7',\n",
       "       'CMET', 'CMYC', 'COG3', 'COLLAGENVI', 'COMPLEXIISUBUNIT30', 'CRAF',\n",
       "       'CTLA4', 'CYCLINB1', 'CYCLIND1', 'CYCLINE1', 'CYCLINE2', 'DIRAS3',\n",
       "       'DJ1', 'DUSP4', 'DVL3', 'E2F1', 'ECADHERIN', 'EEF2', 'EEF2K',\n",
       "       'EGFR', 'EIF4E', 'EIF4G', 'ENY2', 'EPPK1', 'ERALPHA', 'ERCC1',\n",
       "       'ERCC5', 'ERK2', 'ETS1', 'EZH2', 'FASN', 'FIBRONECTIN', 'FOXM1',\n",
       "       'FOXO3A', 'G6PD', 'GAB2', 'GAPDH', 'GATA3', 'GATA6', 'GCN5L2',\n",
       "       'GSK3ALPHABETA', 'GYS', 'HER2', 'HER3', 'HEREGULIN', 'HIF1ALPHA',\n",
       "       'HSP70', 'IGFBP2', 'INPP4B', 'IRF1', 'IRS1', 'JAB1', 'JAK2',\n",
       "       'JNK2', 'KU80', 'LCK', 'LDHA', 'LDHB', 'LKB1', 'MEK1', 'MIG6',\n",
       "       'MITOCHONDRIA', 'MRE11', 'MSH2', 'MSH6', 'MTOR', 'MYH11',\n",
       "       'MYOSINIIA', 'NAPSINA', 'NCADHERIN', 'NF2', 'NOTCH1', 'NRAS',\n",
       "       'NRF2', 'P16INK4A', 'P21', 'P27', 'P38MAPK', 'P53', 'P62LCKLIGAND',\n",
       "       'P63', 'P70S6K1', 'P90RSK', 'PAI1', 'PARP1', 'PARPCLEAVED',\n",
       "       'PAXILLIN', 'PCADHERIN', 'PCNA', 'PDCD1', 'PDCD4', 'PDK1', 'PDL1',\n",
       "       'PEA15', 'PI3KP110ALPHA', 'PI3KP85', 'PKCALPHA', 'PKM2', 'PR',\n",
       "       'PRDX1', 'PREX1', 'PTEN', 'PYGB', 'PYGL', 'PYGM', 'RAB11', 'RAB25',\n",
       "       'RAD50', 'RAD51', 'RAPTOR', 'RB', 'RBM15', 'RICTOR', 'S6', 'SCD1',\n",
       "       'SETD2', 'SF2', 'SLC1A5', 'SMAC', 'SMAD1', 'SMAD3', 'SMAD4',\n",
       "       'SNAIL', 'SRC', 'STAT5ALPHA', 'STATHMIN', 'SYK', 'TAZ', 'TFRC',\n",
       "       'TIGAR', 'TRANSGLUTAMINASE', 'TSC1', 'TTF1', 'TUBERIN', 'VEGFR2',\n",
       "       'XBP1', 'XRCC1', 'YAP', 'YB1'], dtype=object)"
      ]
     },
     "execution_count": 9,
     "metadata": {},
     "output_type": "execute_result"
    }
   ],
   "source": [
    "common_proteins = np.intersect1d(pancan_rppa_renamed['peptide_target'], antibody_tcga_status['peptide_target'])\n",
    "common_proteins"
   ]
  },
  {
   "cell_type": "code",
   "execution_count": 10,
   "id": "52e1b48c",
   "metadata": {},
   "outputs": [
    {
     "data": {
      "text/plain": [
       "Valid               114\n",
       "Caution              68\n",
       "Under Evaluation      7\n",
       "Name: validation_status, dtype: int64"
      ]
     },
     "execution_count": 10,
     "metadata": {},
     "output_type": "execute_result"
    }
   ],
   "source": [
    "antibody_tcga_status = antibody_tcga_status[antibody_tcga_status['peptide_target'].isin(common_proteins)]\n",
    "antibody_tcga_status['validation_status'].value_counts()"
   ]
  },
  {
   "cell_type": "code",
   "execution_count": 11,
   "id": "64fdecfe",
   "metadata": {},
   "outputs": [
    {
     "data": {
      "text/plain": [
       "Valid               0.603175\n",
       "Caution             0.359788\n",
       "Under Evaluation    0.037037\n",
       "Name: validation_status, dtype: float64"
      ]
     },
     "execution_count": 11,
     "metadata": {},
     "output_type": "execute_result"
    }
   ],
   "source": [
    "antibody_tcga_status['validation_status'].value_counts(normalize=True)"
   ]
  },
  {
   "cell_type": "code",
   "execution_count": 12,
   "id": "33681707",
   "metadata": {},
   "outputs": [],
   "source": [
    "# removing antibodies without nay validation status\n",
    "antibody_tcga_status = antibody_tcga_status[~(antibody_tcga_status['validation_status'] == 'Under Evaluation')]\n",
    "# getting rid of antibodies that map to more than one protein (delimiter used is '/')\n",
    "antibody_tcga_status = antibody_tcga_status[~(antibody_tcga_status['gene_name'].str.contains('/'))]"
   ]
  },
  {
   "cell_type": "code",
   "execution_count": 13,
   "id": "8a414e47",
   "metadata": {},
   "outputs": [
    {
     "data": {
      "text/html": [
       "<div>\n",
       "<style scoped>\n",
       "    .dataframe tbody tr th:only-of-type {\n",
       "        vertical-align: middle;\n",
       "    }\n",
       "\n",
       "    .dataframe tbody tr th {\n",
       "        vertical-align: top;\n",
       "    }\n",
       "\n",
       "    .dataframe thead th {\n",
       "        text-align: right;\n",
       "    }\n",
       "</style>\n",
       "<table border=\"1\" class=\"dataframe\">\n",
       "  <thead>\n",
       "    <tr style=\"text-align: right;\">\n",
       "      <th></th>\n",
       "      <th>peptide_target</th>\n",
       "      <th>gene_name</th>\n",
       "      <th>antibody_origin</th>\n",
       "      <th>source</th>\n",
       "      <th>catalog_number</th>\n",
       "      <th>validation_status</th>\n",
       "    </tr>\n",
       "  </thead>\n",
       "  <tbody>\n",
       "    <tr>\n",
       "      <th>335</th>\n",
       "      <td>PARP1</td>\n",
       "      <td>PARP1</td>\n",
       "      <td>Rabbit</td>\n",
       "      <td>Santa Cruz</td>\n",
       "      <td>sc-7150</td>\n",
       "      <td>Caution</td>\n",
       "    </tr>\n",
       "    <tr>\n",
       "      <th>336</th>\n",
       "      <td>PARPCLEAVED</td>\n",
       "      <td>PARP1</td>\n",
       "      <td>Mouse</td>\n",
       "      <td>CST</td>\n",
       "      <td>9546</td>\n",
       "      <td>Caution</td>\n",
       "    </tr>\n",
       "  </tbody>\n",
       "</table>\n",
       "</div>"
      ],
      "text/plain": [
       "    peptide_target gene_name antibody_origin      source catalog_number  \\\n",
       "335          PARP1     PARP1          Rabbit  Santa Cruz        sc-7150   \n",
       "336    PARPCLEAVED     PARP1           Mouse         CST           9546   \n",
       "\n",
       "    validation_status  \n",
       "335           Caution  \n",
       "336           Caution  "
      ]
     },
     "execution_count": 13,
     "metadata": {},
     "output_type": "execute_result"
    }
   ],
   "source": [
    "# find duplicate genes \n",
    "antibody_tcga_status[antibody_tcga_status['gene_name'].isin(antibody_tcga_status[antibody_tcga_status.duplicated(subset=['gene_name'])]['gene_name'].to_list())]"
   ]
  },
  {
   "cell_type": "code",
   "execution_count": 14,
   "id": "96de6dad",
   "metadata": {},
   "outputs": [
    {
     "data": {
      "text/html": [
       "<div>\n",
       "<style scoped>\n",
       "    .dataframe tbody tr th:only-of-type {\n",
       "        vertical-align: middle;\n",
       "    }\n",
       "\n",
       "    .dataframe tbody tr th {\n",
       "        vertical-align: top;\n",
       "    }\n",
       "\n",
       "    .dataframe thead th {\n",
       "        text-align: right;\n",
       "    }\n",
       "</style>\n",
       "<table border=\"1\" class=\"dataframe\">\n",
       "  <thead>\n",
       "    <tr style=\"text-align: right;\">\n",
       "      <th></th>\n",
       "      <th>peptide_target</th>\n",
       "      <th>gene_name</th>\n",
       "      <th>antibody_origin</th>\n",
       "      <th>source</th>\n",
       "      <th>catalog_number</th>\n",
       "      <th>validation_status</th>\n",
       "    </tr>\n",
       "  </thead>\n",
       "  <tbody>\n",
       "    <tr>\n",
       "      <th>21</th>\n",
       "      <td>ALPHACATENIN</td>\n",
       "      <td>CTNNA1</td>\n",
       "      <td>Mouse</td>\n",
       "      <td>Millipore</td>\n",
       "      <td>CA1030</td>\n",
       "      <td>Valid</td>\n",
       "    </tr>\n",
       "    <tr>\n",
       "      <th>77</th>\n",
       "      <td>CASPASE8</td>\n",
       "      <td>CASP8</td>\n",
       "      <td>Mouse</td>\n",
       "      <td>CST</td>\n",
       "      <td>9746</td>\n",
       "      <td>Caution</td>\n",
       "    </tr>\n",
       "    <tr>\n",
       "      <th>111</th>\n",
       "      <td>CMET</td>\n",
       "      <td>MET</td>\n",
       "      <td>Mouse</td>\n",
       "      <td>CST</td>\n",
       "      <td>3127</td>\n",
       "      <td>Caution</td>\n",
       "    </tr>\n",
       "    <tr>\n",
       "      <th>172</th>\n",
       "      <td>ERCC1</td>\n",
       "      <td>ERCC1</td>\n",
       "      <td>Mouse</td>\n",
       "      <td>Lab Vision</td>\n",
       "      <td>MS-671</td>\n",
       "      <td>Valid</td>\n",
       "    </tr>\n",
       "    <tr>\n",
       "      <th>392</th>\n",
       "      <td>RB</td>\n",
       "      <td>RB1</td>\n",
       "      <td>Mouse</td>\n",
       "      <td>CST</td>\n",
       "      <td>9309</td>\n",
       "      <td>Caution</td>\n",
       "    </tr>\n",
       "    <tr>\n",
       "      <th>412</th>\n",
       "      <td>SETD2</td>\n",
       "      <td>SETD2</td>\n",
       "      <td>Rabbit</td>\n",
       "      <td>Abcam</td>\n",
       "      <td>ab69836</td>\n",
       "      <td>Caution</td>\n",
       "    </tr>\n",
       "    <tr>\n",
       "      <th>423</th>\n",
       "      <td>SMAC</td>\n",
       "      <td>DIABLO</td>\n",
       "      <td>Mouse</td>\n",
       "      <td>CST</td>\n",
       "      <td>2954</td>\n",
       "      <td>Caution</td>\n",
       "    </tr>\n",
       "    <tr>\n",
       "      <th>427</th>\n",
       "      <td>SNAIL</td>\n",
       "      <td>SNAI1</td>\n",
       "      <td>Mouse</td>\n",
       "      <td>CST</td>\n",
       "      <td>3895</td>\n",
       "      <td>Caution</td>\n",
       "    </tr>\n",
       "  </tbody>\n",
       "</table>\n",
       "</div>"
      ],
      "text/plain": [
       "    peptide_target gene_name antibody_origin      source catalog_number  \\\n",
       "21    ALPHACATENIN    CTNNA1           Mouse   Millipore         CA1030   \n",
       "77        CASPASE8     CASP8           Mouse         CST           9746   \n",
       "111           CMET       MET           Mouse         CST           3127   \n",
       "172          ERCC1     ERCC1           Mouse  Lab Vision         MS-671   \n",
       "392             RB       RB1           Mouse         CST           9309   \n",
       "412          SETD2     SETD2          Rabbit       Abcam        ab69836   \n",
       "423           SMAC    DIABLO           Mouse         CST           2954   \n",
       "427          SNAIL     SNAI1           Mouse         CST           3895   \n",
       "\n",
       "    validation_status  \n",
       "21              Valid  \n",
       "77            Caution  \n",
       "111           Caution  \n",
       "172             Valid  \n",
       "392           Caution  \n",
       "412           Caution  \n",
       "423           Caution  \n",
       "427           Caution  "
      ]
     },
     "execution_count": 14,
     "metadata": {},
     "output_type": "execute_result"
    }
   ],
   "source": [
    "antibody_tcga_status[antibody_tcga_status['gene_name'].isin(['RB1', 'SETD2', 'DIABLO', 'SNAI1', \n",
    "                                                             'ERCC1', 'CASP8', 'MET', 'CTNNA1'])]"
   ]
  },
  {
   "cell_type": "markdown",
   "id": "133802fc",
   "metadata": {},
   "source": [
    "<div class=\"alert alert-block alert-info\">\n",
    "    PARPCLEAVED antibody is used for quality control,  ALPHACATENIN is discontinued - information obtained from Dr. Yiling Lu. \n",
    "</div>"
   ]
  },
  {
   "cell_type": "code",
   "execution_count": 15,
   "id": "767ecc15",
   "metadata": {},
   "outputs": [],
   "source": [
    "antibody_tcga_status = antibody_tcga_status[~(antibody_tcga_status['gene_name'].isin(['CTNNA1']))]"
   ]
  },
  {
   "cell_type": "code",
   "execution_count": 16,
   "id": "d2ad98e9",
   "metadata": {},
   "outputs": [],
   "source": [
    "antibody_tcga_status.drop_duplicates(subset='gene_name', keep=\"first\", inplace=True)"
   ]
  },
  {
   "cell_type": "code",
   "execution_count": 17,
   "id": "32c61b1b",
   "metadata": {},
   "outputs": [
    {
     "data": {
      "text/plain": [
       "Valid      110\n",
       "Caution     63\n",
       "Name: validation_status, dtype: int64"
      ]
     },
     "execution_count": 17,
     "metadata": {},
     "output_type": "execute_result"
    }
   ],
   "source": [
    "antibody_tcga_status['validation_status'].value_counts()"
   ]
  },
  {
   "cell_type": "code",
   "execution_count": 18,
   "id": "f7b91f6b",
   "metadata": {},
   "outputs": [
    {
     "data": {
      "text/plain": [
       "Valid      0.635838\n",
       "Caution    0.364162\n",
       "Name: validation_status, dtype: float64"
      ]
     },
     "execution_count": 18,
     "metadata": {},
     "output_type": "execute_result"
    }
   ],
   "source": [
    "antibody_tcga_status['validation_status'].value_counts(normalize=True)"
   ]
  },
  {
   "cell_type": "code",
   "execution_count": 19,
   "id": "f2e6b726",
   "metadata": {},
   "outputs": [
    {
     "data": {
      "text/html": [
       "<div>\n",
       "<style scoped>\n",
       "    .dataframe tbody tr th:only-of-type {\n",
       "        vertical-align: middle;\n",
       "    }\n",
       "\n",
       "    .dataframe tbody tr th {\n",
       "        vertical-align: top;\n",
       "    }\n",
       "\n",
       "    .dataframe thead th {\n",
       "        text-align: right;\n",
       "    }\n",
       "</style>\n",
       "<table border=\"1\" class=\"dataframe\">\n",
       "  <thead>\n",
       "    <tr style=\"text-align: right;\">\n",
       "      <th></th>\n",
       "      <th>PeptideTarget</th>\n",
       "      <th>GeneName</th>\n",
       "      <th>AntibodyOrigin</th>\n",
       "      <th>Source</th>\n",
       "      <th>CatalogNumber</th>\n",
       "      <th>ValidationStatus</th>\n",
       "    </tr>\n",
       "  </thead>\n",
       "  <tbody>\n",
       "    <tr>\n",
       "      <th>0</th>\n",
       "      <td>1433BETA</td>\n",
       "      <td>YWHAB</td>\n",
       "      <td>Rabbit</td>\n",
       "      <td>Santa Cruz</td>\n",
       "      <td>sc-628</td>\n",
       "      <td>Valid</td>\n",
       "    </tr>\n",
       "    <tr>\n",
       "      <th>1</th>\n",
       "      <td>1433EPSILON</td>\n",
       "      <td>YWHAE</td>\n",
       "      <td>Mouse</td>\n",
       "      <td>Santa Cruz</td>\n",
       "      <td>sc-23957</td>\n",
       "      <td>Use with Caution</td>\n",
       "    </tr>\n",
       "  </tbody>\n",
       "</table>\n",
       "</div>"
      ],
      "text/plain": [
       "  PeptideTarget GeneName AntibodyOrigin      Source CatalogNumber  \\\n",
       "0      1433BETA    YWHAB         Rabbit  Santa Cruz        sc-628   \n",
       "1   1433EPSILON    YWHAE          Mouse  Santa Cruz      sc-23957   \n",
       "\n",
       "   ValidationStatus  \n",
       "0             Valid  \n",
       "1  Use with Caution  "
      ]
     },
     "execution_count": 19,
     "metadata": {},
     "output_type": "execute_result"
    }
   ],
   "source": [
    "antibody_tcga_status.rename(columns={'peptide_target': 'PeptideTarget', 'gene_name': 'GeneName', \n",
    "                                     'antibody_origin': 'AntibodyOrigin', 'source': 'Source', \n",
    "                                     'catalog_number': 'CatalogNumber', 'validation_status': 'ValidationStatus'}, inplace=True)\n",
    "antibody_tcga_status.replace('Caution', 'Use with Caution', inplace=True)\n",
    "antibody_tcga_status.to_csv(file_table_s1, index=False)\n",
    "antibody_tcga_status[:2]"
   ]
  },
  {
   "cell_type": "code",
   "execution_count": 20,
   "id": "0d121fdb",
   "metadata": {},
   "outputs": [],
   "source": [
    "antibody_tcga_status_subset = antibody_tcga_status[['PeptideTarget', 'GeneName', 'ValidationStatus']]"
   ]
  },
  {
   "cell_type": "code",
   "execution_count": 21,
   "id": "2fa265f7",
   "metadata": {},
   "outputs": [
    {
     "data": {
      "text/html": [
       "<div>\n",
       "<style scoped>\n",
       "    .dataframe tbody tr th:only-of-type {\n",
       "        vertical-align: middle;\n",
       "    }\n",
       "\n",
       "    .dataframe tbody tr th {\n",
       "        vertical-align: top;\n",
       "    }\n",
       "\n",
       "    .dataframe thead th {\n",
       "        text-align: right;\n",
       "    }\n",
       "</style>\n",
       "<table border=\"1\" class=\"dataframe\">\n",
       "  <thead>\n",
       "    <tr style=\"text-align: right;\">\n",
       "      <th></th>\n",
       "      <th>PeptideTarget</th>\n",
       "      <th>GeneName</th>\n",
       "      <th>ValidationStatus</th>\n",
       "    </tr>\n",
       "  </thead>\n",
       "  <tbody>\n",
       "    <tr>\n",
       "      <th>0</th>\n",
       "      <td>1433BETA</td>\n",
       "      <td>YWHAB</td>\n",
       "      <td>Valid</td>\n",
       "    </tr>\n",
       "    <tr>\n",
       "      <th>1</th>\n",
       "      <td>1433EPSILON</td>\n",
       "      <td>YWHAE</td>\n",
       "      <td>Use with Caution</td>\n",
       "    </tr>\n",
       "  </tbody>\n",
       "</table>\n",
       "</div>"
      ],
      "text/plain": [
       "  PeptideTarget GeneName  ValidationStatus\n",
       "0      1433BETA    YWHAB             Valid\n",
       "1   1433EPSILON    YWHAE  Use with Caution"
      ]
     },
     "execution_count": 21,
     "metadata": {},
     "output_type": "execute_result"
    }
   ],
   "source": [
    "file_sourceData_Figure1 = get_table_path('SourceDataForFigure1.csv')\n",
    "antibody_tcga_status_subset.to_csv(file_sourceData_Figure1, index=False)\n",
    "antibody_tcga_status_subset[:2]"
   ]
  },
  {
   "cell_type": "code",
   "execution_count": 22,
   "id": "0b471775",
   "metadata": {},
   "outputs": [
    {
     "data": {
      "image/png": "[encoded data removed]",
      "text/plain": [
       "<Figure size 500x200 with 1 Axes>"
      ]
     },
     "metadata": {
      "needs_background": "light"
     },
     "output_type": "display_data"
    }
   ],
   "source": [
    "palette = [graphing_utils.get_color(color) for color in ['orange', 'green']]\n",
    "args = graphing_utils.additional_plot_parameters(xlab=\"Percentage (%)\", ylab=\"Validation Status\", \n",
    "                                                             palette = palette)\n",
    "percentage = lambda i: len(i) / float(len(x)) * 100\n",
    "with plt.rc_context({'axes.linewidth': 0.8, 'axes.labelsize':12, 'axes.spines.left': True, 'xtick.labelsize':10, \n",
    "                     'ytick.labelsize':11}):\n",
    "    figure, ax = plt.subplots(1, 1, figsize=(5, 2))\n",
    "    customized_plot.draw_countplot(antibody_tcga_status_subset, ax, args)\n",
    "    figure.savefig(get_figure_path('Figure1.svg'), bbox_inches='tight', dpi=300)"
   ]
  },
  {
   "cell_type": "markdown",
   "id": "bca980fe",
   "metadata": {},
   "source": [
    "<div class=\"alert alert-block alert-success\">\n",
    "    ~36% of the antibodies used for TCGA RPPA studies are not reliable!!\n",
    "</div>"
   ]
  }
 ],
 "metadata": {
  "kernelspec": {
   "display_name": "Python 3",
   "language": "python",
   "name": "python3"
  },
  "language_info": {
   "codemirror_mode": {
    "name": "ipython",
    "version": 3
   },
   "file_extension": ".py",
   "mimetype": "text/x-python",
   "name": "python",
   "nbconvert_exporter": "python",
   "pygments_lexer": "ipython3",
   "version": "3.7.10"
  }
 },
 "nbformat": 4,
 "nbformat_minor": 5
}
