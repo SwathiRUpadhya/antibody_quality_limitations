{
 "cells": [
  {
   "cell_type": "markdown",
   "id": "f103f6a5",
   "metadata": {},
   "source": [
    "## Validating mRNA-protein (RPPA and MS) correlation results using linear regression"
   ]
  },
  {
   "cell_type": "markdown",
   "id": "f1c52bf1",
   "metadata": {},
   "source": [
    "**Input:**  \n",
    "- Source data for figures 1 and 2 \n",
    "\n",
    "**Output:**  \n",
    "- Figure S1"
   ]
  },
  {
   "cell_type": "markdown",
   "id": "8795b079",
   "metadata": {},
   "source": [
    "### Import Packages"
   ]
  },
  {
   "cell_type": "code",
   "execution_count": 1,
   "id": "de2d1afc",
   "metadata": {},
   "outputs": [],
   "source": [
    "import os\n",
    "import numpy as np\n",
    "import pandas as pd \n",
    "import seaborn as sns \n",
    "from matplotlib import pyplot as plt\n",
    "%matplotlib inline\n",
    "\n",
    "import graphing_utils\n",
    "import customized_plot "
   ]
  },
  {
   "cell_type": "code",
   "execution_count": 2,
   "id": "b5e70e6e",
   "metadata": {},
   "outputs": [],
   "source": [
    "get_table_path = lambda fname: os.path.normpath('../tables/' + fname)\n",
    "get_figure_path = lambda fname: os.path.normpath('../figures/' + fname)\n",
    "\n",
    "file_sourceData_Figure2 = get_table_path('SourceDataForFigure2.csv')\n",
    "file_sourceData_Figure3 = get_table_path('SourceDataForFigure3.csv')\n",
    "file_sourceData_Figure4 = get_table_path('SourceDataForFigure4.csv')\n",
    "file_sourceData_FigureS1 = get_table_path('SourceDataForFigureS1.csv')"
   ]
  },
  {
   "cell_type": "markdown",
   "id": "ca8bf0b8",
   "metadata": {},
   "source": [
    "### Load Data"
   ]
  },
  {
   "cell_type": "code",
   "execution_count": 3,
   "id": "021d1b3c",
   "metadata": {},
   "outputs": [
    {
     "data": {
      "text/html": [
       "<div>\n",
       "<style scoped>\n",
       "    .dataframe tbody tr th:only-of-type {\n",
       "        vertical-align: middle;\n",
       "    }\n",
       "\n",
       "    .dataframe tbody tr th {\n",
       "        vertical-align: top;\n",
       "    }\n",
       "\n",
       "    .dataframe thead th {\n",
       "        text-align: right;\n",
       "    }\n",
       "</style>\n",
       "<table border=\"1\" class=\"dataframe\">\n",
       "  <thead>\n",
       "    <tr style=\"text-align: right;\">\n",
       "      <th></th>\n",
       "      <th>BrCa</th>\n",
       "      <th>Ovarian</th>\n",
       "      <th>CoadRead</th>\n",
       "      <th>UCEC</th>\n",
       "      <th>KIRC</th>\n",
       "      <th>LGG</th>\n",
       "      <th>ValidationStatus</th>\n",
       "    </tr>\n",
       "  </thead>\n",
       "  <tbody>\n",
       "    <tr>\n",
       "      <th>ABL1</th>\n",
       "      <td>0.213988</td>\n",
       "      <td>0.312046</td>\n",
       "      <td>0.106767</td>\n",
       "      <td>0.137492</td>\n",
       "      <td>0.380421</td>\n",
       "      <td>0.052327</td>\n",
       "      <td>Valid</td>\n",
       "    </tr>\n",
       "    <tr>\n",
       "      <th>ACVRL1</th>\n",
       "      <td>0.142387</td>\n",
       "      <td>0.026260</td>\n",
       "      <td>0.119359</td>\n",
       "      <td>0.158536</td>\n",
       "      <td>-0.087107</td>\n",
       "      <td>0.175950</td>\n",
       "      <td>Use with Caution</td>\n",
       "    </tr>\n",
       "  </tbody>\n",
       "</table>\n",
       "</div>"
      ],
      "text/plain": [
       "            BrCa   Ovarian  CoadRead      UCEC      KIRC       LGG  \\\n",
       "ABL1    0.213988  0.312046  0.106767  0.137492  0.380421  0.052327   \n",
       "ACVRL1  0.142387  0.026260  0.119359  0.158536 -0.087107  0.175950   \n",
       "\n",
       "        ValidationStatus  \n",
       "ABL1               Valid  \n",
       "ACVRL1  Use with Caution  "
      ]
     },
     "execution_count": 3,
     "metadata": {},
     "output_type": "execute_result"
    }
   ],
   "source": [
    "mRNA_RPPA_correlation = pd.read_csv(file_sourceData_Figure2, index_col=0)\n",
    "mRNA_RPPA_correlation[:2]"
   ]
  },
  {
   "cell_type": "code",
   "execution_count": 4,
   "id": "9457df2e",
   "metadata": {},
   "outputs": [
    {
     "data": {
      "text/html": [
       "<div>\n",
       "<style scoped>\n",
       "    .dataframe tbody tr th:only-of-type {\n",
       "        vertical-align: middle;\n",
       "    }\n",
       "\n",
       "    .dataframe tbody tr th {\n",
       "        vertical-align: top;\n",
       "    }\n",
       "\n",
       "    .dataframe thead th {\n",
       "        text-align: right;\n",
       "    }\n",
       "</style>\n",
       "<table border=\"1\" class=\"dataframe\">\n",
       "  <thead>\n",
       "    <tr style=\"text-align: right;\">\n",
       "      <th></th>\n",
       "      <th>BrCa (2016)</th>\n",
       "      <th>Ovarian</th>\n",
       "      <th>CRC (2014)</th>\n",
       "      <th>EC</th>\n",
       "      <th>ccRCC</th>\n",
       "      <th>GBM</th>\n",
       "      <th>ValidationStatus</th>\n",
       "    </tr>\n",
       "  </thead>\n",
       "  <tbody>\n",
       "    <tr>\n",
       "      <th>ABL1</th>\n",
       "      <td>0.150906</td>\n",
       "      <td>NaN</td>\n",
       "      <td>NaN</td>\n",
       "      <td>0.406298</td>\n",
       "      <td>0.594155</td>\n",
       "      <td>0.484601</td>\n",
       "      <td>Valid</td>\n",
       "    </tr>\n",
       "    <tr>\n",
       "      <th>ADAR</th>\n",
       "      <td>0.579661</td>\n",
       "      <td>0.381322</td>\n",
       "      <td>0.407009</td>\n",
       "      <td>0.675960</td>\n",
       "      <td>0.307923</td>\n",
       "      <td>0.378615</td>\n",
       "      <td>Valid</td>\n",
       "    </tr>\n",
       "  </tbody>\n",
       "</table>\n",
       "</div>"
      ],
      "text/plain": [
       "      BrCa (2016)   Ovarian  CRC (2014)        EC     ccRCC       GBM  \\\n",
       "ABL1     0.150906       NaN         NaN  0.406298  0.594155  0.484601   \n",
       "ADAR     0.579661  0.381322    0.407009  0.675960  0.307923  0.378615   \n",
       "\n",
       "     ValidationStatus  \n",
       "ABL1            Valid  \n",
       "ADAR            Valid  "
      ]
     },
     "execution_count": 4,
     "metadata": {},
     "output_type": "execute_result"
    }
   ],
   "source": [
    "mRNA_MS_correlation = pd.read_csv(file_sourceData_Figure3, index_col=0)\n",
    "mRNA_MS_correlation[:2]"
   ]
  },
  {
   "cell_type": "code",
   "execution_count": 5,
   "id": "ecb2a0ac",
   "metadata": {},
   "outputs": [
    {
     "data": {
      "text/html": [
       "<div>\n",
       "<style scoped>\n",
       "    .dataframe tbody tr th:only-of-type {\n",
       "        vertical-align: middle;\n",
       "    }\n",
       "\n",
       "    .dataframe tbody tr th {\n",
       "        vertical-align: top;\n",
       "    }\n",
       "\n",
       "    .dataframe thead th {\n",
       "        text-align: right;\n",
       "    }\n",
       "</style>\n",
       "<table border=\"1\" class=\"dataframe\">\n",
       "  <thead>\n",
       "    <tr style=\"text-align: right;\">\n",
       "      <th></th>\n",
       "      <th>mRNA_RPPA_cor</th>\n",
       "      <th>mRNA_MS_cor</th>\n",
       "      <th>ValidationStatus</th>\n",
       "    </tr>\n",
       "  </thead>\n",
       "  <tbody>\n",
       "    <tr>\n",
       "      <th>ACACA</th>\n",
       "      <td>0.566263</td>\n",
       "      <td>0.371653</td>\n",
       "      <td>Use with Caution</td>\n",
       "    </tr>\n",
       "    <tr>\n",
       "      <th>ACTB</th>\n",
       "      <td>0.386765</td>\n",
       "      <td>0.481398</td>\n",
       "      <td>Use with Caution</td>\n",
       "    </tr>\n",
       "  </tbody>\n",
       "</table>\n",
       "</div>"
      ],
      "text/plain": [
       "       mRNA_RPPA_cor  mRNA_MS_cor  ValidationStatus\n",
       "ACACA       0.566263     0.371653  Use with Caution\n",
       "ACTB        0.386765     0.481398  Use with Caution"
      ]
     },
     "execution_count": 5,
     "metadata": {},
     "output_type": "execute_result"
    }
   ],
   "source": [
    "ccle_mRNA_protein_correlation = pd.read_csv(file_sourceData_Figure4, index_col=0)\n",
    "ccle_mRNA_protein_correlation[:2]"
   ]
  },
  {
   "cell_type": "markdown",
   "id": "65e93dac",
   "metadata": {},
   "source": [
    "#### Performing linear regression to obtain R-squared"
   ]
  },
  {
   "cell_type": "code",
   "execution_count": 6,
   "id": "5517002b",
   "metadata": {},
   "outputs": [],
   "source": [
    "import statsmodels.api as sm\n",
    "\n",
    "# regressing y on x \n",
    "def get_r2_after_model_fit(x, y):\n",
    "#     x_subset, y_subset = cu.get_matched_index(x, y) \n",
    "    print(\"Common proteins: \", x.shape[0])\n",
    "    est = sm.OLS(y, sm.add_constant(x.astype(float))).fit()\n",
    "    return round(est.rsquared_adj *100, 2)"
   ]
  },
  {
   "cell_type": "code",
   "execution_count": 7,
   "id": "6a9754bb",
   "metadata": {},
   "outputs": [
    {
     "name": "stdout",
     "output_type": "stream",
     "text": [
      "Common proteins:  152\n",
      "Common proteins:  152\n",
      "Common proteins:  151\n",
      "Common proteins:  151\n",
      "Common proteins:  154\n",
      "Common proteins:  146\n",
      "Common proteins:  123\n"
     ]
    },
    {
     "name": "stderr",
     "output_type": "stream",
     "text": [
      "C:\\Users\\swath\\Anaconda3\\envs\\thesis\\lib\\site-packages\\statsmodels\\tsa\\tsatools.py:142: FutureWarning: In a future version of pandas all arguments of concat except for the argument 'objs' will be keyword-only\n",
      "  x = pd.concat(x[::order], 1)\n"
     ]
    }
   ],
   "source": [
    "r2_antibody_validation_status_RPPA = {}\n",
    "mRNA_RPPA_correlation['ValidationStatus'].replace({'Valid': 1, 'Use with Caution': 0}, inplace=True)\n",
    "ccle_mRNA_protein_correlation['ValidationStatus'].replace({'Valid': 1, 'Use with Caution': 0}, inplace=True)\n",
    "\n",
    "r2_antibody_validation_status_RPPA['BrCa'] = get_r2_after_model_fit(x=mRNA_RPPA_correlation.dropna(subset=['BrCa'])['ValidationStatus'], \n",
    "                                                               y=mRNA_RPPA_correlation['BrCa'].dropna())\n",
    "r2_antibody_validation_status_RPPA['Ovarian'] = get_r2_after_model_fit(x=mRNA_RPPA_correlation.dropna(subset=['Ovarian'])['ValidationStatus'], \n",
    "                                                                  y=mRNA_RPPA_correlation['Ovarian'].dropna())\n",
    "r2_antibody_validation_status_RPPA['CoadRead'] = get_r2_after_model_fit(x=mRNA_RPPA_correlation.dropna(subset=['CoadRead'])['ValidationStatus'], \n",
    "                                                                   y=mRNA_RPPA_correlation['CoadRead'].dropna())\n",
    "r2_antibody_validation_status_RPPA['UCEC'] = get_r2_after_model_fit(x=mRNA_RPPA_correlation.dropna(subset=['UCEC'])['ValidationStatus'], \n",
    "                                                               y=mRNA_RPPA_correlation['UCEC'].dropna())\n",
    "r2_antibody_validation_status_RPPA['KIRC'] = get_r2_after_model_fit(x=mRNA_RPPA_correlation.dropna(subset=['KIRC'])['ValidationStatus'], \n",
    "                                                               y=mRNA_RPPA_correlation['KIRC'].dropna())\n",
    "r2_antibody_validation_status_RPPA['LGG'] = get_r2_after_model_fit(x=mRNA_RPPA_correlation.dropna(subset=['LGG'])['ValidationStatus'], \n",
    "                                                              y=mRNA_RPPA_correlation['LGG'].dropna())\n",
    "r2_antibody_validation_status_RPPA['CCLE'] = get_r2_after_model_fit(x=ccle_mRNA_protein_correlation.dropna(subset=['mRNA_RPPA_cor'])['ValidationStatus'], \n",
    "                                                              y=ccle_mRNA_protein_correlation['mRNA_RPPA_cor'].dropna())"
   ]
  },
  {
   "cell_type": "code",
   "execution_count": 8,
   "id": "f8998e47",
   "metadata": {},
   "outputs": [
    {
     "data": {
      "text/plain": [
       "{'BrCa': 7.87,\n",
       " 'Ovarian': 4.16,\n",
       " 'CoadRead': 7.49,\n",
       " 'UCEC': 4.66,\n",
       " 'KIRC': 10.48,\n",
       " 'LGG': 6.0,\n",
       " 'CCLE': 3.45}"
      ]
     },
     "execution_count": 8,
     "metadata": {},
     "output_type": "execute_result"
    }
   ],
   "source": [
    "r2_antibody_validation_status_RPPA"
   ]
  },
  {
   "cell_type": "code",
   "execution_count": 9,
   "id": "2aa9b136",
   "metadata": {},
   "outputs": [
    {
     "name": "stdout",
     "output_type": "stream",
     "text": [
      "Mean:  6.78\n"
     ]
    }
   ],
   "source": [
    "print(\"Mean: \", round((sum(r2_antibody_validation_status_RPPA.values()) - 3.45) / (len(r2_antibody_validation_status_RPPA) - 1), 2))"
   ]
  },
  {
   "cell_type": "code",
   "execution_count": 10,
   "id": "bbdf2466",
   "metadata": {},
   "outputs": [
    {
     "name": "stdout",
     "output_type": "stream",
     "text": [
      "Mean:  6.3\n"
     ]
    },
    {
     "data": {
      "text/plain": [
       "{'BrCa': 7.87,\n",
       " 'Ovarian': 4.16,\n",
       " 'CoadRead': 7.49,\n",
       " 'UCEC': 4.66,\n",
       " 'KIRC': 10.48,\n",
       " 'LGG': 6.0,\n",
       " 'CCLE': 3.45}"
      ]
     },
     "execution_count": 10,
     "metadata": {},
     "output_type": "execute_result"
    }
   ],
   "source": [
    "print(\"Mean: \", round(sum(r2_antibody_validation_status_RPPA.values()) / len(r2_antibody_validation_status_RPPA), 2))\n",
    "r2_antibody_validation_status_RPPA"
   ]
  },
  {
   "cell_type": "code",
   "execution_count": 11,
   "id": "42e8e363",
   "metadata": {},
   "outputs": [
    {
     "name": "stdout",
     "output_type": "stream",
     "text": [
      "Common proteins:  121\n",
      "Common proteins:  107\n",
      "Common proteins:  69\n",
      "Common proteins:  141\n",
      "Common proteins:  122\n",
      "Common proteins:  131\n",
      "Common proteins:  123\n"
     ]
    }
   ],
   "source": [
    "r2_antibody_validation_status_MS = {}\n",
    "mRNA_MS_correlation['ValidationStatus'].replace({'Valid': 1, 'Use with Caution': 0}, inplace=True)\n",
    "ccle_mRNA_protein_correlation['ValidationStatus'].replace({'Valid': 1, 'Use with Caution': 0}, inplace=True)\n",
    "\n",
    "r2_antibody_validation_status_MS['BrCa (2016)'] = get_r2_after_model_fit(x=mRNA_MS_correlation.dropna(subset=['BrCa (2016)'])['ValidationStatus'], \n",
    "                                                               y=mRNA_MS_correlation['BrCa (2016)'].dropna())\n",
    "r2_antibody_validation_status_MS['Ovarian'] = get_r2_after_model_fit(x=mRNA_MS_correlation.dropna(subset=['Ovarian'])['ValidationStatus'], \n",
    "                                                                  y=mRNA_MS_correlation['Ovarian'].dropna())\n",
    "r2_antibody_validation_status_MS['CRC (2014)'] = get_r2_after_model_fit(x=mRNA_MS_correlation.dropna(subset=['CRC (2014)'])['ValidationStatus'], \n",
    "                                                                   y=mRNA_MS_correlation['CRC (2014)'].dropna())\n",
    "r2_antibody_validation_status_MS['EC'] = get_r2_after_model_fit(x=mRNA_MS_correlation.dropna(subset=['EC'])['ValidationStatus'], \n",
    "                                                               y=mRNA_MS_correlation['EC'].dropna())\n",
    "r2_antibody_validation_status_MS['ccRCC'] = get_r2_after_model_fit(x=mRNA_MS_correlation.dropna(subset=['ccRCC'])['ValidationStatus'], \n",
    "                                                               y=mRNA_MS_correlation['ccRCC'].dropna())\n",
    "r2_antibody_validation_status_MS['GBM'] = get_r2_after_model_fit(x=mRNA_MS_correlation.dropna(subset=['GBM'])['ValidationStatus'], \n",
    "                                                              y=mRNA_MS_correlation['GBM'].dropna())\n",
    "r2_antibody_validation_status_MS['CCLE'] = get_r2_after_model_fit(x=ccle_mRNA_protein_correlation.dropna(subset=['mRNA_MS_cor'])['ValidationStatus'], \n",
    "                                                              y=ccle_mRNA_protein_correlation['mRNA_MS_cor'].dropna())"
   ]
  },
  {
   "cell_type": "code",
   "execution_count": 12,
   "id": "87c22173",
   "metadata": {},
   "outputs": [
    {
     "data": {
      "text/plain": [
       "{'BrCa (2016)': -0.03,\n",
       " 'Ovarian': -0.54,\n",
       " 'CRC (2014)': 4.36,\n",
       " 'EC': -0.62,\n",
       " 'ccRCC': -0.65,\n",
       " 'GBM': -0.29,\n",
       " 'CCLE': 1.71}"
      ]
     },
     "execution_count": 12,
     "metadata": {},
     "output_type": "execute_result"
    }
   ],
   "source": [
    "r2_antibody_validation_status_MS"
   ]
  },
  {
   "cell_type": "code",
   "execution_count": 13,
   "id": "4b269558",
   "metadata": {},
   "outputs": [
    {
     "name": "stdout",
     "output_type": "stream",
     "text": [
      "Mean:  0.37\n"
     ]
    }
   ],
   "source": [
    "print(\"Mean: \", round((sum(r2_antibody_validation_status_MS.values()) - 1.71) / (len(r2_antibody_validation_status_MS) - 1), 2))"
   ]
  },
  {
   "cell_type": "code",
   "execution_count": 14,
   "id": "8ea6b43a",
   "metadata": {},
   "outputs": [
    {
     "data": {
      "text/html": [
       "<div>\n",
       "<style scoped>\n",
       "    .dataframe tbody tr th:only-of-type {\n",
       "        vertical-align: middle;\n",
       "    }\n",
       "\n",
       "    .dataframe tbody tr th {\n",
       "        vertical-align: top;\n",
       "    }\n",
       "\n",
       "    .dataframe thead th {\n",
       "        text-align: right;\n",
       "    }\n",
       "</style>\n",
       "<table border=\"1\" class=\"dataframe\">\n",
       "  <thead>\n",
       "    <tr style=\"text-align: right;\">\n",
       "      <th></th>\n",
       "      <th>mRNA-protein (MS) correlation</th>\n",
       "      <th>mRNA-protein (RPPA) correlation</th>\n",
       "    </tr>\n",
       "  </thead>\n",
       "  <tbody>\n",
       "    <tr>\n",
       "      <th>Brain (2015, 2020)</th>\n",
       "      <td>-0.29</td>\n",
       "      <td>6.00</td>\n",
       "    </tr>\n",
       "    <tr>\n",
       "      <th>Breast (2012, 2016)</th>\n",
       "      <td>-0.03</td>\n",
       "      <td>7.87</td>\n",
       "    </tr>\n",
       "    <tr>\n",
       "      <th>CCLE</th>\n",
       "      <td>1.71</td>\n",
       "      <td>3.45</td>\n",
       "    </tr>\n",
       "    <tr>\n",
       "      <th>Colorectal (2012, 2014)</th>\n",
       "      <td>4.36</td>\n",
       "      <td>7.49</td>\n",
       "    </tr>\n",
       "    <tr>\n",
       "      <th>Endometrial (2013, 2020)</th>\n",
       "      <td>-0.62</td>\n",
       "      <td>4.66</td>\n",
       "    </tr>\n",
       "    <tr>\n",
       "      <th>Kidney (2013, 2019)</th>\n",
       "      <td>-0.65</td>\n",
       "      <td>10.48</td>\n",
       "    </tr>\n",
       "    <tr>\n",
       "      <th>Ovarian (2011, 2016)</th>\n",
       "      <td>-0.54</td>\n",
       "      <td>4.16</td>\n",
       "    </tr>\n",
       "  </tbody>\n",
       "</table>\n",
       "</div>"
      ],
      "text/plain": [
       "                          mRNA-protein (MS) correlation  \\\n",
       "Brain (2015, 2020)                                -0.29   \n",
       "Breast (2012, 2016)                               -0.03   \n",
       "CCLE                                               1.71   \n",
       "Colorectal (2012, 2014)                            4.36   \n",
       "Endometrial (2013, 2020)                          -0.62   \n",
       "Kidney (2013, 2019)                               -0.65   \n",
       "Ovarian (2011, 2016)                              -0.54   \n",
       "\n",
       "                          mRNA-protein (RPPA) correlation  \n",
       "Brain (2015, 2020)                                   6.00  \n",
       "Breast (2012, 2016)                                  7.87  \n",
       "CCLE                                                 3.45  \n",
       "Colorectal (2012, 2014)                              7.49  \n",
       "Endometrial (2013, 2020)                             4.66  \n",
       "Kidney (2013, 2019)                                 10.48  \n",
       "Ovarian (2011, 2016)                                 4.16  "
      ]
     },
     "execution_count": 14,
     "metadata": {},
     "output_type": "execute_result"
    }
   ],
   "source": [
    "r2 = pd.concat([pd.DataFrame.from_dict(r2_antibody_validation_status_MS, \n",
    "                                       orient='index').rename(columns={0: 'mRNA-protein (MS) correlation'}), \n",
    "                pd.DataFrame.from_dict(r2_antibody_validation_status_RPPA, \n",
    "                                       orient='index').rename(columns={0: 'mRNA-protein (RPPA) correlation'})],\n",
    "               axis=1).rename(index ={'BrCa (2016)' : 'Breast (2012, 2016)', 'BrCa': 'Breast (2012, 2016)', \n",
    "                                      'CRC (2014)': 'Colorectal (2012, 2014)', 'CoadRead': 'Colorectal (2012, 2014)', \n",
    "                                      'UCEC': 'Endometrial (2013, 2020)', 'EC': 'Endometrial (2013, 2020)', \n",
    "                                      'LGG':'Brain (2015, 2020)', 'GBM': 'Brain (2015, 2020)',\n",
    "                                      'KIRC': 'Kidney (2013, 2019)', 'ccRCC': 'Kidney (2013, 2019)', 'Ovarian': 'Ovarian (2011, 2016)'})\n",
    "r2 = r2.groupby(r2.index).mean()\n",
    "r2"
   ]
  },
  {
   "cell_type": "code",
   "execution_count": 15,
   "id": "797412d4",
   "metadata": {},
   "outputs": [
    {
     "data": {
      "text/plain": [
       "mRNA-protein (MS) correlation      0.371667\n",
       "mRNA-protein (RPPA) correlation    6.776667\n",
       "dtype: float64"
      ]
     },
     "execution_count": 15,
     "metadata": {},
     "output_type": "execute_result"
    }
   ],
   "source": [
    "r2.drop(index=['CCLE']).mean()"
   ]
  },
  {
   "cell_type": "code",
   "execution_count": 16,
   "id": "16fb35da",
   "metadata": {},
   "outputs": [
    {
     "data": {
      "text/html": [
       "<div>\n",
       "<style scoped>\n",
       "    .dataframe tbody tr th:only-of-type {\n",
       "        vertical-align: middle;\n",
       "    }\n",
       "\n",
       "    .dataframe tbody tr th {\n",
       "        vertical-align: top;\n",
       "    }\n",
       "\n",
       "    .dataframe thead th {\n",
       "        text-align: right;\n",
       "    }\n",
       "</style>\n",
       "<table border=\"1\" class=\"dataframe\">\n",
       "  <thead>\n",
       "    <tr style=\"text-align: right;\">\n",
       "      <th></th>\n",
       "      <th>Study</th>\n",
       "      <th>Response variable in linear regression</th>\n",
       "      <th>R2</th>\n",
       "    </tr>\n",
       "  </thead>\n",
       "  <tbody>\n",
       "    <tr>\n",
       "      <th>0</th>\n",
       "      <td>Brain (2015, 2020)</td>\n",
       "      <td>mRNA-protein (MS) correlation</td>\n",
       "      <td>-0.29</td>\n",
       "    </tr>\n",
       "    <tr>\n",
       "      <th>1</th>\n",
       "      <td>Breast (2012, 2016)</td>\n",
       "      <td>mRNA-protein (MS) correlation</td>\n",
       "      <td>-0.03</td>\n",
       "    </tr>\n",
       "  </tbody>\n",
       "</table>\n",
       "</div>"
      ],
      "text/plain": [
       "                 Study Response variable in linear regression    R2\n",
       "0   Brain (2015, 2020)          mRNA-protein (MS) correlation -0.29\n",
       "1  Breast (2012, 2016)          mRNA-protein (MS) correlation -0.03"
      ]
     },
     "execution_count": 16,
     "metadata": {},
     "output_type": "execute_result"
    }
   ],
   "source": [
    "r2_melted  = pd.melt(r2.reset_index().rename(columns={'index': 'Study'}), \n",
    "                     id_vars='Study', value_vars=['mRNA-protein (MS) correlation', 'mRNA-protein (RPPA) correlation'], \n",
    "                     var_name='Response variable in linear regression', value_name='R2')\n",
    "r2_melted.to_csv(file_sourceData_FigureS1, index=False)\n",
    "r2_melted[:2]"
   ]
  },
  {
   "cell_type": "code",
   "execution_count": 17,
   "id": "c93ce162",
   "metadata": {},
   "outputs": [],
   "source": [
    "palette = [graphing_utils.get_color(color) for color in ['denim-blue', 'dark-sky-blue']]\n",
    "args = graphing_utils.additional_plot_parameters(xlab=\"R-squared (%)\", ylab=None, palette = palette)"
   ]
  },
  {
   "cell_type": "code",
   "execution_count": 18,
   "id": "45589616",
   "metadata": {},
   "outputs": [],
   "source": [
    "get_order = lambda df: df.groupby(by=['Study']).max().sort_values('R2').index.values"
   ]
  },
  {
   "cell_type": "code",
   "execution_count": 19,
   "id": "fc55d630",
   "metadata": {},
   "outputs": [
    {
     "data": {
      "image/png": "[encoded data removed]",
      "text/plain": [
       "<Figure size 500x300 with 1 Axes>"
      ]
     },
     "metadata": {
      "needs_background": "light"
     },
     "output_type": "display_data"
    }
   ],
   "source": [
    "with plt.rc_context({'axes.linewidth': 0.8, 'axes.labelsize':12, 'axes.spines.left': True, 'xtick.labelsize':10, \n",
    "                     'ytick.labelsize':11}):\n",
    "    figure, ax = plt.subplots(1, 1, figsize=(5, 3))\n",
    "    sns.stripplot(x='R2', y='Study', data=r2_melted, ax=ax, hue='Response variable in linear regression', s=7, \n",
    "                  order=get_order(r2_melted),\n",
    "                  palette= args.palette, )\n",
    "    ax.legend(title='Response variable', \n",
    "              title_fontsize='medium', framealpha=1, \n",
    "              facecolor='white', bbox_to_anchor = (1.75, 1))._legend_box.align = \"left\"\n",
    "    customized_plot.customise_plot(ax, args)\n",
    "    figure.savefig(get_figure_path('FigureS1.svg'), bbox_inches='tight', dpi=300)"
   ]
  },
  {
   "cell_type": "markdown",
   "id": "c3dba4c9",
   "metadata": {},
   "source": [
    "<div class=\"alert alert-block alert-success\">\n",
    "    mRNA-protein (RPPA) correlation is better explained by antibody validation status compared to mRNA-protein (MS) correlation. \n",
    "</div>"
   ]
  }
 ],
 "metadata": {
  "kernelspec": {
   "display_name": "Python 3",
   "language": "python",
   "name": "python3"
  },
  "language_info": {
   "codemirror_mode": {
    "name": "ipython",
    "version": 3
   },
   "file_extension": ".py",
   "mimetype": "text/x-python",
   "name": "python",
   "nbconvert_exporter": "python",
   "pygments_lexer": "ipython3",
   "version": "3.7.10"
  }
 },
 "nbformat": 4,
 "nbformat_minor": 5
}
