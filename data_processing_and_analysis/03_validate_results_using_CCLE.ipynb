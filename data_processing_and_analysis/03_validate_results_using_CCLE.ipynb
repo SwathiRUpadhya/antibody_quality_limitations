{
 "cells": [
  {
   "cell_type": "markdown",
   "id": "3c92cd07",
   "metadata": {},
   "source": [
    "## Validating results using CCLE data"
   ]
  },
  {
   "cell_type": "markdown",
   "id": "968ac30d",
   "metadata": {},
   "source": [
    "**Input:**  \n",
    "- CCLE transcriptomics, protein expression data (RPPA) and proteomics (MS) data from depmap.org\n",
    "- CCLE antibody validation status information \n",
    "\n",
    "**Output:** \n",
    "- Figure 5"
   ]
  },
  {
   "cell_type": "markdown",
   "id": "5a3b9ddc",
   "metadata": {},
   "source": [
    "### Import Packages"
   ]
  },
  {
   "cell_type": "code",
   "execution_count": 1,
   "id": "b2e3ffb2",
   "metadata": {},
   "outputs": [],
   "source": [
    "import os, re\n",
    "import numpy as np\n",
    "import pandas as pd\n",
    "import seaborn as sns\n",
    "\n",
    "import graphing_utils\n",
    "import customized_plot \n",
    "import standardised_pipeline_utils\n",
    "%matplotlib inline\n",
    "from matplotlib import pyplot as plt"
   ]
  },
  {
   "cell_type": "code",
   "execution_count": 2,
   "id": "04e6e6cf",
   "metadata": {},
   "outputs": [],
   "source": [
    "get_data_path = lambda folders, fname: os.path.normpath(os.environ['DATA_PATH']+'/'+'/'.join(folders) +'/'+ fname)\n",
    "get_table_path = lambda fname: os.path.normpath('../tables/' + fname)\n",
    "get_figure_path = lambda fname: os.path.normpath('../figures/' + fname)"
   ]
  },
  {
   "cell_type": "code",
   "execution_count": 3,
   "id": "c071e9cb",
   "metadata": {},
   "outputs": [],
   "source": [
    "file_ccle_transcriptomics = get_data_path(['depmap','20Q4'], 'CCLE_expression.csv')\n",
    "file_ccle_proteomics = get_data_path(['nusinow_2020'], 'Table_S2.xlsx')\n",
    "file_ccle_rppa = get_data_path(['depmap', 'ProteinArray_RPPA'], \"CCLE_RPPA_20180123.csv\")\n",
    "\n",
    "file_ccle_sample_info = get_data_path(['depmap','20Q4'], 'sample_info.csv')\n",
    "file_ccle_antibody = get_data_path(['ghandi_2019'], 'Table_S14.xlsx')\n",
    "# file_ccle_antibody = get_data_path(['depmap', 'ProteinArray_RPPA'], 'CCLE_RPPA_Ab_info_20180123.csv')\n",
    "file_sourceData_Figure5 = get_table_path('SourceDataForFigure5.csv')\n",
    "file_TableS1 = get_table_path('TableS1.csv')                                         "
   ]
  },
  {
   "cell_type": "markdown",
   "id": "41739a66",
   "metadata": {},
   "source": [
    "### Load Data"
   ]
  },
  {
   "cell_type": "code",
   "execution_count": 4,
   "id": "6bf9b67b",
   "metadata": {},
   "outputs": [
    {
     "name": "stdout",
     "output_type": "stream",
     "text": [
      "Dimensions:  (214, 5)\n"
     ]
    },
    {
     "data": {
      "text/html": [
       "<div>\n",
       "<style scoped>\n",
       "    .dataframe tbody tr th:only-of-type {\n",
       "        vertical-align: middle;\n",
       "    }\n",
       "\n",
       "    .dataframe tbody tr th {\n",
       "        vertical-align: top;\n",
       "    }\n",
       "\n",
       "    .dataframe thead th {\n",
       "        text-align: right;\n",
       "    }\n",
       "</style>\n",
       "<table border=\"1\" class=\"dataframe\">\n",
       "  <thead>\n",
       "    <tr style=\"text-align: right;\">\n",
       "      <th></th>\n",
       "      <th>Antibody_Name</th>\n",
       "      <th>Target_Genes</th>\n",
       "      <th>Validation_Status</th>\n",
       "      <th>Company</th>\n",
       "      <th>Catalog_Number</th>\n",
       "    </tr>\n",
       "  </thead>\n",
       "  <tbody>\n",
       "    <tr>\n",
       "      <th>0</th>\n",
       "      <td>14-3-3_beta</td>\n",
       "      <td>YWHAB</td>\n",
       "      <td>Validated</td>\n",
       "      <td>Santa Cruz</td>\n",
       "      <td>sc-628</td>\n",
       "    </tr>\n",
       "    <tr>\n",
       "      <th>1</th>\n",
       "      <td>14-3-3_epsilon_Caution</td>\n",
       "      <td>YWHAE</td>\n",
       "      <td>Caution</td>\n",
       "      <td>Santa Cruz</td>\n",
       "      <td>sc-23957</td>\n",
       "    </tr>\n",
       "  </tbody>\n",
       "</table>\n",
       "</div>"
      ],
      "text/plain": [
       "            Antibody_Name Target_Genes Validation_Status     Company  \\\n",
       "0             14-3-3_beta        YWHAB         Validated  Santa Cruz   \n",
       "1  14-3-3_epsilon_Caution        YWHAE           Caution  Santa Cruz   \n",
       "\n",
       "  Catalog_Number  \n",
       "0         sc-628  \n",
       "1       sc-23957  "
      ]
     },
     "execution_count": 4,
     "metadata": {},
     "output_type": "execute_result"
    }
   ],
   "source": [
    "ccle_antibody = pd.read_excel(file_ccle_antibody, usecols=['Antibody_Name', 'Target_Genes', 'Validation_Status', 'Company', \n",
    "                                                         'Catalog_Number'], sheet_name='RPPA_Ab_information')\n",
    "\n",
    "print(\"Dimensions: \", ccle_antibody.shape)\n",
    "ccle_antibody[:2]"
   ]
  },
  {
   "cell_type": "code",
   "execution_count": 5,
   "id": "3b9caec2",
   "metadata": {},
   "outputs": [
    {
     "data": {
      "text/plain": [
       "Validated    139\n",
       "Caution       75\n",
       "Name: Validation_Status, dtype: int64"
      ]
     },
     "execution_count": 5,
     "metadata": {},
     "output_type": "execute_result"
    }
   ],
   "source": [
    "ccle_antibody['Validation_Status'].value_counts()"
   ]
  },
  {
   "cell_type": "code",
   "execution_count": 6,
   "id": "0f4704b0",
   "metadata": {},
   "outputs": [],
   "source": [
    "# Process antibody \n",
    "ccle_antibody = ccle_antibody[~ccle_antibody['Antibody_Name'].str.contains('_p', regex=False)]"
   ]
  },
  {
   "cell_type": "code",
   "execution_count": 7,
   "id": "625cec04",
   "metadata": {},
   "outputs": [],
   "source": [
    "def get_mapping_to_1_gene(name):\n",
    "    parts = name.split(' ')\n",
    "    if((len(parts) == 1) & (re.search('([0-9]+-[0-9]+)$', parts[0]) is None)):\n",
    "        return(parts)\n",
    "    else:\n",
    "        return(np.nan)"
   ]
  },
  {
   "cell_type": "code",
   "execution_count": 8,
   "id": "16fed52d",
   "metadata": {},
   "outputs": [],
   "source": [
    "ccle_antibody['GeneSymbol'] = ccle_antibody['Target_Genes'].apply(lambda x: get_mapping_to_1_gene(x))\n",
    "#antibody_status_subset['GeneName'].str.split(',')"
   ]
  },
  {
   "cell_type": "code",
   "execution_count": 9,
   "id": "9fbded80",
   "metadata": {},
   "outputs": [
    {
     "data": {
      "text/plain": [
       "0"
      ]
     },
     "execution_count": 9,
     "metadata": {},
     "output_type": "execute_result"
    }
   ],
   "source": [
    "ccle_antibody['Target_Genes'].isnull().sum()"
   ]
  },
  {
   "cell_type": "code",
   "execution_count": 10,
   "id": "7c4d80dc",
   "metadata": {},
   "outputs": [
    {
     "name": "stdout",
     "output_type": "stream",
     "text": [
      "Dimensions (159, 6)\n"
     ]
    },
    {
     "data": {
      "text/plain": [
       "Valid      100\n",
       "Caution     59\n",
       "Name: ValidationStatus, dtype: int64"
      ]
     },
     "execution_count": 10,
     "metadata": {},
     "output_type": "execute_result"
    }
   ],
   "source": [
    "ccle_antibody.dropna(subset=['Target_Genes'], inplace=True)\n",
    "ccle_antibody = ccle_antibody.replace('Validated', 'Valid').rename(columns={'Validation_Status': 'ValidationStatus'})\n",
    "print('Dimensions', ccle_antibody.shape)\n",
    "ccle_antibody['ValidationStatus'].value_counts()"
   ]
  },
  {
   "cell_type": "code",
   "execution_count": 11,
   "id": "ede85c45",
   "metadata": {},
   "outputs": [
    {
     "name": "stdout",
     "output_type": "stream",
     "text": [
      "(155, 5)\n"
     ]
    },
    {
     "data": {
      "text/html": [
       "<div>\n",
       "<style scoped>\n",
       "    .dataframe tbody tr th:only-of-type {\n",
       "        vertical-align: middle;\n",
       "    }\n",
       "\n",
       "    .dataframe tbody tr th {\n",
       "        vertical-align: top;\n",
       "    }\n",
       "\n",
       "    .dataframe thead th {\n",
       "        text-align: right;\n",
       "    }\n",
       "</style>\n",
       "<table border=\"1\" class=\"dataframe\">\n",
       "  <thead>\n",
       "    <tr style=\"text-align: right;\">\n",
       "      <th></th>\n",
       "      <th>Antibody_Name</th>\n",
       "      <th>ValidationStatus</th>\n",
       "      <th>Company</th>\n",
       "      <th>Catalog_Number</th>\n",
       "      <th>GeneSymbol</th>\n",
       "    </tr>\n",
       "    <tr>\n",
       "      <th>Target_Genes</th>\n",
       "      <th></th>\n",
       "      <th></th>\n",
       "      <th></th>\n",
       "      <th></th>\n",
       "      <th></th>\n",
       "    </tr>\n",
       "  </thead>\n",
       "  <tbody>\n",
       "    <tr>\n",
       "      <th>YWHAB</th>\n",
       "      <td>14-3-3_beta</td>\n",
       "      <td>Valid</td>\n",
       "      <td>Santa Cruz</td>\n",
       "      <td>sc-628</td>\n",
       "      <td>[YWHAB]</td>\n",
       "    </tr>\n",
       "    <tr>\n",
       "      <th>YWHAE</th>\n",
       "      <td>14-3-3_epsilon_Caution</td>\n",
       "      <td>Caution</td>\n",
       "      <td>Santa Cruz</td>\n",
       "      <td>sc-23957</td>\n",
       "      <td>[YWHAE]</td>\n",
       "    </tr>\n",
       "  </tbody>\n",
       "</table>\n",
       "</div>"
      ],
      "text/plain": [
       "                       Antibody_Name ValidationStatus     Company  \\\n",
       "Target_Genes                                                        \n",
       "YWHAB                    14-3-3_beta            Valid  Santa Cruz   \n",
       "YWHAE         14-3-3_epsilon_Caution          Caution  Santa Cruz   \n",
       "\n",
       "             Catalog_Number GeneSymbol  \n",
       "Target_Genes                            \n",
       "YWHAB                sc-628    [YWHAB]  \n",
       "YWHAE              sc-23957    [YWHAE]  "
      ]
     },
     "execution_count": 11,
     "metadata": {},
     "output_type": "execute_result"
    }
   ],
   "source": [
    "ccle_antibody = ccle_antibody.set_index('Target_Genes')\n",
    "ccle_antibody.loc[ccle_antibody[ccle_antibody.index.duplicated()].index]\n",
    "ccle_antibody = ccle_antibody[~ccle_antibody.index.duplicated(keep='first')]\n",
    "print(ccle_antibody.shape)\n",
    "ccle_antibody[:2]"
   ]
  },
  {
   "cell_type": "code",
   "execution_count": 12,
   "id": "7ce60189",
   "metadata": {},
   "outputs": [
    {
     "data": {
      "text/plain": [
       "Valid      0.619355\n",
       "Caution    0.380645\n",
       "Name: ValidationStatus, dtype: float64"
      ]
     },
     "execution_count": 12,
     "metadata": {},
     "output_type": "execute_result"
    }
   ],
   "source": [
    "ccle_antibody['ValidationStatus'].value_counts(normalize=True)"
   ]
  },
  {
   "cell_type": "code",
   "execution_count": 13,
   "id": "dde0fca0",
   "metadata": {},
   "outputs": [
    {
     "data": {
      "text/html": [
       "<div>\n",
       "<style scoped>\n",
       "    .dataframe tbody tr th:only-of-type {\n",
       "        vertical-align: middle;\n",
       "    }\n",
       "\n",
       "    .dataframe tbody tr th {\n",
       "        vertical-align: top;\n",
       "    }\n",
       "\n",
       "    .dataframe thead th {\n",
       "        text-align: right;\n",
       "    }\n",
       "</style>\n",
       "<table border=\"1\" class=\"dataframe\">\n",
       "  <thead>\n",
       "    <tr style=\"text-align: right;\">\n",
       "      <th></th>\n",
       "      <th>ProteinName</th>\n",
       "      <th>AbSourceCompany</th>\n",
       "      <th>Catalog #</th>\n",
       "      <th>GeneName</th>\n",
       "      <th>ValidationStatus</th>\n",
       "      <th>AntibodyValidationSource</th>\n",
       "    </tr>\n",
       "  </thead>\n",
       "  <tbody>\n",
       "    <tr>\n",
       "      <th>0</th>\n",
       "      <td>1433EPSILON</td>\n",
       "      <td>Santa Cruz</td>\n",
       "      <td>sc-23957</td>\n",
       "      <td>YWHAE</td>\n",
       "      <td>Use with Caution</td>\n",
       "      <td>TCPA Supplemental Table</td>\n",
       "    </tr>\n",
       "    <tr>\n",
       "      <th>1</th>\n",
       "      <td>4EBP1</td>\n",
       "      <td>CST</td>\n",
       "      <td>9452</td>\n",
       "      <td>EIF4EBP1</td>\n",
       "      <td>Valid</td>\n",
       "      <td>TCPA Supplemental Table</td>\n",
       "    </tr>\n",
       "  </tbody>\n",
       "</table>\n",
       "</div>"
      ],
      "text/plain": [
       "   ProteinName AbSourceCompany Catalog #  GeneName  ValidationStatus  \\\n",
       "0  1433EPSILON      Santa Cruz  sc-23957     YWHAE  Use with Caution   \n",
       "1        4EBP1             CST      9452  EIF4EBP1             Valid   \n",
       "\n",
       "  AntibodyValidationSource  \n",
       "0  TCPA Supplemental Table  \n",
       "1  TCPA Supplemental Table  "
      ]
     },
     "execution_count": 13,
     "metadata": {},
     "output_type": "execute_result"
    }
   ],
   "source": [
    "tcga_antibody = pd.read_csv(file_TableS1).rename(columns={'Company': 'AbSourceCompany'})\n",
    "tcga_antibody[:2]"
   ]
  },
  {
   "cell_type": "code",
   "execution_count": 14,
   "id": "135c00ed",
   "metadata": {},
   "outputs": [
    {
     "name": "stdout",
     "output_type": "stream",
     "text": [
      "Number of common antibodies between TCGA and CCLE:  79\n"
     ]
    },
    {
     "data": {
      "text/html": [
       "<div>\n",
       "<style scoped>\n",
       "    .dataframe tbody tr th:only-of-type {\n",
       "        vertical-align: middle;\n",
       "    }\n",
       "\n",
       "    .dataframe tbody tr th {\n",
       "        vertical-align: top;\n",
       "    }\n",
       "\n",
       "    .dataframe thead th {\n",
       "        text-align: right;\n",
       "    }\n",
       "</style>\n",
       "<table border=\"1\" class=\"dataframe\">\n",
       "  <thead>\n",
       "    <tr style=\"text-align: right;\">\n",
       "      <th></th>\n",
       "      <th></th>\n",
       "      <th>ProteinName</th>\n",
       "      <th>AbSourceCompany</th>\n",
       "      <th>ValidationStatus</th>\n",
       "      <th>AntibodyValidationSource</th>\n",
       "      <th>Antibody_Name</th>\n",
       "      <th>Validation_Status</th>\n",
       "      <th>Company</th>\n",
       "      <th>GeneSymbol</th>\n",
       "    </tr>\n",
       "  </thead>\n",
       "  <tbody>\n",
       "    <tr>\n",
       "      <th>YWHAE</th>\n",
       "      <th>sc-23957</th>\n",
       "      <td>1433EPSILON</td>\n",
       "      <td>Santa Cruz</td>\n",
       "      <td>Use with Caution</td>\n",
       "      <td>TCPA Supplemental Table</td>\n",
       "      <td>14-3-3_epsilon_Caution</td>\n",
       "      <td>Caution</td>\n",
       "      <td>Santa Cruz</td>\n",
       "      <td>[YWHAE]</td>\n",
       "    </tr>\n",
       "    <tr>\n",
       "      <th>EIF4EBP1</th>\n",
       "      <th>9452</th>\n",
       "      <td>4EBP1</td>\n",
       "      <td>CST</td>\n",
       "      <td>Valid</td>\n",
       "      <td>TCPA Supplemental Table</td>\n",
       "      <td>4E-BP1</td>\n",
       "      <td>Valid</td>\n",
       "      <td>CST</td>\n",
       "      <td>[EIF4EBP1]</td>\n",
       "    </tr>\n",
       "  </tbody>\n",
       "</table>\n",
       "</div>"
      ],
      "text/plain": [
       "                   ProteinName AbSourceCompany  ValidationStatus  \\\n",
       "YWHAE    sc-23957  1433EPSILON      Santa Cruz  Use with Caution   \n",
       "EIF4EBP1 9452            4EBP1             CST             Valid   \n",
       "\n",
       "                  AntibodyValidationSource           Antibody_Name  \\\n",
       "YWHAE    sc-23957  TCPA Supplemental Table  14-3-3_epsilon_Caution   \n",
       "EIF4EBP1 9452      TCPA Supplemental Table                  4E-BP1   \n",
       "\n",
       "                  Validation_Status     Company  GeneSymbol  \n",
       "YWHAE    sc-23957           Caution  Santa Cruz     [YWHAE]  \n",
       "EIF4EBP1 9452                 Valid         CST  [EIF4EBP1]  "
      ]
     },
     "execution_count": 14,
     "metadata": {},
     "output_type": "execute_result"
    }
   ],
   "source": [
    "ccle_antibody['Catalog_Number'] = ccle_antibody['Catalog_Number'].astype(\"string\")\n",
    "\n",
    "common_antibodies = pd.concat([tcga_antibody.set_index(['GeneName', 'Catalog #']), \n",
    "                               ccle_antibody.reset_index().set_index(['Target_Genes', 'Catalog_Number']).rename(columns={'ValidationStatus': 'Validation_Status'})],\n",
    "                              join='inner', axis=1)\n",
    "print(\"Number of common antibodies between TCGA and CCLE: \", len(common_antibodies))\n",
    "common_antibodies[:2]"
   ]
  },
  {
   "cell_type": "code",
   "execution_count": 15,
   "id": "2846ef9a",
   "metadata": {},
   "outputs": [
    {
     "data": {
      "text/plain": [
       "Valid               51\n",
       "Use with Caution    28\n",
       "Name: ValidationStatus, dtype: int64"
      ]
     },
     "execution_count": 15,
     "metadata": {},
     "output_type": "execute_result"
    }
   ],
   "source": [
    "common_antibodies.replace('Validated', 'Valid', inplace=True)\n",
    "common_antibodies.replace('Caution', 'Use with Caution', inplace=True)\n",
    "common_antibodies['ValidationStatus'].value_counts()"
   ]
  },
  {
   "cell_type": "code",
   "execution_count": 16,
   "id": "70c376ca",
   "metadata": {},
   "outputs": [
    {
     "data": {
      "text/plain": [
       "Valid               52\n",
       "Use with Caution    27\n",
       "Name: Validation_Status, dtype: int64"
      ]
     },
     "execution_count": 16,
     "metadata": {},
     "output_type": "execute_result"
    }
   ],
   "source": [
    "common_antibodies['Validation_Status'].value_counts()"
   ]
  },
  {
   "cell_type": "code",
   "execution_count": 17,
   "id": "31c6be14",
   "metadata": {},
   "outputs": [
    {
     "data": {
      "text/html": [
       "<div>\n",
       "<style scoped>\n",
       "    .dataframe tbody tr th:only-of-type {\n",
       "        vertical-align: middle;\n",
       "    }\n",
       "\n",
       "    .dataframe tbody tr th {\n",
       "        vertical-align: top;\n",
       "    }\n",
       "\n",
       "    .dataframe thead th {\n",
       "        text-align: right;\n",
       "    }\n",
       "</style>\n",
       "<table border=\"1\" class=\"dataframe\">\n",
       "  <thead>\n",
       "    <tr style=\"text-align: right;\">\n",
       "      <th></th>\n",
       "      <th></th>\n",
       "      <th>ProteinName</th>\n",
       "      <th>AbSourceCompany</th>\n",
       "      <th>ValidationStatus</th>\n",
       "      <th>AntibodyValidationSource</th>\n",
       "      <th>Antibody_Name</th>\n",
       "      <th>Validation_Status</th>\n",
       "      <th>Company</th>\n",
       "      <th>GeneSymbol</th>\n",
       "    </tr>\n",
       "  </thead>\n",
       "  <tbody>\n",
       "    <tr>\n",
       "      <th>FN1</th>\n",
       "      <th>1574-1</th>\n",
       "      <td>FIBRONECTIN</td>\n",
       "      <td>Epitomics</td>\n",
       "      <td>Use with Caution</td>\n",
       "      <td>TCPA Supplemental Table</td>\n",
       "      <td>Fibronectin</td>\n",
       "      <td>Valid</td>\n",
       "      <td>Epitomics</td>\n",
       "      <td>[FN1]</td>\n",
       "    </tr>\n",
       "  </tbody>\n",
       "</table>\n",
       "</div>"
      ],
      "text/plain": [
       "            ProteinName AbSourceCompany  ValidationStatus  \\\n",
       "FN1 1574-1  FIBRONECTIN       Epitomics  Use with Caution   \n",
       "\n",
       "           AntibodyValidationSource Antibody_Name Validation_Status  \\\n",
       "FN1 1574-1  TCPA Supplemental Table   Fibronectin             Valid   \n",
       "\n",
       "              Company GeneSymbol  \n",
       "FN1 1574-1  Epitomics      [FN1]  "
      ]
     },
     "execution_count": 17,
     "metadata": {},
     "output_type": "execute_result"
    }
   ],
   "source": [
    "common_antibodies[common_antibodies['ValidationStatus'] != common_antibodies['Validation_Status']]"
   ]
  },
  {
   "cell_type": "markdown",
   "id": "36daf868",
   "metadata": {},
   "source": [
    "#### RPPA"
   ]
  },
  {
   "cell_type": "code",
   "execution_count": 18,
   "id": "e331ae9b",
   "metadata": {},
   "outputs": [
    {
     "name": "stdout",
     "output_type": "stream",
     "text": [
      "Dimensions after dropping rows with >20% null values:  (214, 899)\n"
     ]
    },
    {
     "data": {
      "text/html": [
       "<div>\n",
       "<style scoped>\n",
       "    .dataframe tbody tr th:only-of-type {\n",
       "        vertical-align: middle;\n",
       "    }\n",
       "\n",
       "    .dataframe tbody tr th {\n",
       "        vertical-align: top;\n",
       "    }\n",
       "\n",
       "    .dataframe thead th {\n",
       "        text-align: right;\n",
       "    }\n",
       "</style>\n",
       "<table border=\"1\" class=\"dataframe\">\n",
       "  <thead>\n",
       "    <tr style=\"text-align: right;\">\n",
       "      <th></th>\n",
       "      <th>DMS53_LUNG</th>\n",
       "      <th>SW1116_LARGE_INTESTINE</th>\n",
       "      <th>NCIH1694_LUNG</th>\n",
       "      <th>P3HR1_HAEMATOPOIETIC_AND_LYMPHOID_TISSUE</th>\n",
       "      <th>HUT78_HAEMATOPOIETIC_AND_LYMPHOID_TISSUE</th>\n",
       "      <th>UMUC3_URINARY_TRACT</th>\n",
       "      <th>HOS_BONE</th>\n",
       "      <th>HUNS1_HAEMATOPOIETIC_AND_LYMPHOID_TISSUE</th>\n",
       "      <th>AML193_HAEMATOPOIETIC_AND_LYMPHOID_TISSUE</th>\n",
       "      <th>RVH421_SKIN</th>\n",
       "      <th>...</th>\n",
       "      <th>NCIH2073_LUNG</th>\n",
       "      <th>MOLT3_HAEMATOPOIETIC_AND_LYMPHOID_TISSUE</th>\n",
       "      <th>HOP62_LUNG</th>\n",
       "      <th>EKVX_LUNG</th>\n",
       "      <th>OVCAR5_OVARY</th>\n",
       "      <th>UO31_KIDNEY</th>\n",
       "      <th>SF268_CENTRAL_NERVOUS_SYSTEM</th>\n",
       "      <th>SF539_CENTRAL_NERVOUS_SYSTEM</th>\n",
       "      <th>SNB75_CENTRAL_NERVOUS_SYSTEM</th>\n",
       "      <th>HOP92_LUNG</th>\n",
       "    </tr>\n",
       "  </thead>\n",
       "  <tbody>\n",
       "    <tr>\n",
       "      <th>14-3-3_beta</th>\n",
       "      <td>-0.104888</td>\n",
       "      <td>0.358504</td>\n",
       "      <td>0.028738</td>\n",
       "      <td>0.120039</td>\n",
       "      <td>-0.268997</td>\n",
       "      <td>-0.171170</td>\n",
       "      <td>-0.025261</td>\n",
       "      <td>-0.169773</td>\n",
       "      <td>0.081936</td>\n",
       "      <td>0.221993</td>\n",
       "      <td>...</td>\n",
       "      <td>-0.13152</td>\n",
       "      <td>-0.264095</td>\n",
       "      <td>-0.126198</td>\n",
       "      <td>-0.054609</td>\n",
       "      <td>-0.207196</td>\n",
       "      <td>0.043231</td>\n",
       "      <td>-0.034597</td>\n",
       "      <td>-0.250998</td>\n",
       "      <td>-0.139833</td>\n",
       "      <td>0.057413</td>\n",
       "    </tr>\n",
       "    <tr>\n",
       "      <th>14-3-3_epsilon_Caution</th>\n",
       "      <td>0.060414</td>\n",
       "      <td>-0.180291</td>\n",
       "      <td>0.071902</td>\n",
       "      <td>-0.066802</td>\n",
       "      <td>-0.060281</td>\n",
       "      <td>0.055813</td>\n",
       "      <td>0.008353</td>\n",
       "      <td>-0.163311</td>\n",
       "      <td>-0.170779</td>\n",
       "      <td>0.139321</td>\n",
       "      <td>...</td>\n",
       "      <td>0.05746</td>\n",
       "      <td>0.155753</td>\n",
       "      <td>-0.155557</td>\n",
       "      <td>-0.233718</td>\n",
       "      <td>-0.021296</td>\n",
       "      <td>0.093158</td>\n",
       "      <td>0.065964</td>\n",
       "      <td>0.420490</td>\n",
       "      <td>0.194831</td>\n",
       "      <td>-0.069547</td>\n",
       "    </tr>\n",
       "  </tbody>\n",
       "</table>\n",
       "<p>2 rows × 899 columns</p>\n",
       "</div>"
      ],
      "text/plain": [
       "                        DMS53_LUNG  SW1116_LARGE_INTESTINE  NCIH1694_LUNG  \\\n",
       "14-3-3_beta              -0.104888                0.358504       0.028738   \n",
       "14-3-3_epsilon_Caution    0.060414               -0.180291       0.071902   \n",
       "\n",
       "                        P3HR1_HAEMATOPOIETIC_AND_LYMPHOID_TISSUE  \\\n",
       "14-3-3_beta                                             0.120039   \n",
       "14-3-3_epsilon_Caution                                 -0.066802   \n",
       "\n",
       "                        HUT78_HAEMATOPOIETIC_AND_LYMPHOID_TISSUE  \\\n",
       "14-3-3_beta                                            -0.268997   \n",
       "14-3-3_epsilon_Caution                                 -0.060281   \n",
       "\n",
       "                        UMUC3_URINARY_TRACT  HOS_BONE  \\\n",
       "14-3-3_beta                       -0.171170 -0.025261   \n",
       "14-3-3_epsilon_Caution             0.055813  0.008353   \n",
       "\n",
       "                        HUNS1_HAEMATOPOIETIC_AND_LYMPHOID_TISSUE  \\\n",
       "14-3-3_beta                                            -0.169773   \n",
       "14-3-3_epsilon_Caution                                 -0.163311   \n",
       "\n",
       "                        AML193_HAEMATOPOIETIC_AND_LYMPHOID_TISSUE  \\\n",
       "14-3-3_beta                                              0.081936   \n",
       "14-3-3_epsilon_Caution                                  -0.170779   \n",
       "\n",
       "                        RVH421_SKIN  ...  NCIH2073_LUNG  \\\n",
       "14-3-3_beta                0.221993  ...       -0.13152   \n",
       "14-3-3_epsilon_Caution     0.139321  ...        0.05746   \n",
       "\n",
       "                        MOLT3_HAEMATOPOIETIC_AND_LYMPHOID_TISSUE  HOP62_LUNG  \\\n",
       "14-3-3_beta                                            -0.264095   -0.126198   \n",
       "14-3-3_epsilon_Caution                                  0.155753   -0.155557   \n",
       "\n",
       "                        EKVX_LUNG  OVCAR5_OVARY  UO31_KIDNEY  \\\n",
       "14-3-3_beta             -0.054609     -0.207196     0.043231   \n",
       "14-3-3_epsilon_Caution  -0.233718     -0.021296     0.093158   \n",
       "\n",
       "                        SF268_CENTRAL_NERVOUS_SYSTEM  \\\n",
       "14-3-3_beta                                -0.034597   \n",
       "14-3-3_epsilon_Caution                      0.065964   \n",
       "\n",
       "                        SF539_CENTRAL_NERVOUS_SYSTEM  \\\n",
       "14-3-3_beta                                -0.250998   \n",
       "14-3-3_epsilon_Caution                      0.420490   \n",
       "\n",
       "                        SNB75_CENTRAL_NERVOUS_SYSTEM  HOP92_LUNG  \n",
       "14-3-3_beta                                -0.139833    0.057413  \n",
       "14-3-3_epsilon_Caution                      0.194831   -0.069547  \n",
       "\n",
       "[2 rows x 899 columns]"
      ]
     },
     "execution_count": 18,
     "metadata": {},
     "output_type": "execute_result"
    }
   ],
   "source": [
    "ccle_protein_rppa = pd.read_csv(file_ccle_rppa, index_col=0).T\n",
    "print(\"Dimensions after dropping rows with >20% null values: \", ccle_protein_rppa.shape)\n",
    "ccle_protein_rppa[:2]"
   ]
  },
  {
   "cell_type": "code",
   "execution_count": 19,
   "id": "a954c8d9",
   "metadata": {},
   "outputs": [
    {
     "name": "stdout",
     "output_type": "stream",
     "text": [
      "Dimensions:  (152, 900)\n",
      "Dimensions:  (152, 899)\n",
      "Dimensions:  (152, 899)\n"
     ]
    },
    {
     "data": {
      "text/html": [
       "<div>\n",
       "<style scoped>\n",
       "    .dataframe tbody tr th:only-of-type {\n",
       "        vertical-align: middle;\n",
       "    }\n",
       "\n",
       "    .dataframe tbody tr th {\n",
       "        vertical-align: top;\n",
       "    }\n",
       "\n",
       "    .dataframe thead th {\n",
       "        text-align: right;\n",
       "    }\n",
       "</style>\n",
       "<table border=\"1\" class=\"dataframe\">\n",
       "  <thead>\n",
       "    <tr style=\"text-align: right;\">\n",
       "      <th></th>\n",
       "      <th>DMS53_LUNG</th>\n",
       "      <th>SW1116_LARGE_INTESTINE</th>\n",
       "      <th>NCIH1694_LUNG</th>\n",
       "      <th>P3HR1_HAEMATOPOIETIC_AND_LYMPHOID_TISSUE</th>\n",
       "      <th>HUT78_HAEMATOPOIETIC_AND_LYMPHOID_TISSUE</th>\n",
       "      <th>UMUC3_URINARY_TRACT</th>\n",
       "      <th>HOS_BONE</th>\n",
       "      <th>HUNS1_HAEMATOPOIETIC_AND_LYMPHOID_TISSUE</th>\n",
       "      <th>AML193_HAEMATOPOIETIC_AND_LYMPHOID_TISSUE</th>\n",
       "      <th>RVH421_SKIN</th>\n",
       "      <th>...</th>\n",
       "      <th>NCIH2073_LUNG</th>\n",
       "      <th>MOLT3_HAEMATOPOIETIC_AND_LYMPHOID_TISSUE</th>\n",
       "      <th>HOP62_LUNG</th>\n",
       "      <th>EKVX_LUNG</th>\n",
       "      <th>OVCAR5_OVARY</th>\n",
       "      <th>UO31_KIDNEY</th>\n",
       "      <th>SF268_CENTRAL_NERVOUS_SYSTEM</th>\n",
       "      <th>SF539_CENTRAL_NERVOUS_SYSTEM</th>\n",
       "      <th>SNB75_CENTRAL_NERVOUS_SYSTEM</th>\n",
       "      <th>HOP92_LUNG</th>\n",
       "    </tr>\n",
       "    <tr>\n",
       "      <th>index</th>\n",
       "      <th></th>\n",
       "      <th></th>\n",
       "      <th></th>\n",
       "      <th></th>\n",
       "      <th></th>\n",
       "      <th></th>\n",
       "      <th></th>\n",
       "      <th></th>\n",
       "      <th></th>\n",
       "      <th></th>\n",
       "      <th></th>\n",
       "      <th></th>\n",
       "      <th></th>\n",
       "      <th></th>\n",
       "      <th></th>\n",
       "      <th></th>\n",
       "      <th></th>\n",
       "      <th></th>\n",
       "      <th></th>\n",
       "      <th></th>\n",
       "      <th></th>\n",
       "    </tr>\n",
       "  </thead>\n",
       "  <tbody>\n",
       "    <tr>\n",
       "      <th>ACACA</th>\n",
       "      <td>0.145489</td>\n",
       "      <td>-0.647232</td>\n",
       "      <td>0.731379</td>\n",
       "      <td>0.148369</td>\n",
       "      <td>-0.245375</td>\n",
       "      <td>0.037885</td>\n",
       "      <td>-0.028906</td>\n",
       "      <td>-0.479745</td>\n",
       "      <td>0.964608</td>\n",
       "      <td>0.685739</td>\n",
       "      <td>...</td>\n",
       "      <td>-0.050433</td>\n",
       "      <td>-0.734374</td>\n",
       "      <td>1.239161</td>\n",
       "      <td>0.346927</td>\n",
       "      <td>0.272580</td>\n",
       "      <td>0.800856</td>\n",
       "      <td>-0.124741</td>\n",
       "      <td>-0.071125</td>\n",
       "      <td>-0.217065</td>\n",
       "      <td>-0.315348</td>\n",
       "    </tr>\n",
       "    <tr>\n",
       "      <th>ACTB</th>\n",
       "      <td>-0.851057</td>\n",
       "      <td>1.636039</td>\n",
       "      <td>0.870009</td>\n",
       "      <td>-0.140614</td>\n",
       "      <td>-1.754644</td>\n",
       "      <td>-0.993305</td>\n",
       "      <td>-0.149776</td>\n",
       "      <td>1.161453</td>\n",
       "      <td>-0.273803</td>\n",
       "      <td>-0.629649</td>\n",
       "      <td>...</td>\n",
       "      <td>-0.712990</td>\n",
       "      <td>-0.718007</td>\n",
       "      <td>0.689550</td>\n",
       "      <td>-0.056389</td>\n",
       "      <td>0.224697</td>\n",
       "      <td>0.096702</td>\n",
       "      <td>0.157523</td>\n",
       "      <td>1.615186</td>\n",
       "      <td>0.474055</td>\n",
       "      <td>0.428906</td>\n",
       "    </tr>\n",
       "  </tbody>\n",
       "</table>\n",
       "<p>2 rows × 899 columns</p>\n",
       "</div>"
      ],
      "text/plain": [
       "       DMS53_LUNG  SW1116_LARGE_INTESTINE  NCIH1694_LUNG  \\\n",
       "index                                                      \n",
       "ACACA    0.145489               -0.647232       0.731379   \n",
       "ACTB    -0.851057                1.636039       0.870009   \n",
       "\n",
       "       P3HR1_HAEMATOPOIETIC_AND_LYMPHOID_TISSUE  \\\n",
       "index                                             \n",
       "ACACA                                  0.148369   \n",
       "ACTB                                  -0.140614   \n",
       "\n",
       "       HUT78_HAEMATOPOIETIC_AND_LYMPHOID_TISSUE  UMUC3_URINARY_TRACT  \\\n",
       "index                                                                  \n",
       "ACACA                                 -0.245375             0.037885   \n",
       "ACTB                                  -1.754644            -0.993305   \n",
       "\n",
       "       HOS_BONE  HUNS1_HAEMATOPOIETIC_AND_LYMPHOID_TISSUE  \\\n",
       "index                                                       \n",
       "ACACA -0.028906                                 -0.479745   \n",
       "ACTB  -0.149776                                  1.161453   \n",
       "\n",
       "       AML193_HAEMATOPOIETIC_AND_LYMPHOID_TISSUE  RVH421_SKIN  ...  \\\n",
       "index                                                          ...   \n",
       "ACACA                                   0.964608     0.685739  ...   \n",
       "ACTB                                   -0.273803    -0.629649  ...   \n",
       "\n",
       "       NCIH2073_LUNG  MOLT3_HAEMATOPOIETIC_AND_LYMPHOID_TISSUE  HOP62_LUNG  \\\n",
       "index                                                                        \n",
       "ACACA      -0.050433                                 -0.734374    1.239161   \n",
       "ACTB       -0.712990                                 -0.718007    0.689550   \n",
       "\n",
       "       EKVX_LUNG  OVCAR5_OVARY  UO31_KIDNEY  SF268_CENTRAL_NERVOUS_SYSTEM  \\\n",
       "index                                                                       \n",
       "ACACA   0.346927      0.272580     0.800856                     -0.124741   \n",
       "ACTB   -0.056389      0.224697     0.096702                      0.157523   \n",
       "\n",
       "       SF539_CENTRAL_NERVOUS_SYSTEM  SNB75_CENTRAL_NERVOUS_SYSTEM  HOP92_LUNG  \n",
       "index                                                                          \n",
       "ACACA                     -0.071125                     -0.217065   -0.315348  \n",
       "ACTB                       1.615186                      0.474055    0.428906  \n",
       "\n",
       "[2 rows x 899 columns]"
      ]
     },
     "execution_count": 19,
     "metadata": {},
     "output_type": "execute_result"
    }
   ],
   "source": [
    "data = ccle_protein_rppa.reset_index()\n",
    "data = data[data['index'].str.contains(\"_p\") == False]\n",
    "data['index'] = data['index'].map(dict(zip(ccle_antibody['Antibody_Name'], ccle_antibody.index)))\n",
    "data.dropna(subset = ['index'], inplace=True)\n",
    "data_gene_symbols = data['index'].apply(lambda x: pd.Series(x.split(' ')))\n",
    "    # discarding proteins expression where the antibody may bind to more than 1 target\n",
    "index_to_discard = list(data_gene_symbols[~data_gene_symbols[1].isnull()].index)\n",
    "data = data.drop(index = index_to_discard)\n",
    "print(\"Dimensions: \", data.shape)\n",
    "\n",
    "data = data.loc[data.index.drop_duplicates(keep='first')].set_index('index')\n",
    "ccle_protein_rppa = data.dropna(thresh=(0.8*len(data.columns)))\n",
    "ccle_protein_rppa_processed = standardised_pipeline_utils.process(ccle_protein_rppa)\n",
    "print(\"Dimensions: \", ccle_protein_rppa_processed.shape)\n",
    "ccle_protein_rppa_processed[:2]"
   ]
  },
  {
   "cell_type": "code",
   "execution_count": 20,
   "id": "7f8f6807",
   "metadata": {},
   "outputs": [
    {
     "name": "stdout",
     "output_type": "stream",
     "text": [
      "Dimensions:  (1812, 26)\n"
     ]
    },
    {
     "data": {
      "text/html": [
       "<div>\n",
       "<style scoped>\n",
       "    .dataframe tbody tr th:only-of-type {\n",
       "        vertical-align: middle;\n",
       "    }\n",
       "\n",
       "    .dataframe tbody tr th {\n",
       "        vertical-align: top;\n",
       "    }\n",
       "\n",
       "    .dataframe thead th {\n",
       "        text-align: right;\n",
       "    }\n",
       "</style>\n",
       "<table border=\"1\" class=\"dataframe\">\n",
       "  <thead>\n",
       "    <tr style=\"text-align: right;\">\n",
       "      <th></th>\n",
       "      <th>DepMap_ID</th>\n",
       "      <th>cell_line_name</th>\n",
       "      <th>stripped_cell_line_name</th>\n",
       "      <th>CCLE_Name</th>\n",
       "      <th>alias</th>\n",
       "      <th>COSMICID</th>\n",
       "      <th>sex</th>\n",
       "      <th>source</th>\n",
       "      <th>Achilles_n_replicates</th>\n",
       "      <th>cell_line_NNMD</th>\n",
       "      <th>...</th>\n",
       "      <th>primary_or_metastasis</th>\n",
       "      <th>primary_disease</th>\n",
       "      <th>Subtype</th>\n",
       "      <th>age</th>\n",
       "      <th>Sanger_Model_ID</th>\n",
       "      <th>depmap_public_comments</th>\n",
       "      <th>lineage</th>\n",
       "      <th>lineage_subtype</th>\n",
       "      <th>lineage_sub_subtype</th>\n",
       "      <th>lineage_molecular_subtype</th>\n",
       "    </tr>\n",
       "  </thead>\n",
       "  <tbody>\n",
       "    <tr>\n",
       "      <th>0</th>\n",
       "      <td>ACH-000001</td>\n",
       "      <td>NIH:OVCAR-3</td>\n",
       "      <td>NIHOVCAR3</td>\n",
       "      <td>NIHOVCAR3_OVARY</td>\n",
       "      <td>OVCAR3</td>\n",
       "      <td>905933.0</td>\n",
       "      <td>Female</td>\n",
       "      <td>ATCC</td>\n",
       "      <td>NaN</td>\n",
       "      <td>NaN</td>\n",
       "      <td>...</td>\n",
       "      <td>Metastasis</td>\n",
       "      <td>Ovarian Cancer</td>\n",
       "      <td>Adenocarcinoma, high grade serous</td>\n",
       "      <td>60.0</td>\n",
       "      <td>SIDM00105</td>\n",
       "      <td>NaN</td>\n",
       "      <td>ovary</td>\n",
       "      <td>ovary_adenocarcinoma</td>\n",
       "      <td>high_grade_serous</td>\n",
       "      <td>NaN</td>\n",
       "    </tr>\n",
       "    <tr>\n",
       "      <th>1</th>\n",
       "      <td>ACH-000002</td>\n",
       "      <td>HL-60</td>\n",
       "      <td>HL60</td>\n",
       "      <td>HL60_HAEMATOPOIETIC_AND_LYMPHOID_TISSUE</td>\n",
       "      <td>NaN</td>\n",
       "      <td>905938.0</td>\n",
       "      <td>Female</td>\n",
       "      <td>ATCC</td>\n",
       "      <td>NaN</td>\n",
       "      <td>NaN</td>\n",
       "      <td>...</td>\n",
       "      <td>Primary</td>\n",
       "      <td>Leukemia</td>\n",
       "      <td>Acute Myelogenous Leukemia (AML), M3 (Promyelo...</td>\n",
       "      <td>35.0</td>\n",
       "      <td>SIDM00829</td>\n",
       "      <td>NaN</td>\n",
       "      <td>blood</td>\n",
       "      <td>AML</td>\n",
       "      <td>M3</td>\n",
       "      <td>NaN</td>\n",
       "    </tr>\n",
       "  </tbody>\n",
       "</table>\n",
       "<p>2 rows × 26 columns</p>\n",
       "</div>"
      ],
      "text/plain": [
       "    DepMap_ID cell_line_name stripped_cell_line_name  \\\n",
       "0  ACH-000001    NIH:OVCAR-3               NIHOVCAR3   \n",
       "1  ACH-000002          HL-60                    HL60   \n",
       "\n",
       "                                 CCLE_Name   alias  COSMICID     sex source  \\\n",
       "0                          NIHOVCAR3_OVARY  OVCAR3  905933.0  Female   ATCC   \n",
       "1  HL60_HAEMATOPOIETIC_AND_LYMPHOID_TISSUE     NaN  905938.0  Female   ATCC   \n",
       "\n",
       "   Achilles_n_replicates  cell_line_NNMD  ... primary_or_metastasis  \\\n",
       "0                    NaN             NaN  ...            Metastasis   \n",
       "1                    NaN             NaN  ...               Primary   \n",
       "\n",
       "  primary_disease                                            Subtype   age  \\\n",
       "0  Ovarian Cancer                  Adenocarcinoma, high grade serous  60.0   \n",
       "1        Leukemia  Acute Myelogenous Leukemia (AML), M3 (Promyelo...  35.0   \n",
       "\n",
       "   Sanger_Model_ID depmap_public_comments lineage       lineage_subtype  \\\n",
       "0        SIDM00105                    NaN   ovary  ovary_adenocarcinoma   \n",
       "1        SIDM00829                    NaN   blood                   AML   \n",
       "\n",
       "  lineage_sub_subtype  lineage_molecular_subtype  \n",
       "0   high_grade_serous                        NaN  \n",
       "1                  M3                        NaN  \n",
       "\n",
       "[2 rows x 26 columns]"
      ]
     },
     "execution_count": 20,
     "metadata": {},
     "output_type": "execute_result"
    }
   ],
   "source": [
    "ccle_sample_info = pd.read_csv(file_ccle_sample_info)\n",
    "print(\"Dimensions: \", ccle_sample_info.shape)\n",
    "ccle_sample_info[:2]"
   ]
  },
  {
   "cell_type": "markdown",
   "id": "7174b19b",
   "metadata": {},
   "source": [
    "#### Transcriptomics"
   ]
  },
  {
   "cell_type": "code",
   "execution_count": 21,
   "id": "c8536120",
   "metadata": {},
   "outputs": [
    {
     "name": "stdout",
     "output_type": "stream",
     "text": [
      "Dimensions:  (1376, 19182)\n"
     ]
    },
    {
     "data": {
      "text/html": [
       "<div>\n",
       "<style scoped>\n",
       "    .dataframe tbody tr th:only-of-type {\n",
       "        vertical-align: middle;\n",
       "    }\n",
       "\n",
       "    .dataframe tbody tr th {\n",
       "        vertical-align: top;\n",
       "    }\n",
       "\n",
       "    .dataframe thead th {\n",
       "        text-align: right;\n",
       "    }\n",
       "</style>\n",
       "<table border=\"1\" class=\"dataframe\">\n",
       "  <thead>\n",
       "    <tr style=\"text-align: right;\">\n",
       "      <th></th>\n",
       "      <th>TSPAN6 (7105)</th>\n",
       "      <th>TNMD (64102)</th>\n",
       "      <th>DPM1 (8813)</th>\n",
       "      <th>SCYL3 (57147)</th>\n",
       "      <th>C1orf112 (55732)</th>\n",
       "      <th>FGR (2268)</th>\n",
       "      <th>CFH (3075)</th>\n",
       "      <th>FUCA2 (2519)</th>\n",
       "      <th>GCLC (2729)</th>\n",
       "      <th>NFYA (4800)</th>\n",
       "      <th>...</th>\n",
       "      <th>AC090517.4 (54816)</th>\n",
       "      <th>AL160269.1 (11046)</th>\n",
       "      <th>ABCF2-H2BE1 (114483834)</th>\n",
       "      <th>FO393400.1 (149951)</th>\n",
       "      <th>POLR2J3 (548644)</th>\n",
       "      <th>H2BE1 (114483833)</th>\n",
       "      <th>AL445238.1 (647264)</th>\n",
       "      <th>GET1-SH3BGR (106865373)</th>\n",
       "      <th>AC024598.1 (22891)</th>\n",
       "      <th>AC113348.1 (102724657)</th>\n",
       "    </tr>\n",
       "  </thead>\n",
       "  <tbody>\n",
       "    <tr>\n",
       "      <th>ACH-001113</th>\n",
       "      <td>4.990501</td>\n",
       "      <td>0.000000</td>\n",
       "      <td>7.273702</td>\n",
       "      <td>2.765535</td>\n",
       "      <td>4.480265</td>\n",
       "      <td>0.028569</td>\n",
       "      <td>1.269033</td>\n",
       "      <td>3.058316</td>\n",
       "      <td>6.483171</td>\n",
       "      <td>5.05398</td>\n",
       "      <td>...</td>\n",
       "      <td>0.111031</td>\n",
       "      <td>0.15056</td>\n",
       "      <td>1.427606</td>\n",
       "      <td>0.042644</td>\n",
       "      <td>5.781884</td>\n",
       "      <td>0.0</td>\n",
       "      <td>0.0</td>\n",
       "      <td>0.799087</td>\n",
       "      <td>0.014355</td>\n",
       "      <td>0.000000</td>\n",
       "    </tr>\n",
       "    <tr>\n",
       "      <th>ACH-001289</th>\n",
       "      <td>5.209843</td>\n",
       "      <td>0.545968</td>\n",
       "      <td>7.070604</td>\n",
       "      <td>2.538538</td>\n",
       "      <td>3.510962</td>\n",
       "      <td>0.000000</td>\n",
       "      <td>0.176323</td>\n",
       "      <td>3.836934</td>\n",
       "      <td>4.200850</td>\n",
       "      <td>3.83289</td>\n",
       "      <td>...</td>\n",
       "      <td>0.310340</td>\n",
       "      <td>0.00000</td>\n",
       "      <td>0.807355</td>\n",
       "      <td>0.000000</td>\n",
       "      <td>4.704319</td>\n",
       "      <td>0.0</td>\n",
       "      <td>0.0</td>\n",
       "      <td>0.464668</td>\n",
       "      <td>0.000000</td>\n",
       "      <td>0.070389</td>\n",
       "    </tr>\n",
       "  </tbody>\n",
       "</table>\n",
       "<p>2 rows × 19182 columns</p>\n",
       "</div>"
      ],
      "text/plain": [
       "            TSPAN6 (7105)  TNMD (64102)  DPM1 (8813)  SCYL3 (57147)  \\\n",
       "ACH-001113       4.990501      0.000000     7.273702       2.765535   \n",
       "ACH-001289       5.209843      0.545968     7.070604       2.538538   \n",
       "\n",
       "            C1orf112 (55732)  FGR (2268)  CFH (3075)  FUCA2 (2519)  \\\n",
       "ACH-001113          4.480265    0.028569    1.269033      3.058316   \n",
       "ACH-001289          3.510962    0.000000    0.176323      3.836934   \n",
       "\n",
       "            GCLC (2729)  NFYA (4800)  ...  AC090517.4 (54816)  \\\n",
       "ACH-001113     6.483171      5.05398  ...            0.111031   \n",
       "ACH-001289     4.200850      3.83289  ...            0.310340   \n",
       "\n",
       "            AL160269.1 (11046)  ABCF2-H2BE1 (114483834)  FO393400.1 (149951)  \\\n",
       "ACH-001113             0.15056                 1.427606             0.042644   \n",
       "ACH-001289             0.00000                 0.807355             0.000000   \n",
       "\n",
       "            POLR2J3 (548644)  H2BE1 (114483833)  AL445238.1 (647264)  \\\n",
       "ACH-001113          5.781884                0.0                  0.0   \n",
       "ACH-001289          4.704319                0.0                  0.0   \n",
       "\n",
       "            GET1-SH3BGR (106865373)  AC024598.1 (22891)  \\\n",
       "ACH-001113                 0.799087            0.014355   \n",
       "ACH-001289                 0.464668            0.000000   \n",
       "\n",
       "            AC113348.1 (102724657)  \n",
       "ACH-001113                0.000000  \n",
       "ACH-001289                0.070389  \n",
       "\n",
       "[2 rows x 19182 columns]"
      ]
     },
     "execution_count": 21,
     "metadata": {},
     "output_type": "execute_result"
    }
   ],
   "source": [
    "ccle_transcriptomics = pd.read_csv(file_ccle_transcriptomics, index_col=0)\n",
    "print(\"Dimensions: \", ccle_transcriptomics.shape)\n",
    "ccle_transcriptomics[:2]"
   ]
  },
  {
   "cell_type": "code",
   "execution_count": 22,
   "id": "69764988",
   "metadata": {},
   "outputs": [
    {
     "data": {
      "text/html": [
       "<div>\n",
       "<style scoped>\n",
       "    .dataframe tbody tr th:only-of-type {\n",
       "        vertical-align: middle;\n",
       "    }\n",
       "\n",
       "    .dataframe tbody tr th {\n",
       "        vertical-align: top;\n",
       "    }\n",
       "\n",
       "    .dataframe thead th {\n",
       "        text-align: right;\n",
       "    }\n",
       "</style>\n",
       "<table border=\"1\" class=\"dataframe\">\n",
       "  <thead>\n",
       "    <tr style=\"text-align: right;\">\n",
       "      <th></th>\n",
       "      <th>LC1SQSF_LUNG</th>\n",
       "      <th>COGAR359_SOFT_TISSUE</th>\n",
       "      <th>COLO794_SKIN</th>\n",
       "      <th>KKU213_BILIARY_TRACT</th>\n",
       "      <th>RT4_URINARY_TRACT</th>\n",
       "      <th>SNU283_LARGE_INTESTINE</th>\n",
       "      <th>NCIH1395_LUNG</th>\n",
       "      <th>DEL_HAEMATOPOIETIC_AND_LYMPHOID_TISSUE</th>\n",
       "      <th>SNU1196_BILIARY_TRACT</th>\n",
       "      <th>LC1F_LUNG</th>\n",
       "      <th>...</th>\n",
       "      <th>BL70_HAEMATOPOIETIC_AND_LYMPHOID_TISSUE</th>\n",
       "      <th>U343_CENTRAL_NERVOUS_SYSTEM</th>\n",
       "      <th>639V_URINARY_TRACT</th>\n",
       "      <th>MON_SOFT_TISSUE</th>\n",
       "      <th>LOXIMVI_SKIN</th>\n",
       "      <th>TOLEDO_HAEMATOPOIETIC_AND_LYMPHOID_TISSUE</th>\n",
       "      <th>SSP25_BILIARY_TRACT</th>\n",
       "      <th>ECC2_BILIARY_TRACT</th>\n",
       "      <th>A673_BONE</th>\n",
       "      <th>TT_OESOPHAGUS</th>\n",
       "    </tr>\n",
       "  </thead>\n",
       "  <tbody>\n",
       "    <tr>\n",
       "      <th>TSPAN6</th>\n",
       "      <td>4.990501</td>\n",
       "      <td>5.209843</td>\n",
       "      <td>3.77926</td>\n",
       "      <td>5.726831</td>\n",
       "      <td>7.465648</td>\n",
       "      <td>4.914086</td>\n",
       "      <td>4.032982</td>\n",
       "      <td>0.097611</td>\n",
       "      <td>4.712596</td>\n",
       "      <td>5.101398</td>\n",
       "      <td>...</td>\n",
       "      <td>0.070389</td>\n",
       "      <td>4.69265</td>\n",
       "      <td>5.0268</td>\n",
       "      <td>6.699052</td>\n",
       "      <td>4.173127</td>\n",
       "      <td>0.097611</td>\n",
       "      <td>5.045268</td>\n",
       "      <td>5.805292</td>\n",
       "      <td>4.870858</td>\n",
       "      <td>5.117695</td>\n",
       "    </tr>\n",
       "    <tr>\n",
       "      <th>TNMD</th>\n",
       "      <td>0.000000</td>\n",
       "      <td>0.545968</td>\n",
       "      <td>0.00000</td>\n",
       "      <td>0.000000</td>\n",
       "      <td>0.000000</td>\n",
       "      <td>0.176323</td>\n",
       "      <td>0.000000</td>\n",
       "      <td>0.000000</td>\n",
       "      <td>0.000000</td>\n",
       "      <td>0.000000</td>\n",
       "      <td>...</td>\n",
       "      <td>0.000000</td>\n",
       "      <td>0.00000</td>\n",
       "      <td>0.0000</td>\n",
       "      <td>0.000000</td>\n",
       "      <td>0.000000</td>\n",
       "      <td>0.000000</td>\n",
       "      <td>0.000000</td>\n",
       "      <td>0.000000</td>\n",
       "      <td>0.000000</td>\n",
       "      <td>0.000000</td>\n",
       "    </tr>\n",
       "  </tbody>\n",
       "</table>\n",
       "<p>2 rows × 1376 columns</p>\n",
       "</div>"
      ],
      "text/plain": [
       "        LC1SQSF_LUNG  COGAR359_SOFT_TISSUE  COLO794_SKIN  \\\n",
       "TSPAN6      4.990501              5.209843       3.77926   \n",
       "TNMD        0.000000              0.545968       0.00000   \n",
       "\n",
       "        KKU213_BILIARY_TRACT  RT4_URINARY_TRACT  SNU283_LARGE_INTESTINE  \\\n",
       "TSPAN6              5.726831           7.465648                4.914086   \n",
       "TNMD                0.000000           0.000000                0.176323   \n",
       "\n",
       "        NCIH1395_LUNG  DEL_HAEMATOPOIETIC_AND_LYMPHOID_TISSUE  \\\n",
       "TSPAN6       4.032982                                0.097611   \n",
       "TNMD         0.000000                                0.000000   \n",
       "\n",
       "        SNU1196_BILIARY_TRACT  LC1F_LUNG  ...  \\\n",
       "TSPAN6               4.712596   5.101398  ...   \n",
       "TNMD                 0.000000   0.000000  ...   \n",
       "\n",
       "        BL70_HAEMATOPOIETIC_AND_LYMPHOID_TISSUE  U343_CENTRAL_NERVOUS_SYSTEM  \\\n",
       "TSPAN6                                 0.070389                      4.69265   \n",
       "TNMD                                   0.000000                      0.00000   \n",
       "\n",
       "        639V_URINARY_TRACT  MON_SOFT_TISSUE  LOXIMVI_SKIN  \\\n",
       "TSPAN6              5.0268         6.699052      4.173127   \n",
       "TNMD                0.0000         0.000000      0.000000   \n",
       "\n",
       "        TOLEDO_HAEMATOPOIETIC_AND_LYMPHOID_TISSUE  SSP25_BILIARY_TRACT  \\\n",
       "TSPAN6                                   0.097611             5.045268   \n",
       "TNMD                                     0.000000             0.000000   \n",
       "\n",
       "        ECC2_BILIARY_TRACT  A673_BONE  TT_OESOPHAGUS  \n",
       "TSPAN6            5.805292   4.870858       5.117695  \n",
       "TNMD              0.000000   0.000000       0.000000  \n",
       "\n",
       "[2 rows x 1376 columns]"
      ]
     },
     "execution_count": 22,
     "metadata": {},
     "output_type": "execute_result"
    }
   ],
   "source": [
    "# Rename the cell lines given as DepMap ID to CCLE_Name and columns to just contain the hgnc_symbol\n",
    "ccle_transcriptomics = ccle_transcriptomics.rename(index = dict(zip(ccle_sample_info['DepMap_ID'], \n",
    "                                                                    ccle_sample_info['CCLE_Name'])),\n",
    "                                                   columns = lambda x : str(x).split(' ')[0])\n",
    "# Transpose to obtain a matrix similar to other studies\n",
    "ccle_transcriptomics = ccle_transcriptomics.transpose()\n",
    "ccle_transcriptomics[:2]"
   ]
  },
  {
   "cell_type": "code",
   "execution_count": 23,
   "id": "68c7bf02",
   "metadata": {},
   "outputs": [
    {
     "name": "stdout",
     "output_type": "stream",
     "text": [
      "Dimensions:  (19180, 1376)\n"
     ]
    },
    {
     "data": {
      "text/html": [
       "<div>\n",
       "<style scoped>\n",
       "    .dataframe tbody tr th:only-of-type {\n",
       "        vertical-align: middle;\n",
       "    }\n",
       "\n",
       "    .dataframe tbody tr th {\n",
       "        vertical-align: top;\n",
       "    }\n",
       "\n",
       "    .dataframe thead th {\n",
       "        text-align: right;\n",
       "    }\n",
       "</style>\n",
       "<table border=\"1\" class=\"dataframe\">\n",
       "  <thead>\n",
       "    <tr style=\"text-align: right;\">\n",
       "      <th></th>\n",
       "      <th>LC1SQSF_LUNG</th>\n",
       "      <th>COGAR359_SOFT_TISSUE</th>\n",
       "      <th>COLO794_SKIN</th>\n",
       "      <th>KKU213_BILIARY_TRACT</th>\n",
       "      <th>RT4_URINARY_TRACT</th>\n",
       "      <th>SNU283_LARGE_INTESTINE</th>\n",
       "      <th>NCIH1395_LUNG</th>\n",
       "      <th>DEL_HAEMATOPOIETIC_AND_LYMPHOID_TISSUE</th>\n",
       "      <th>SNU1196_BILIARY_TRACT</th>\n",
       "      <th>LC1F_LUNG</th>\n",
       "      <th>...</th>\n",
       "      <th>BL70_HAEMATOPOIETIC_AND_LYMPHOID_TISSUE</th>\n",
       "      <th>U343_CENTRAL_NERVOUS_SYSTEM</th>\n",
       "      <th>639V_URINARY_TRACT</th>\n",
       "      <th>MON_SOFT_TISSUE</th>\n",
       "      <th>LOXIMVI_SKIN</th>\n",
       "      <th>TOLEDO_HAEMATOPOIETIC_AND_LYMPHOID_TISSUE</th>\n",
       "      <th>SSP25_BILIARY_TRACT</th>\n",
       "      <th>ECC2_BILIARY_TRACT</th>\n",
       "      <th>A673_BONE</th>\n",
       "      <th>TT_OESOPHAGUS</th>\n",
       "    </tr>\n",
       "  </thead>\n",
       "  <tbody>\n",
       "    <tr>\n",
       "      <th>A1BG</th>\n",
       "      <td>3.976364</td>\n",
       "      <td>2.134221</td>\n",
       "      <td>2.650765</td>\n",
       "      <td>0.0</td>\n",
       "      <td>0.111031</td>\n",
       "      <td>0.226509</td>\n",
       "      <td>0.097611</td>\n",
       "      <td>5.276869</td>\n",
       "      <td>0.111031</td>\n",
       "      <td>2.871844</td>\n",
       "      <td>...</td>\n",
       "      <td>3.854993</td>\n",
       "      <td>2.570463</td>\n",
       "      <td>4.990955</td>\n",
       "      <td>4.296457</td>\n",
       "      <td>0.000000</td>\n",
       "      <td>4.874797</td>\n",
       "      <td>0.189034</td>\n",
       "      <td>0.0</td>\n",
       "      <td>4.878235</td>\n",
       "      <td>2.650765</td>\n",
       "    </tr>\n",
       "    <tr>\n",
       "      <th>A1CF</th>\n",
       "      <td>0.014355</td>\n",
       "      <td>0.000000</td>\n",
       "      <td>0.000000</td>\n",
       "      <td>0.0</td>\n",
       "      <td>0.028569</td>\n",
       "      <td>1.673556</td>\n",
       "      <td>0.757023</td>\n",
       "      <td>0.028569</td>\n",
       "      <td>0.056584</td>\n",
       "      <td>0.014355</td>\n",
       "      <td>...</td>\n",
       "      <td>0.000000</td>\n",
       "      <td>0.097611</td>\n",
       "      <td>0.000000</td>\n",
       "      <td>0.000000</td>\n",
       "      <td>0.028569</td>\n",
       "      <td>0.014355</td>\n",
       "      <td>0.056584</td>\n",
       "      <td>0.0</td>\n",
       "      <td>0.000000</td>\n",
       "      <td>0.042644</td>\n",
       "    </tr>\n",
       "  </tbody>\n",
       "</table>\n",
       "<p>2 rows × 1376 columns</p>\n",
       "</div>"
      ],
      "text/plain": [
       "      LC1SQSF_LUNG  COGAR359_SOFT_TISSUE  COLO794_SKIN  KKU213_BILIARY_TRACT  \\\n",
       "A1BG      3.976364              2.134221      2.650765                   0.0   \n",
       "A1CF      0.014355              0.000000      0.000000                   0.0   \n",
       "\n",
       "      RT4_URINARY_TRACT  SNU283_LARGE_INTESTINE  NCIH1395_LUNG  \\\n",
       "A1BG           0.111031                0.226509       0.097611   \n",
       "A1CF           0.028569                1.673556       0.757023   \n",
       "\n",
       "      DEL_HAEMATOPOIETIC_AND_LYMPHOID_TISSUE  SNU1196_BILIARY_TRACT  \\\n",
       "A1BG                                5.276869               0.111031   \n",
       "A1CF                                0.028569               0.056584   \n",
       "\n",
       "      LC1F_LUNG  ...  BL70_HAEMATOPOIETIC_AND_LYMPHOID_TISSUE  \\\n",
       "A1BG   2.871844  ...                                 3.854993   \n",
       "A1CF   0.014355  ...                                 0.000000   \n",
       "\n",
       "      U343_CENTRAL_NERVOUS_SYSTEM  639V_URINARY_TRACT  MON_SOFT_TISSUE  \\\n",
       "A1BG                     2.570463            4.990955         4.296457   \n",
       "A1CF                     0.097611            0.000000         0.000000   \n",
       "\n",
       "      LOXIMVI_SKIN  TOLEDO_HAEMATOPOIETIC_AND_LYMPHOID_TISSUE  \\\n",
       "A1BG      0.000000                                   4.874797   \n",
       "A1CF      0.028569                                   0.014355   \n",
       "\n",
       "      SSP25_BILIARY_TRACT  ECC2_BILIARY_TRACT  A673_BONE  TT_OESOPHAGUS  \n",
       "A1BG             0.189034                 0.0   4.878235       2.650765  \n",
       "A1CF             0.056584                 0.0   0.000000       0.042644  \n",
       "\n",
       "[2 rows x 1376 columns]"
      ]
     },
     "execution_count": 23,
     "metadata": {},
     "output_type": "execute_result"
    }
   ],
   "source": [
    "ccle_transcriptomics_processed = standardised_pipeline_utils.process(ccle_transcriptomics)\n",
    "ccle_transcriptomics_processed[:2]"
   ]
  },
  {
   "cell_type": "markdown",
   "id": "a5adbaba",
   "metadata": {},
   "source": [
    "#### Mass spectrometry based proteomics "
   ]
  },
  {
   "cell_type": "code",
   "execution_count": 24,
   "id": "11e8b32e",
   "metadata": {},
   "outputs": [
    {
     "name": "stdout",
     "output_type": "stream",
     "text": [
      "Dimensions:  (12755, 426)\n"
     ]
    },
    {
     "data": {
      "text/html": [
       "<div>\n",
       "<style scoped>\n",
       "    .dataframe tbody tr th:only-of-type {\n",
       "        vertical-align: middle;\n",
       "    }\n",
       "\n",
       "    .dataframe tbody tr th {\n",
       "        vertical-align: top;\n",
       "    }\n",
       "\n",
       "    .dataframe thead th {\n",
       "        text-align: right;\n",
       "    }\n",
       "</style>\n",
       "<table border=\"1\" class=\"dataframe\">\n",
       "  <thead>\n",
       "    <tr style=\"text-align: right;\">\n",
       "      <th></th>\n",
       "      <th>Protein_Id</th>\n",
       "      <th>Gene_Symbol</th>\n",
       "      <th>Description</th>\n",
       "      <th>Group_ID</th>\n",
       "      <th>Uniprot</th>\n",
       "      <th>Uniprot_Acc</th>\n",
       "      <th>TenPx01_Peptides</th>\n",
       "      <th>TenPx02_Peptides</th>\n",
       "      <th>TenPx03_Peptides</th>\n",
       "      <th>TenPx04_Peptides</th>\n",
       "      <th>...</th>\n",
       "      <th>NCIH2030_LUNG_TenPx18</th>\n",
       "      <th>22RV1_PROSTATE_TenPx24</th>\n",
       "      <th>A172_CENTRAL_NERVOUS_SYSTEM_TenPx24</th>\n",
       "      <th>BT20_BREAST_TenPx24</th>\n",
       "      <th>CALU6_LUNG_TenPx24</th>\n",
       "      <th>FADU_UPPER_AERODIGESTIVE_TRACT_TenPx24</th>\n",
       "      <th>KP4_PANCREAS_TenPx24</th>\n",
       "      <th>MONOMAC6_HAEMATOPOIETIC_AND_LYMPHOID_TISSUE_TenPx24</th>\n",
       "      <th>OVCAR8_OVARY_TenPx24</th>\n",
       "      <th>THP1_HAEMATOPOIETIC_AND_LYMPHOID_TISSUE_TenPx24</th>\n",
       "    </tr>\n",
       "  </thead>\n",
       "  <tbody>\n",
       "    <tr>\n",
       "      <th>0</th>\n",
       "      <td>sp|P55011|S12A2_HUMAN</td>\n",
       "      <td>SLC12A2</td>\n",
       "      <td>S12A2_HUMAN Solute carrier family 12 member 2</td>\n",
       "      <td>0</td>\n",
       "      <td>S12A2_HUMAN</td>\n",
       "      <td>P55011</td>\n",
       "      <td>41</td>\n",
       "      <td>16</td>\n",
       "      <td>23</td>\n",
       "      <td>59</td>\n",
       "      <td>...</td>\n",
       "      <td>-1.345024</td>\n",
       "      <td>1.811205</td>\n",
       "      <td>-0.921176</td>\n",
       "      <td>-1.045727</td>\n",
       "      <td>0.845574</td>\n",
       "      <td>-0.071063</td>\n",
       "      <td>0.702306</td>\n",
       "      <td>-1.395878</td>\n",
       "      <td>-1.165032</td>\n",
       "      <td>-0.547536</td>\n",
       "    </tr>\n",
       "    <tr>\n",
       "      <th>1</th>\n",
       "      <td>sp|P35453|HXD13_HUMAN</td>\n",
       "      <td>HOXD13</td>\n",
       "      <td>HXD13_HUMAN Homeobox protein Hox-D13</td>\n",
       "      <td>1</td>\n",
       "      <td>HXD13_HUMAN</td>\n",
       "      <td>P35453</td>\n",
       "      <td>0</td>\n",
       "      <td>0</td>\n",
       "      <td>0</td>\n",
       "      <td>0</td>\n",
       "      <td>...</td>\n",
       "      <td>NaN</td>\n",
       "      <td>NaN</td>\n",
       "      <td>NaN</td>\n",
       "      <td>NaN</td>\n",
       "      <td>NaN</td>\n",
       "      <td>NaN</td>\n",
       "      <td>NaN</td>\n",
       "      <td>NaN</td>\n",
       "      <td>NaN</td>\n",
       "      <td>NaN</td>\n",
       "    </tr>\n",
       "  </tbody>\n",
       "</table>\n",
       "<p>2 rows × 426 columns</p>\n",
       "</div>"
      ],
      "text/plain": [
       "              Protein_Id Gene_Symbol  \\\n",
       "0  sp|P55011|S12A2_HUMAN     SLC12A2   \n",
       "1  sp|P35453|HXD13_HUMAN      HOXD13   \n",
       "\n",
       "                                     Description  Group_ID      Uniprot  \\\n",
       "0  S12A2_HUMAN Solute carrier family 12 member 2         0  S12A2_HUMAN   \n",
       "1           HXD13_HUMAN Homeobox protein Hox-D13         1  HXD13_HUMAN   \n",
       "\n",
       "  Uniprot_Acc  TenPx01_Peptides  TenPx02_Peptides  TenPx03_Peptides  \\\n",
       "0      P55011                41                16                23   \n",
       "1      P35453                 0                 0                 0   \n",
       "\n",
       "   TenPx04_Peptides  ...  NCIH2030_LUNG_TenPx18  22RV1_PROSTATE_TenPx24  \\\n",
       "0                59  ...              -1.345024                1.811205   \n",
       "1                 0  ...                    NaN                     NaN   \n",
       "\n",
       "   A172_CENTRAL_NERVOUS_SYSTEM_TenPx24  BT20_BREAST_TenPx24  \\\n",
       "0                            -0.921176            -1.045727   \n",
       "1                                  NaN                  NaN   \n",
       "\n",
       "   CALU6_LUNG_TenPx24  FADU_UPPER_AERODIGESTIVE_TRACT_TenPx24  \\\n",
       "0            0.845574                               -0.071063   \n",
       "1                 NaN                                     NaN   \n",
       "\n",
       "   KP4_PANCREAS_TenPx24  MONOMAC6_HAEMATOPOIETIC_AND_LYMPHOID_TISSUE_TenPx24  \\\n",
       "0              0.702306                                          -1.395878     \n",
       "1                   NaN                                                NaN     \n",
       "\n",
       "   OVCAR8_OVARY_TenPx24  THP1_HAEMATOPOIETIC_AND_LYMPHOID_TISSUE_TenPx24  \n",
       "0             -1.165032                                        -0.547536  \n",
       "1                   NaN                                              NaN  \n",
       "\n",
       "[2 rows x 426 columns]"
      ]
     },
     "execution_count": 24,
     "metadata": {},
     "output_type": "execute_result"
    }
   ],
   "source": [
    "ccle_proteomics = pd.read_excel(io=file_ccle_proteomics, sheet_name=\"Normalized Protein Expression\", engine='openpyxl', \n",
    "                                usecols=\"A:PJ\")\n",
    "print(\"Dimensions: \", ccle_proteomics.shape)\n",
    "ccle_proteomics[:2]"
   ]
  },
  {
   "cell_type": "code",
   "execution_count": 25,
   "id": "1a3a834f",
   "metadata": {},
   "outputs": [],
   "source": [
    "ccle_proteomics.set_index('Gene_Symbol', inplace=True)\n",
    "ccle_proteomics = ccle_proteomics.loc[:, ccle_proteomics.columns.str.contains('_TenPx')]"
   ]
  },
  {
   "cell_type": "code",
   "execution_count": 26,
   "id": "da1d4141",
   "metadata": {},
   "outputs": [],
   "source": [
    "# Eliminating the cell lines that do not correlate well with transcriptomics data as mentioned in the paper \n",
    "ccle_proteomics.drop(columns=['SW948_LARGE_INTESTINE_TenPx11', 'CAL120_BREAST_TenPx02', 'HCT15_LARGE_INTESTINE_TenPx30'], \n",
    "                    inplace=True)\n",
    "ccle_proteomics = ccle_proteomics.rename(columns = lambda x : str(x).split('_TenPx')[0])"
   ]
  },
  {
   "cell_type": "code",
   "execution_count": 27,
   "id": "3a104848",
   "metadata": {},
   "outputs": [
    {
     "name": "stdout",
     "output_type": "stream",
     "text": [
      "Dimensions:  (7372, 375)\n"
     ]
    },
    {
     "data": {
      "text/html": [
       "<div>\n",
       "<style scoped>\n",
       "    .dataframe tbody tr th:only-of-type {\n",
       "        vertical-align: middle;\n",
       "    }\n",
       "\n",
       "    .dataframe tbody tr th {\n",
       "        vertical-align: top;\n",
       "    }\n",
       "\n",
       "    .dataframe thead th {\n",
       "        text-align: right;\n",
       "    }\n",
       "</style>\n",
       "<table border=\"1\" class=\"dataframe\">\n",
       "  <thead>\n",
       "    <tr style=\"text-align: right;\">\n",
       "      <th></th>\n",
       "      <th>MDAMB468_BREAST</th>\n",
       "      <th>SH4_SKIN</th>\n",
       "      <th>AU565_BREAST</th>\n",
       "      <th>KMRC1_KIDNEY</th>\n",
       "      <th>CAL51_BREAST</th>\n",
       "      <th>RPMI7951_SKIN</th>\n",
       "      <th>RERFLCMS_LUNG</th>\n",
       "      <th>IGR37_SKIN</th>\n",
       "      <th>VMRCRCW_KIDNEY</th>\n",
       "      <th>HEP3B217_LIVER</th>\n",
       "      <th>...</th>\n",
       "      <th>NCIH2030_LUNG</th>\n",
       "      <th>22RV1_PROSTATE</th>\n",
       "      <th>A172_CENTRAL_NERVOUS_SYSTEM</th>\n",
       "      <th>BT20_BREAST</th>\n",
       "      <th>CALU6_LUNG</th>\n",
       "      <th>FADU_UPPER_AERODIGESTIVE_TRACT</th>\n",
       "      <th>KP4_PANCREAS</th>\n",
       "      <th>MONOMAC6_HAEMATOPOIETIC_AND_LYMPHOID_TISSUE</th>\n",
       "      <th>OVCAR8_OVARY</th>\n",
       "      <th>THP1_HAEMATOPOIETIC_AND_LYMPHOID_TISSUE</th>\n",
       "    </tr>\n",
       "    <tr>\n",
       "      <th>Gene_Symbol</th>\n",
       "      <th></th>\n",
       "      <th></th>\n",
       "      <th></th>\n",
       "      <th></th>\n",
       "      <th></th>\n",
       "      <th></th>\n",
       "      <th></th>\n",
       "      <th></th>\n",
       "      <th></th>\n",
       "      <th></th>\n",
       "      <th></th>\n",
       "      <th></th>\n",
       "      <th></th>\n",
       "      <th></th>\n",
       "      <th></th>\n",
       "      <th></th>\n",
       "      <th></th>\n",
       "      <th></th>\n",
       "      <th></th>\n",
       "      <th></th>\n",
       "      <th></th>\n",
       "    </tr>\n",
       "  </thead>\n",
       "  <tbody>\n",
       "    <tr>\n",
       "      <th>A2M</th>\n",
       "      <td>-0.345562</td>\n",
       "      <td>1.642186</td>\n",
       "      <td>-1.129114</td>\n",
       "      <td>1.493333</td>\n",
       "      <td>0.274652</td>\n",
       "      <td>-0.615667</td>\n",
       "      <td>-0.957249</td>\n",
       "      <td>-0.174494</td>\n",
       "      <td>-0.987932</td>\n",
       "      <td>1.513325</td>\n",
       "      <td>...</td>\n",
       "      <td>-0.981657</td>\n",
       "      <td>-0.921538</td>\n",
       "      <td>3.905544</td>\n",
       "      <td>-0.649348</td>\n",
       "      <td>-1.055916</td>\n",
       "      <td>-1.116991</td>\n",
       "      <td>1.922976</td>\n",
       "      <td>-1.106344</td>\n",
       "      <td>-0.770372</td>\n",
       "      <td>-1.342713</td>\n",
       "    </tr>\n",
       "    <tr>\n",
       "      <th>AAAS</th>\n",
       "      <td>-0.109405</td>\n",
       "      <td>-0.283335</td>\n",
       "      <td>0.024663</td>\n",
       "      <td>-0.588886</td>\n",
       "      <td>0.673324</td>\n",
       "      <td>0.010466</td>\n",
       "      <td>0.474615</td>\n",
       "      <td>0.037159</td>\n",
       "      <td>-0.362833</td>\n",
       "      <td>-0.225824</td>\n",
       "      <td>...</td>\n",
       "      <td>-0.093176</td>\n",
       "      <td>-0.518686</td>\n",
       "      <td>-0.642067</td>\n",
       "      <td>-0.188224</td>\n",
       "      <td>-0.259101</td>\n",
       "      <td>-0.779655</td>\n",
       "      <td>-0.628770</td>\n",
       "      <td>1.205109</td>\n",
       "      <td>-0.584588</td>\n",
       "      <td>1.622359</td>\n",
       "    </tr>\n",
       "  </tbody>\n",
       "</table>\n",
       "<p>2 rows × 375 columns</p>\n",
       "</div>"
      ],
      "text/plain": [
       "             MDAMB468_BREAST  SH4_SKIN  AU565_BREAST  KMRC1_KIDNEY  \\\n",
       "Gene_Symbol                                                          \n",
       "A2M                -0.345562  1.642186     -1.129114      1.493333   \n",
       "AAAS               -0.109405 -0.283335      0.024663     -0.588886   \n",
       "\n",
       "             CAL51_BREAST  RPMI7951_SKIN  RERFLCMS_LUNG  IGR37_SKIN  \\\n",
       "Gene_Symbol                                                           \n",
       "A2M              0.274652      -0.615667      -0.957249   -0.174494   \n",
       "AAAS             0.673324       0.010466       0.474615    0.037159   \n",
       "\n",
       "             VMRCRCW_KIDNEY  HEP3B217_LIVER  ...  NCIH2030_LUNG  \\\n",
       "Gene_Symbol                                  ...                  \n",
       "A2M               -0.987932        1.513325  ...      -0.981657   \n",
       "AAAS              -0.362833       -0.225824  ...      -0.093176   \n",
       "\n",
       "             22RV1_PROSTATE  A172_CENTRAL_NERVOUS_SYSTEM  BT20_BREAST  \\\n",
       "Gene_Symbol                                                             \n",
       "A2M               -0.921538                     3.905544    -0.649348   \n",
       "AAAS              -0.518686                    -0.642067    -0.188224   \n",
       "\n",
       "             CALU6_LUNG  FADU_UPPER_AERODIGESTIVE_TRACT  KP4_PANCREAS  \\\n",
       "Gene_Symbol                                                             \n",
       "A2M           -1.055916                       -1.116991      1.922976   \n",
       "AAAS          -0.259101                       -0.779655     -0.628770   \n",
       "\n",
       "             MONOMAC6_HAEMATOPOIETIC_AND_LYMPHOID_TISSUE  OVCAR8_OVARY  \\\n",
       "Gene_Symbol                                                              \n",
       "A2M                                            -1.106344     -0.770372   \n",
       "AAAS                                            1.205109     -0.584588   \n",
       "\n",
       "             THP1_HAEMATOPOIETIC_AND_LYMPHOID_TISSUE  \n",
       "Gene_Symbol                                           \n",
       "A2M                                        -1.342713  \n",
       "AAAS                                        1.622359  \n",
       "\n",
       "[2 rows x 375 columns]"
      ]
     },
     "execution_count": 27,
     "metadata": {},
     "output_type": "execute_result"
    }
   ],
   "source": [
    "ccle_proteomics_processed = standardised_pipeline_utils.process(ccle_proteomics)\n",
    "ccle_proteomics_processed[:2]"
   ]
  },
  {
   "cell_type": "code",
   "execution_count": 28,
   "id": "5415c3c1",
   "metadata": {},
   "outputs": [],
   "source": [
    "common_cell_lines = np.intersect1d(np.intersect1d(ccle_transcriptomics_processed.columns, ccle_protein_rppa_processed.columns), \n",
    "                                   ccle_proteomics_processed.columns)\n",
    "ccle_transcriptomics_processed = ccle_transcriptomics_processed.reindex(common_cell_lines, axis=1)\n",
    "ccle_proteomics_processed = ccle_proteomics_processed.reindex(common_cell_lines, axis=1)\n",
    "ccle_protein_rppa_processed = ccle_protein_rppa_processed.reindex(common_cell_lines, axis=1)"
   ]
  },
  {
   "cell_type": "code",
   "execution_count": 29,
   "id": "2f02aaed",
   "metadata": {},
   "outputs": [
    {
     "name": "stdout",
     "output_type": "stream",
     "text": [
      "Number of common proteins:  150\n",
      "Number of common samples:  359\n",
      "Median Spearman Correlation:  0.4979\n",
      "Dimensions:  (150, 1)\n"
     ]
    },
    {
     "data": {
      "text/html": [
       "<div>\n",
       "<style scoped>\n",
       "    .dataframe tbody tr th:only-of-type {\n",
       "        vertical-align: middle;\n",
       "    }\n",
       "\n",
       "    .dataframe tbody tr th {\n",
       "        vertical-align: top;\n",
       "    }\n",
       "\n",
       "    .dataframe thead th {\n",
       "        text-align: right;\n",
       "    }\n",
       "</style>\n",
       "<table border=\"1\" class=\"dataframe\">\n",
       "  <thead>\n",
       "    <tr style=\"text-align: right;\">\n",
       "      <th></th>\n",
       "      <th>mRNA_RPPA_cor</th>\n",
       "    </tr>\n",
       "  </thead>\n",
       "  <tbody>\n",
       "    <tr>\n",
       "      <th>ACACA</th>\n",
       "      <td>0.566263</td>\n",
       "    </tr>\n",
       "    <tr>\n",
       "      <th>ACTB</th>\n",
       "      <td>0.386765</td>\n",
       "    </tr>\n",
       "  </tbody>\n",
       "</table>\n",
       "</div>"
      ],
      "text/plain": [
       "       mRNA_RPPA_cor\n",
       "ACACA       0.566263\n",
       "ACTB        0.386765"
      ]
     },
     "execution_count": 29,
     "metadata": {},
     "output_type": "execute_result"
    }
   ],
   "source": [
    "ccle_transcriptomics_processed, ccle_protein_rppa_processed_subset =  standardised_pipeline_utils.match_proteins_samples( \\\n",
    "                                                                                ccle_transcriptomics_processed, \n",
    "                                                                                ccle_protein_rppa_processed)\n",
    "correlation_ccle_rppa = standardised_pipeline_utils.correlate_genewise(ccle_transcriptomics_processed, \n",
    "                                                                       ccle_protein_rppa_processed_subset, \n",
    "                                                                       'mRNA_RPPA_cor')\n",
    "print(\"Dimensions: \", correlation_ccle_rppa.shape)\n",
    "correlation_ccle_rppa[:2]"
   ]
  },
  {
   "cell_type": "code",
   "execution_count": 30,
   "id": "cc56cc1b",
   "metadata": {},
   "outputs": [
    {
     "name": "stdout",
     "output_type": "stream",
     "text": [
      "Number of common proteins:  123\n",
      "Number of common samples:  359\n",
      "Median Spearman Correlation:  0.4814\n"
     ]
    },
    {
     "data": {
      "text/html": [
       "<div>\n",
       "<style scoped>\n",
       "    .dataframe tbody tr th:only-of-type {\n",
       "        vertical-align: middle;\n",
       "    }\n",
       "\n",
       "    .dataframe tbody tr th {\n",
       "        vertical-align: top;\n",
       "    }\n",
       "\n",
       "    .dataframe thead th {\n",
       "        text-align: right;\n",
       "    }\n",
       "</style>\n",
       "<table border=\"1\" class=\"dataframe\">\n",
       "  <thead>\n",
       "    <tr style=\"text-align: right;\">\n",
       "      <th></th>\n",
       "      <th>mRNA_MS_cor</th>\n",
       "    </tr>\n",
       "  </thead>\n",
       "  <tbody>\n",
       "    <tr>\n",
       "      <th>ACACA</th>\n",
       "      <td>0.371653</td>\n",
       "    </tr>\n",
       "    <tr>\n",
       "      <th>ACTB</th>\n",
       "      <td>0.481398</td>\n",
       "    </tr>\n",
       "  </tbody>\n",
       "</table>\n",
       "</div>"
      ],
      "text/plain": [
       "       mRNA_MS_cor\n",
       "ACACA     0.371653\n",
       "ACTB      0.481398"
      ]
     },
     "execution_count": 30,
     "metadata": {},
     "output_type": "execute_result"
    }
   ],
   "source": [
    "# reuse the transcriptomics data used to check for common cell lines and proteins with rppa data \n",
    "ccle_transcriptomics_processed, ccle_proteomics_processed_subset =  standardised_pipeline_utils.match_proteins_samples( \\\n",
    "                                                                                ccle_transcriptomics_processed, \n",
    "                                                                                ccle_proteomics_processed)\n",
    "\n",
    "correlation_ccle_ms = standardised_pipeline_utils.correlate_genewise(ccle_transcriptomics_processed, \n",
    "                                                                     ccle_proteomics_processed_subset, 'mRNA_MS_cor')\n",
    "correlation_ccle_ms[:2]"
   ]
  },
  {
   "cell_type": "code",
   "execution_count": 31,
   "id": "f49a4afb",
   "metadata": {},
   "outputs": [
    {
     "name": "stdout",
     "output_type": "stream",
     "text": [
      "Dimensions:  (123, 5)\n"
     ]
    },
    {
     "data": {
      "text/html": [
       "<div>\n",
       "<style scoped>\n",
       "    .dataframe tbody tr th:only-of-type {\n",
       "        vertical-align: middle;\n",
       "    }\n",
       "\n",
       "    .dataframe tbody tr th {\n",
       "        vertical-align: top;\n",
       "    }\n",
       "\n",
       "    .dataframe thead th {\n",
       "        text-align: right;\n",
       "    }\n",
       "</style>\n",
       "<table border=\"1\" class=\"dataframe\">\n",
       "  <thead>\n",
       "    <tr style=\"text-align: right;\">\n",
       "      <th></th>\n",
       "      <th>mRNA_RPPA_cor</th>\n",
       "      <th>mRNA_MS_cor</th>\n",
       "      <th>ValidationStatus</th>\n",
       "      <th>Company</th>\n",
       "      <th>Catalog_Number</th>\n",
       "    </tr>\n",
       "  </thead>\n",
       "  <tbody>\n",
       "    <tr>\n",
       "      <th>ACACA</th>\n",
       "      <td>0.566263</td>\n",
       "      <td>0.371653</td>\n",
       "      <td>Caution</td>\n",
       "      <td>Abcam</td>\n",
       "      <td>ab45174</td>\n",
       "    </tr>\n",
       "    <tr>\n",
       "      <th>ACTB</th>\n",
       "      <td>0.386765</td>\n",
       "      <td>0.481398</td>\n",
       "      <td>Caution</td>\n",
       "      <td>CST</td>\n",
       "      <td>4970</td>\n",
       "    </tr>\n",
       "  </tbody>\n",
       "</table>\n",
       "</div>"
      ],
      "text/plain": [
       "       mRNA_RPPA_cor  mRNA_MS_cor ValidationStatus Company Catalog_Number\n",
       "ACACA       0.566263     0.371653          Caution   Abcam        ab45174\n",
       "ACTB        0.386765     0.481398          Caution     CST           4970"
      ]
     },
     "execution_count": 31,
     "metadata": {},
     "output_type": "execute_result"
    }
   ],
   "source": [
    "combined_ccle_cor_status = pd.concat([correlation_ccle_rppa, correlation_ccle_ms, ccle_antibody], \n",
    "                                     join='inner', axis=1).drop(columns=['Antibody_Name', 'GeneSymbol'])\n",
    "print(\"Dimensions: \", combined_ccle_cor_status.shape)\n",
    "combined_ccle_cor_status[:2]"
   ]
  },
  {
   "cell_type": "code",
   "execution_count": 32,
   "id": "988598bf",
   "metadata": {},
   "outputs": [
    {
     "data": {
      "text/plain": [
       "Valid               76\n",
       "Use with Caution    47\n",
       "Name: ValidationStatus, dtype: int64"
      ]
     },
     "execution_count": 32,
     "metadata": {},
     "output_type": "execute_result"
    }
   ],
   "source": [
    "combined_ccle_cor_status.replace('Caution', 'Use with Caution', inplace=True)\n",
    "combined_ccle_cor_status['ValidationStatus'].value_counts()"
   ]
  },
  {
   "cell_type": "code",
   "execution_count": 33,
   "id": "1156f4ca",
   "metadata": {},
   "outputs": [
    {
     "data": {
      "text/plain": [
       "Valid      61.935484\n",
       "Caution    38.064516\n",
       "Name: ValidationStatus, dtype: float64"
      ]
     },
     "execution_count": 33,
     "metadata": {},
     "output_type": "execute_result"
    }
   ],
   "source": [
    "ccle_antibody['ValidationStatus'].value_counts(normalize=True)*100"
   ]
  },
  {
   "cell_type": "code",
   "execution_count": 34,
   "id": "c9397b03",
   "metadata": {},
   "outputs": [
    {
     "name": "stdout",
     "output_type": "stream",
     "text": [
      "Number of common proteins:  124\n",
      "Number of common samples:  359\n",
      "Median Spearman Correlation:  0.4918\n"
     ]
    },
    {
     "data": {
      "text/html": [
       "<div>\n",
       "<style scoped>\n",
       "    .dataframe tbody tr th:only-of-type {\n",
       "        vertical-align: middle;\n",
       "    }\n",
       "\n",
       "    .dataframe tbody tr th {\n",
       "        vertical-align: top;\n",
       "    }\n",
       "\n",
       "    .dataframe thead th {\n",
       "        text-align: right;\n",
       "    }\n",
       "</style>\n",
       "<table border=\"1\" class=\"dataframe\">\n",
       "  <thead>\n",
       "    <tr style=\"text-align: right;\">\n",
       "      <th></th>\n",
       "      <th>RPPA-MS cor</th>\n",
       "    </tr>\n",
       "    <tr>\n",
       "      <th>index</th>\n",
       "      <th></th>\n",
       "    </tr>\n",
       "  </thead>\n",
       "  <tbody>\n",
       "    <tr>\n",
       "      <th>ACACA</th>\n",
       "      <td>0.518745</td>\n",
       "    </tr>\n",
       "    <tr>\n",
       "      <th>ACTB</th>\n",
       "      <td>0.380440</td>\n",
       "    </tr>\n",
       "  </tbody>\n",
       "</table>\n",
       "</div>"
      ],
      "text/plain": [
       "       RPPA-MS cor\n",
       "index             \n",
       "ACACA     0.518745\n",
       "ACTB      0.380440"
      ]
     },
     "execution_count": 34,
     "metadata": {},
     "output_type": "execute_result"
    }
   ],
   "source": [
    "# reuse the transcriptomics data used to check for common cell lines and proteins with rppa data \n",
    "ccle_protein_rppa_processed_subset, ccle_proteomics_processed_subset =  standardised_pipeline_utils.match_proteins_samples( \\\n",
    "                                                                                ccle_protein_rppa_processed, \n",
    "                                                                                ccle_proteomics_processed)\n",
    "\n",
    "correlation_ccle_rppa_ms = standardised_pipeline_utils.correlate_genewise(ccle_protein_rppa_processed_subset, \n",
    "                                                                     ccle_proteomics_processed_subset, 'RPPA-MS cor')\n",
    "correlation_ccle_rppa_ms[:2]"
   ]
  },
  {
   "cell_type": "code",
   "execution_count": 35,
   "id": "bb5d5296",
   "metadata": {},
   "outputs": [
    {
     "name": "stdout",
     "output_type": "stream",
     "text": [
      "Dimensions:  (124, 4)\n"
     ]
    },
    {
     "data": {
      "text/html": [
       "<div>\n",
       "<style scoped>\n",
       "    .dataframe tbody tr th:only-of-type {\n",
       "        vertical-align: middle;\n",
       "    }\n",
       "\n",
       "    .dataframe tbody tr th {\n",
       "        vertical-align: top;\n",
       "    }\n",
       "\n",
       "    .dataframe thead th {\n",
       "        text-align: right;\n",
       "    }\n",
       "</style>\n",
       "<table border=\"1\" class=\"dataframe\">\n",
       "  <thead>\n",
       "    <tr style=\"text-align: right;\">\n",
       "      <th></th>\n",
       "      <th>RPPA-MS cor</th>\n",
       "      <th>ValidationStatus</th>\n",
       "      <th>Company</th>\n",
       "      <th>Catalog_Number</th>\n",
       "    </tr>\n",
       "  </thead>\n",
       "  <tbody>\n",
       "    <tr>\n",
       "      <th>ACACA</th>\n",
       "      <td>0.518745</td>\n",
       "      <td>Caution</td>\n",
       "      <td>Abcam</td>\n",
       "      <td>ab45174</td>\n",
       "    </tr>\n",
       "    <tr>\n",
       "      <th>ACTB</th>\n",
       "      <td>0.380440</td>\n",
       "      <td>Caution</td>\n",
       "      <td>CST</td>\n",
       "      <td>4970</td>\n",
       "    </tr>\n",
       "  </tbody>\n",
       "</table>\n",
       "</div>"
      ],
      "text/plain": [
       "       RPPA-MS cor ValidationStatus Company Catalog_Number\n",
       "ACACA     0.518745          Caution   Abcam        ab45174\n",
       "ACTB      0.380440          Caution     CST           4970"
      ]
     },
     "execution_count": 35,
     "metadata": {},
     "output_type": "execute_result"
    }
   ],
   "source": [
    "combined_protein_cor_status = pd.concat([correlation_ccle_rppa_ms, ccle_antibody], \n",
    "                                     join='inner', axis=1).drop(columns=['Antibody_Name', 'GeneSymbol'])\n",
    "print(\"Dimensions: \", combined_protein_cor_status.shape)\n",
    "combined_protein_cor_status[:2]"
   ]
  },
  {
   "cell_type": "code",
   "execution_count": 36,
   "id": "dc281b44",
   "metadata": {},
   "outputs": [
    {
     "data": {
      "text/html": [
       "<div>\n",
       "<style scoped>\n",
       "    .dataframe tbody tr th:only-of-type {\n",
       "        vertical-align: middle;\n",
       "    }\n",
       "\n",
       "    .dataframe tbody tr th {\n",
       "        vertical-align: top;\n",
       "    }\n",
       "\n",
       "    .dataframe thead th {\n",
       "        text-align: right;\n",
       "    }\n",
       "</style>\n",
       "<table border=\"1\" class=\"dataframe\">\n",
       "  <thead>\n",
       "    <tr style=\"text-align: right;\">\n",
       "      <th></th>\n",
       "      <th>RPPA-MS cor</th>\n",
       "      <th>ValidationStatus</th>\n",
       "      <th>Company</th>\n",
       "      <th>Catalog_Number</th>\n",
       "    </tr>\n",
       "  </thead>\n",
       "  <tbody>\n",
       "    <tr>\n",
       "      <th>ACACA</th>\n",
       "      <td>0.518745</td>\n",
       "      <td>Use with Caution</td>\n",
       "      <td>Abcam</td>\n",
       "      <td>ab45174</td>\n",
       "    </tr>\n",
       "    <tr>\n",
       "      <th>ACTB</th>\n",
       "      <td>0.380440</td>\n",
       "      <td>Use with Caution</td>\n",
       "      <td>CST</td>\n",
       "      <td>4970</td>\n",
       "    </tr>\n",
       "  </tbody>\n",
       "</table>\n",
       "</div>"
      ],
      "text/plain": [
       "       RPPA-MS cor  ValidationStatus Company Catalog_Number\n",
       "ACACA     0.518745  Use with Caution   Abcam        ab45174\n",
       "ACTB      0.380440  Use with Caution     CST           4970"
      ]
     },
     "execution_count": 36,
     "metadata": {},
     "output_type": "execute_result"
    }
   ],
   "source": [
    "combined_protein_cor_status.replace('Caution', 'Use with Caution', inplace=True)\n",
    "combined_protein_cor_status[:2]"
   ]
  },
  {
   "cell_type": "code",
   "execution_count": 37,
   "id": "fa1b6e49",
   "metadata": {},
   "outputs": [],
   "source": [
    "ccle_antibody.replace('Caution', 'Use with Caution', inplace=True)"
   ]
  },
  {
   "cell_type": "code",
   "execution_count": 38,
   "id": "3215d5c4",
   "metadata": {},
   "outputs": [],
   "source": [
    "palette = [graphing_utils.get_color(color) for color in ['orange', 'green']]\n",
    "xlab = 'Antibody validation status'; ylab1 = \"mRNA-protein (RPPA) correlation\"; ylab2 = \"mRNA-protein (MS) correlation\"\n",
    "args = [graphing_utils.additional_plot_parameters(xlab=\"Percentage (%)\", ylab=\"Validation Status\", fontsize='large',\n",
    "                                                             palette = palette),\n",
    "        graphing_utils.additional_plot_parameters(xlab=xlab, ylab=ylab1, palette = palette[::len(palette)-1]), \n",
    "        graphing_utils.additional_plot_parameters(xlab=xlab, ylab=ylab2, palette = palette[::len(palette)-1]), \n",
    "        graphing_utils.additional_plot_parameters(xlab=xlab, ylab=\"protein (RPPA) - protein (MS)\\ncorrelation\", \n",
    "                                                  palette = palette[::len(palette)-1])]"
   ]
  },
  {
   "cell_type": "code",
   "execution_count": 39,
   "id": "9a50a115",
   "metadata": {},
   "outputs": [
    {
     "name": "stdout",
     "output_type": "stream",
     "text": [
      "Use with Caution v.s. Valid:Mann-Whitney-Wilcoxon test two-sided, P_val=1.47E-2 stat= 2.26E+3\n",
      "Use with Caution v.s. Valid:Mann-Whitney-Wilcoxon test two-sided, P_val=7.38E-2 stat= 2.13E+3\n",
      "Use with Caution v.s. Valid:Mann-Whitney-Wilcoxon test two-sided, P_val=5.92E-3 stat= 2.36E+3\n"
     ]
    },
    {
     "data": {
      "image/png": "[encoded data removed]",
      "text/plain": [
       "<Figure size 900x750 with 5 Axes>"
      ]
     },
     "metadata": {},
     "output_type": "display_data"
    }
   ],
   "source": [
    "inner = [['innerA'],\n",
    "         ['innerB']]\n",
    "outer = [[inner, 'upper right'],\n",
    "          ['lower left', 'lower right']]\n",
    "\n",
    "order=['Use with Caution', 'Valid']\n",
    "with plt.rc_context({'axes.linewidth': 0.8, 'axes.labelsize':12, 'axes.spines.left': True, 'xtick.labelsize':12, \n",
    "                     'ytick.labelsize':12}):\n",
    "    figure, ax = plt.subplot_mosaic(outer, figsize=(9,7.5))\n",
    "    customized_plot.draw_countplot(ccle_antibody, ax['innerA'], args[0])\n",
    "    ax['innerB'].axis('off'); \n",
    "    customized_plot.draw_swarmBoxPlot(combined_ccle_cor_status, 'mRNA_RPPA_cor', ax['upper right'], args[1], order)\n",
    "    customized_plot.draw_swarmBoxPlot(combined_ccle_cor_status, 'mRNA_MS_cor', ax['lower right'], args[2], order)\n",
    "    customized_plot.draw_swarmBoxPlot(combined_protein_cor_status, 'RPPA-MS cor', ax['lower left'], args[3], order)\n",
    "    plt.subplots_adjust(wspace=0.4, hspace=0.45)\n",
    "    figure.savefig(get_figure_path('Figure5.svg'), bbox_inches='tight', dpi=300)"
   ]
  },
  {
   "cell_type": "markdown",
   "id": "b6262acc",
   "metadata": {},
   "source": [
    "<div class=\"alert alert-block alert-success\">\n",
    "    mRNA-protein (RPPA) correlation is better explained by antibody validation status compared to mRNA-protein (MS) correlation for CCLE data as well. \n",
    "</div>"
   ]
  },
  {
   "cell_type": "code",
   "execution_count": 40,
   "id": "b3727711",
   "metadata": {},
   "outputs": [
    {
     "name": "stderr",
     "output_type": "stream",
     "text": [
      "C:\\Users\\swath\\Anaconda3\\envs\\antibody_quality_limitations\\Lib\\site-packages\\pandas\\core\\internals\\blocks.py:2323: RuntimeWarning: invalid value encountered in cast\n",
      "  values = values.astype(str)\n"
     ]
    }
   ],
   "source": [
    "ccle_data = pd.concat([combined_ccle_cor_status.drop(columns=['ValidationStatus']), combined_protein_cor_status], axis=1)\n",
    "ccle_data.to_csv(file_sourceData_Figure5)"
   ]
  },
  {
   "cell_type": "code",
   "execution_count": 41,
   "id": "df4c0186",
   "metadata": {},
   "outputs": [
    {
     "name": "stdout",
     "output_type": "stream",
     "text": [
      "Use with Caution v.s. Valid: t-test-individual two-sided with equal variance, P_val=2.23E-2 stat= 2.31E+0\n",
      "Use with Caution v.s. Valid: t-test-individual two-sided with equal variance, P_val=7.96E-2 stat= 1.77E+0\n",
      "Use with Caution v.s. Valid: t-test-individual two-sided with equal variance, P_val=9.34E-3 stat= 2.64E+0\n"
     ]
    },
    {
     "data": {
      "image/png": "[encoded data removed]",
      "text/plain": [
       "<Figure size 900x750 with 5 Axes>"
      ]
     },
     "metadata": {},
     "output_type": "display_data"
    }
   ],
   "source": [
    "inner = [['innerA'],\n",
    "         ['innerB']]\n",
    "outer = [[inner, 'upper right'],\n",
    "          ['lower left', 'lower right']]\n",
    "\n",
    "order=['Use with Caution', 'Valid']\n",
    "with plt.rc_context({'axes.linewidth': 0.8, 'axes.labelsize':12, 'axes.spines.left': True, 'xtick.labelsize':12, \n",
    "                     'ytick.labelsize':12}):\n",
    "    figure, ax = plt.subplot_mosaic(outer, figsize=(9,7.5))\n",
    "    customized_plot.draw_countplot(ccle_antibody, ax['innerA'], args[0])\n",
    "    ax['innerB'].axis('off'); \n",
    "    customized_plot.draw_swarmBoxPlot(combined_ccle_cor_status, 'mRNA_RPPA_cor', ax['upper right'], args[1], order, test='t-test_ind')\n",
    "    customized_plot.draw_swarmBoxPlot(combined_ccle_cor_status, 'mRNA_MS_cor', ax['lower right'], args[2], order, test='t-test_ind')\n",
    "    customized_plot.draw_swarmBoxPlot(combined_protein_cor_status, 'RPPA-MS cor', ax['lower left'], args[3], order, test='t-test_ind')\n",
    "    plt.subplots_adjust(wspace=0.4, hspace=0.45)\n",
    "    figure.savefig(get_figure_path('ttest\\Figure5_ttest.svg'), bbox_inches='tight', dpi=300)"
   ]
  }
 ],
 "metadata": {
  "kernelspec": {
   "display_name": "Python 3 (ipykernel)",
   "language": "python",
   "name": "python3"
  },
  "language_info": {
   "codemirror_mode": {
    "name": "ipython",
    "version": 3
   },
   "file_extension": ".py",
   "mimetype": "text/x-python",
   "name": "python",
   "nbconvert_exporter": "python",
   "pygments_lexer": "ipython3",
   "version": "3.11.0"
  }
 },
 "nbformat": 4,
 "nbformat_minor": 5
}
