{
 "cells": [
  {
   "cell_type": "markdown",
   "id": "f103f6a5",
   "metadata": {},
   "source": [
    "## Validating mRNA-protein (RPPA and MS) correlation results using linear regression"
   ]
  },
  {
   "cell_type": "markdown",
   "id": "f1c52bf1",
   "metadata": {},
   "source": [
    "**Input:**  \n",
    "- Source data for figures S1 and 1\n",
    "\n",
    "**Output:**  \n",
    "- Figure S3"
   ]
  },
  {
   "cell_type": "markdown",
   "id": "8795b079",
   "metadata": {},
   "source": [
    "### Import Packages"
   ]
  },
  {
   "cell_type": "code",
   "execution_count": 1,
   "id": "de2d1afc",
   "metadata": {},
   "outputs": [],
   "source": [
    "import os\n",
    "import numpy as np\n",
    "import pandas as pd \n",
    "import seaborn as sns \n",
    "from matplotlib import pyplot as plt\n",
    "%matplotlib inline\n",
    "\n",
    "import graphing_utils\n",
    "import customized_plot "
   ]
  },
  {
   "cell_type": "code",
   "execution_count": 2,
   "id": "b5e70e6e",
   "metadata": {},
   "outputs": [],
   "source": [
    "get_table_path = lambda fname: os.path.normpath('../tables/' + fname)\n",
    "get_figure_path = lambda fname: os.path.normpath('../figures/' + fname)\n",
    "\n",
    "file_sourceData_Figure1 = get_table_path('SourceDataForFigure1.csv')\n",
    "file_sourceData_Figure2 = get_table_path('SourceDataForFigure2.csv')\n",
    "file_sourceData_FigureS3 = get_table_path('SourceDataForFigureS3.csv')"
   ]
  },
  {
   "cell_type": "markdown",
   "id": "ca8bf0b8",
   "metadata": {},
   "source": [
    "### Load Data"
   ]
  },
  {
   "cell_type": "code",
   "execution_count": 3,
   "id": "021d1b3c",
   "metadata": {},
   "outputs": [
    {
     "data": {
      "text/html": [
       "<div>\n",
       "<style scoped>\n",
       "    .dataframe tbody tr th:only-of-type {\n",
       "        vertical-align: middle;\n",
       "    }\n",
       "\n",
       "    .dataframe tbody tr th {\n",
       "        vertical-align: top;\n",
       "    }\n",
       "\n",
       "    .dataframe thead th {\n",
       "        text-align: right;\n",
       "    }\n",
       "</style>\n",
       "<table border=\"1\" class=\"dataframe\">\n",
       "  <thead>\n",
       "    <tr style=\"text-align: right;\">\n",
       "      <th></th>\n",
       "      <th>BrCa</th>\n",
       "      <th>Ovarian</th>\n",
       "      <th>CoadRead</th>\n",
       "      <th>UCEC</th>\n",
       "      <th>KIRC</th>\n",
       "      <th>LGG</th>\n",
       "      <th>ValidationStatus</th>\n",
       "    </tr>\n",
       "  </thead>\n",
       "  <tbody>\n",
       "    <tr>\n",
       "      <th>ACVRL1</th>\n",
       "      <td>0.142387</td>\n",
       "      <td>0.026260</td>\n",
       "      <td>0.119359</td>\n",
       "      <td>0.158536</td>\n",
       "      <td>-0.087107</td>\n",
       "      <td>0.175950</td>\n",
       "      <td>Use with Caution</td>\n",
       "    </tr>\n",
       "    <tr>\n",
       "      <th>ANXA7</th>\n",
       "      <td>0.335648</td>\n",
       "      <td>0.431283</td>\n",
       "      <td>0.269618</td>\n",
       "      <td>0.537909</td>\n",
       "      <td>0.479831</td>\n",
       "      <td>0.598215</td>\n",
       "      <td>Valid</td>\n",
       "    </tr>\n",
       "  </tbody>\n",
       "</table>\n",
       "</div>"
      ],
      "text/plain": [
       "            BrCa   Ovarian  CoadRead      UCEC      KIRC       LGG  \\\n",
       "ACVRL1  0.142387  0.026260  0.119359  0.158536 -0.087107  0.175950   \n",
       "ANXA7   0.335648  0.431283  0.269618  0.537909  0.479831  0.598215   \n",
       "\n",
       "        ValidationStatus  \n",
       "ACVRL1  Use with Caution  \n",
       "ANXA7              Valid  "
      ]
     },
     "execution_count": 3,
     "metadata": {},
     "output_type": "execute_result"
    }
   ],
   "source": [
    "mRNA_RPPA_correlation = pd.read_csv(file_sourceData_Figure1, index_col=0)\n",
    "mRNA_RPPA_correlation[:2]"
   ]
  },
  {
   "cell_type": "code",
   "execution_count": 4,
   "id": "9457df2e",
   "metadata": {},
   "outputs": [
    {
     "data": {
      "text/html": [
       "<div>\n",
       "<style scoped>\n",
       "    .dataframe tbody tr th:only-of-type {\n",
       "        vertical-align: middle;\n",
       "    }\n",
       "\n",
       "    .dataframe tbody tr th {\n",
       "        vertical-align: top;\n",
       "    }\n",
       "\n",
       "    .dataframe thead th {\n",
       "        text-align: right;\n",
       "    }\n",
       "</style>\n",
       "<table border=\"1\" class=\"dataframe\">\n",
       "  <thead>\n",
       "    <tr style=\"text-align: right;\">\n",
       "      <th></th>\n",
       "      <th>BrCa (2016)</th>\n",
       "      <th>Ovarian</th>\n",
       "      <th>CRC (2014)</th>\n",
       "      <th>EC</th>\n",
       "      <th>ccRCC</th>\n",
       "      <th>GBM</th>\n",
       "      <th>ValidationStatus</th>\n",
       "    </tr>\n",
       "  </thead>\n",
       "  <tbody>\n",
       "    <tr>\n",
       "      <th>ANXA7</th>\n",
       "      <td>0.431853</td>\n",
       "      <td>0.52711</td>\n",
       "      <td>0.151884</td>\n",
       "      <td>0.744248</td>\n",
       "      <td>0.466821</td>\n",
       "      <td>0.790204</td>\n",
       "      <td>Valid</td>\n",
       "    </tr>\n",
       "    <tr>\n",
       "      <th>AR</th>\n",
       "      <td>0.686791</td>\n",
       "      <td>NaN</td>\n",
       "      <td>NaN</td>\n",
       "      <td>0.742285</td>\n",
       "      <td>NaN</td>\n",
       "      <td>NaN</td>\n",
       "      <td>Valid</td>\n",
       "    </tr>\n",
       "  </tbody>\n",
       "</table>\n",
       "</div>"
      ],
      "text/plain": [
       "       BrCa (2016)  Ovarian  CRC (2014)        EC     ccRCC       GBM  \\\n",
       "ANXA7     0.431853  0.52711    0.151884  0.744248  0.466821  0.790204   \n",
       "AR        0.686791      NaN         NaN  0.742285       NaN       NaN   \n",
       "\n",
       "      ValidationStatus  \n",
       "ANXA7            Valid  \n",
       "AR               Valid  "
      ]
     },
     "execution_count": 4,
     "metadata": {},
     "output_type": "execute_result"
    }
   ],
   "source": [
    "mRNA_MS_correlation = pd.read_csv(file_sourceData_Figure2, index_col=0)\n",
    "mRNA_MS_correlation[:2]"
   ]
  },
  {
   "cell_type": "markdown",
   "id": "65e93dac",
   "metadata": {},
   "source": [
    "#### Performing linear regression to obtain R-squared"
   ]
  },
  {
   "cell_type": "code",
   "execution_count": 5,
   "id": "5517002b",
   "metadata": {},
   "outputs": [],
   "source": [
    "import statsmodels.api as sm\n",
    "\n",
    "# regressing y on x \n",
    "def get_r2_after_model_fit(x, y):\n",
    "#     x_subset, y_subset = cu.get_matched_index(x, y) \n",
    "    print(\"Common proteins: \", x.shape[0])\n",
    "    est = sm.OLS(y, sm.add_constant(x.astype(float))).fit()\n",
    "    return round(est.rsquared_adj *100, 2)"
   ]
  },
  {
   "cell_type": "code",
   "execution_count": 6,
   "id": "6a9754bb",
   "metadata": {},
   "outputs": [
    {
     "name": "stdout",
     "output_type": "stream",
     "text": [
      "Common proteins:  106\n",
      "Common proteins:  106\n",
      "Common proteins:  106\n",
      "Common proteins:  106\n",
      "Common proteins:  106\n",
      "Common proteins:  106\n"
     ]
    }
   ],
   "source": [
    "r2_antibody_validation_status_RPPA = {}\n",
    "mRNA_RPPA_correlation['ValidationStatus'].replace({'Valid': 1, 'Use with Caution': 0}, inplace=True)\n",
    "# ccle_mRNA_protein_correlation['ValidationStatus'].replace({'Valid': 1, 'Use with Caution': 0}, inplace=True)\n",
    "\n",
    "r2_antibody_validation_status_RPPA['BrCa'] = get_r2_after_model_fit(x=mRNA_RPPA_correlation.dropna(subset=['BrCa'])['ValidationStatus'], \n",
    "                                                               y=mRNA_RPPA_correlation['BrCa'].dropna())\n",
    "r2_antibody_validation_status_RPPA['Ovarian'] = get_r2_after_model_fit(x=mRNA_RPPA_correlation.dropna(subset=['Ovarian'])['ValidationStatus'], \n",
    "                                                                  y=mRNA_RPPA_correlation['Ovarian'].dropna())\n",
    "r2_antibody_validation_status_RPPA['CoadRead'] = get_r2_after_model_fit(x=mRNA_RPPA_correlation.dropna(subset=['CoadRead'])['ValidationStatus'], \n",
    "                                                                   y=mRNA_RPPA_correlation['CoadRead'].dropna())\n",
    "r2_antibody_validation_status_RPPA['UCEC'] = get_r2_after_model_fit(x=mRNA_RPPA_correlation.dropna(subset=['UCEC'])['ValidationStatus'], \n",
    "                                                               y=mRNA_RPPA_correlation['UCEC'].dropna())\n",
    "r2_antibody_validation_status_RPPA['KIRC'] = get_r2_after_model_fit(x=mRNA_RPPA_correlation.dropna(subset=['KIRC'])['ValidationStatus'], \n",
    "                                                               y=mRNA_RPPA_correlation['KIRC'].dropna())\n",
    "r2_antibody_validation_status_RPPA['LGG'] = get_r2_after_model_fit(x=mRNA_RPPA_correlation.dropna(subset=['LGG'])['ValidationStatus'], \n",
    "                                                              y=mRNA_RPPA_correlation['LGG'].dropna())"
   ]
  },
  {
   "cell_type": "code",
   "execution_count": 7,
   "id": "42e8e363",
   "metadata": {},
   "outputs": [
    {
     "name": "stdout",
     "output_type": "stream",
     "text": [
      "Common proteins:  87\n",
      "Common proteins:  81\n",
      "Common proteins:  51\n",
      "Common proteins:  94\n",
      "Common proteins:  79\n",
      "Common proteins:  88\n"
     ]
    }
   ],
   "source": [
    "r2_antibody_validation_status_MS = {}\n",
    "mRNA_MS_correlation['ValidationStatus'].replace({'Valid': 1, 'Use with Caution': 0}, inplace=True)\n",
    "# ccle_mRNA_protein_correlation['ValidationStatus'].replace({'Valid': 1, 'Use with Caution': 0}, inplace=True)\n",
    "\n",
    "r2_antibody_validation_status_MS['BrCa (2016)'] = get_r2_after_model_fit(x=mRNA_MS_correlation.dropna(subset=['BrCa (2016)'])['ValidationStatus'], \n",
    "                                                               y=mRNA_MS_correlation['BrCa (2016)'].dropna())\n",
    "r2_antibody_validation_status_MS['Ovarian'] = get_r2_after_model_fit(x=mRNA_MS_correlation.dropna(subset=['Ovarian'])['ValidationStatus'], \n",
    "                                                                  y=mRNA_MS_correlation['Ovarian'].dropna())\n",
    "r2_antibody_validation_status_MS['CRC (2014)'] = get_r2_after_model_fit(x=mRNA_MS_correlation.dropna(subset=['CRC (2014)'])['ValidationStatus'], \n",
    "                                                                   y=mRNA_MS_correlation['CRC (2014)'].dropna())\n",
    "r2_antibody_validation_status_MS['EC'] = get_r2_after_model_fit(x=mRNA_MS_correlation.dropna(subset=['EC'])['ValidationStatus'], \n",
    "                                                               y=mRNA_MS_correlation['EC'].dropna())\n",
    "r2_antibody_validation_status_MS['ccRCC'] = get_r2_after_model_fit(x=mRNA_MS_correlation.dropna(subset=['ccRCC'])['ValidationStatus'], \n",
    "                                                               y=mRNA_MS_correlation['ccRCC'].dropna())\n",
    "r2_antibody_validation_status_MS['GBM'] = get_r2_after_model_fit(x=mRNA_MS_correlation.dropna(subset=['GBM'])['ValidationStatus'], \n",
    "                                                              y=mRNA_MS_correlation['GBM'].dropna())"
   ]
  },
  {
   "cell_type": "code",
   "execution_count": 8,
   "id": "8ea6b43a",
   "metadata": {},
   "outputs": [
    {
     "data": {
      "text/html": [
       "<div>\n",
       "<style scoped>\n",
       "    .dataframe tbody tr th:only-of-type {\n",
       "        vertical-align: middle;\n",
       "    }\n",
       "\n",
       "    .dataframe tbody tr th {\n",
       "        vertical-align: top;\n",
       "    }\n",
       "\n",
       "    .dataframe thead th {\n",
       "        text-align: right;\n",
       "    }\n",
       "</style>\n",
       "<table border=\"1\" class=\"dataframe\">\n",
       "  <thead>\n",
       "    <tr style=\"text-align: right;\">\n",
       "      <th></th>\n",
       "      <th>mRNA-protein (MS) correlation</th>\n",
       "      <th>mRNA-protein (RPPA) correlation</th>\n",
       "    </tr>\n",
       "  </thead>\n",
       "  <tbody>\n",
       "    <tr>\n",
       "      <th>Breast (2016, 2012)</th>\n",
       "      <td>0.32</td>\n",
       "      <td>9.11</td>\n",
       "    </tr>\n",
       "    <tr>\n",
       "      <th>Colorectal (2014, 2012)</th>\n",
       "      <td>-1.04</td>\n",
       "      <td>6.52</td>\n",
       "    </tr>\n",
       "    <tr>\n",
       "      <th>Endometrial (2020, 2013)</th>\n",
       "      <td>5.46</td>\n",
       "      <td>5.90</td>\n",
       "    </tr>\n",
       "    <tr>\n",
       "      <th>Glioblastoma (2020) /\\nGlioma (2015)</th>\n",
       "      <td>-0.68</td>\n",
       "      <td>7.43</td>\n",
       "    </tr>\n",
       "    <tr>\n",
       "      <th>Kidney (2019, 2013)</th>\n",
       "      <td>1.04</td>\n",
       "      <td>18.20</td>\n",
       "    </tr>\n",
       "    <tr>\n",
       "      <th>Ovarian (2016, 2011)</th>\n",
       "      <td>-1.03</td>\n",
       "      <td>5.79</td>\n",
       "    </tr>\n",
       "  </tbody>\n",
       "</table>\n",
       "</div>"
      ],
      "text/plain": [
       "                                      mRNA-protein (MS) correlation  \\\n",
       "Breast (2016, 2012)                                            0.32   \n",
       "Colorectal (2014, 2012)                                       -1.04   \n",
       "Endometrial (2020, 2013)                                       5.46   \n",
       "Glioblastoma (2020) /\\nGlioma (2015)                          -0.68   \n",
       "Kidney (2019, 2013)                                            1.04   \n",
       "Ovarian (2016, 2011)                                          -1.03   \n",
       "\n",
       "                                      mRNA-protein (RPPA) correlation  \n",
       "Breast (2016, 2012)                                              9.11  \n",
       "Colorectal (2014, 2012)                                          6.52  \n",
       "Endometrial (2020, 2013)                                         5.90  \n",
       "Glioblastoma (2020) /\\nGlioma (2015)                             7.43  \n",
       "Kidney (2019, 2013)                                             18.20  \n",
       "Ovarian (2016, 2011)                                             5.79  "
      ]
     },
     "execution_count": 8,
     "metadata": {},
     "output_type": "execute_result"
    }
   ],
   "source": [
    "r2 = pd.concat([pd.DataFrame.from_dict(r2_antibody_validation_status_MS, \n",
    "                                       orient='index').rename(columns={0: 'mRNA-protein (MS) correlation'}), \n",
    "                pd.DataFrame.from_dict(r2_antibody_validation_status_RPPA, \n",
    "                                       orient='index').rename(columns={0: 'mRNA-protein (RPPA) correlation'})],\n",
    "               axis=1).rename(index ={'BrCa (2016)' : 'Breast (2016, 2012)', 'BrCa': 'Breast (2016, 2012)', \n",
    "                                      'CRC (2014)': 'Colorectal (2014, 2012)', 'CoadRead': 'Colorectal (2014, 2012)', \n",
    "                                      'UCEC': 'Endometrial (2020, 2013)', 'EC': 'Endometrial (2020, 2013)', \n",
    "                                      'LGG':'Glioblastoma (2020) /\\nGlioma (2015)', 'GBM': 'Glioblastoma (2020) /\\nGlioma (2015)',\n",
    "                                      'KIRC': 'Kidney (2019, 2013)', 'ccRCC': 'Kidney (2019, 2013)', \n",
    "                                      'Ovarian': 'Ovarian (2016, 2011)'})\n",
    "r2 = r2.groupby(r2.index).mean()\n",
    "r2"
   ]
  },
  {
   "cell_type": "code",
   "execution_count": 9,
   "id": "797412d4",
   "metadata": {},
   "outputs": [
    {
     "name": "stdout",
     "output_type": "stream",
     "text": [
      "Mean of the CPTAC and TCGA studies: \n"
     ]
    },
    {
     "data": {
      "text/plain": [
       "mRNA-protein (MS) correlation      0.678333\n",
       "mRNA-protein (RPPA) correlation    8.825000\n",
       "dtype: float64"
      ]
     },
     "execution_count": 9,
     "metadata": {},
     "output_type": "execute_result"
    }
   ],
   "source": [
    "print(\"Mean of the CPTAC and TCGA studies: \")\n",
    "r2.mean()"
   ]
  },
  {
   "cell_type": "code",
   "execution_count": 10,
   "id": "16fb35da",
   "metadata": {},
   "outputs": [
    {
     "data": {
      "text/html": [
       "<div>\n",
       "<style scoped>\n",
       "    .dataframe tbody tr th:only-of-type {\n",
       "        vertical-align: middle;\n",
       "    }\n",
       "\n",
       "    .dataframe tbody tr th {\n",
       "        vertical-align: top;\n",
       "    }\n",
       "\n",
       "    .dataframe thead th {\n",
       "        text-align: right;\n",
       "    }\n",
       "</style>\n",
       "<table border=\"1\" class=\"dataframe\">\n",
       "  <thead>\n",
       "    <tr style=\"text-align: right;\">\n",
       "      <th></th>\n",
       "      <th>Study</th>\n",
       "      <th>Response variable in linear regression</th>\n",
       "      <th>R2</th>\n",
       "    </tr>\n",
       "  </thead>\n",
       "  <tbody>\n",
       "    <tr>\n",
       "      <th>0</th>\n",
       "      <td>Breast (2016, 2012)</td>\n",
       "      <td>mRNA-protein (MS) correlation</td>\n",
       "      <td>0.32</td>\n",
       "    </tr>\n",
       "    <tr>\n",
       "      <th>1</th>\n",
       "      <td>Colorectal (2014, 2012)</td>\n",
       "      <td>mRNA-protein (MS) correlation</td>\n",
       "      <td>-1.04</td>\n",
       "    </tr>\n",
       "    <tr>\n",
       "      <th>2</th>\n",
       "      <td>Endometrial (2020, 2013)</td>\n",
       "      <td>mRNA-protein (MS) correlation</td>\n",
       "      <td>5.46</td>\n",
       "    </tr>\n",
       "    <tr>\n",
       "      <th>3</th>\n",
       "      <td>Glioblastoma (2020) /\\nGlioma (2015)</td>\n",
       "      <td>mRNA-protein (MS) correlation</td>\n",
       "      <td>-0.68</td>\n",
       "    </tr>\n",
       "    <tr>\n",
       "      <th>4</th>\n",
       "      <td>Kidney (2019, 2013)</td>\n",
       "      <td>mRNA-protein (MS) correlation</td>\n",
       "      <td>1.04</td>\n",
       "    </tr>\n",
       "    <tr>\n",
       "      <th>5</th>\n",
       "      <td>Ovarian (2016, 2011)</td>\n",
       "      <td>mRNA-protein (MS) correlation</td>\n",
       "      <td>-1.03</td>\n",
       "    </tr>\n",
       "    <tr>\n",
       "      <th>6</th>\n",
       "      <td>Breast (2016, 2012)</td>\n",
       "      <td>mRNA-protein (RPPA) correlation</td>\n",
       "      <td>9.11</td>\n",
       "    </tr>\n",
       "    <tr>\n",
       "      <th>7</th>\n",
       "      <td>Colorectal (2014, 2012)</td>\n",
       "      <td>mRNA-protein (RPPA) correlation</td>\n",
       "      <td>6.52</td>\n",
       "    </tr>\n",
       "    <tr>\n",
       "      <th>8</th>\n",
       "      <td>Endometrial (2020, 2013)</td>\n",
       "      <td>mRNA-protein (RPPA) correlation</td>\n",
       "      <td>5.90</td>\n",
       "    </tr>\n",
       "    <tr>\n",
       "      <th>9</th>\n",
       "      <td>Glioblastoma (2020) /\\nGlioma (2015)</td>\n",
       "      <td>mRNA-protein (RPPA) correlation</td>\n",
       "      <td>7.43</td>\n",
       "    </tr>\n",
       "    <tr>\n",
       "      <th>10</th>\n",
       "      <td>Kidney (2019, 2013)</td>\n",
       "      <td>mRNA-protein (RPPA) correlation</td>\n",
       "      <td>18.20</td>\n",
       "    </tr>\n",
       "    <tr>\n",
       "      <th>11</th>\n",
       "      <td>Ovarian (2016, 2011)</td>\n",
       "      <td>mRNA-protein (RPPA) correlation</td>\n",
       "      <td>5.79</td>\n",
       "    </tr>\n",
       "  </tbody>\n",
       "</table>\n",
       "</div>"
      ],
      "text/plain": [
       "                                   Study  \\\n",
       "0                    Breast (2016, 2012)   \n",
       "1                Colorectal (2014, 2012)   \n",
       "2               Endometrial (2020, 2013)   \n",
       "3   Glioblastoma (2020) /\\nGlioma (2015)   \n",
       "4                    Kidney (2019, 2013)   \n",
       "5                   Ovarian (2016, 2011)   \n",
       "6                    Breast (2016, 2012)   \n",
       "7                Colorectal (2014, 2012)   \n",
       "8               Endometrial (2020, 2013)   \n",
       "9   Glioblastoma (2020) /\\nGlioma (2015)   \n",
       "10                   Kidney (2019, 2013)   \n",
       "11                  Ovarian (2016, 2011)   \n",
       "\n",
       "   Response variable in linear regression     R2  \n",
       "0           mRNA-protein (MS) correlation   0.32  \n",
       "1           mRNA-protein (MS) correlation  -1.04  \n",
       "2           mRNA-protein (MS) correlation   5.46  \n",
       "3           mRNA-protein (MS) correlation  -0.68  \n",
       "4           mRNA-protein (MS) correlation   1.04  \n",
       "5           mRNA-protein (MS) correlation  -1.03  \n",
       "6         mRNA-protein (RPPA) correlation   9.11  \n",
       "7         mRNA-protein (RPPA) correlation   6.52  \n",
       "8         mRNA-protein (RPPA) correlation   5.90  \n",
       "9         mRNA-protein (RPPA) correlation   7.43  \n",
       "10        mRNA-protein (RPPA) correlation  18.20  \n",
       "11        mRNA-protein (RPPA) correlation   5.79  "
      ]
     },
     "execution_count": 10,
     "metadata": {},
     "output_type": "execute_result"
    }
   ],
   "source": [
    "r2_melted  = pd.melt(r2.reset_index().rename(columns={'index': 'Study'}), \n",
    "                     id_vars='Study', value_vars=['mRNA-protein (MS) correlation', 'mRNA-protein (RPPA) correlation'], \n",
    "                     var_name='Response variable in linear regression', value_name='R2')\n",
    "r2_melted.to_csv(file_sourceData_FigureS3, index=False)\n",
    "r2_melted"
   ]
  },
  {
   "cell_type": "code",
   "execution_count": 11,
   "id": "c93ce162",
   "metadata": {},
   "outputs": [],
   "source": [
    "palette = [graphing_utils.get_color(color) for color in ['denim-blue', 'dark-sky-blue']]\n",
    "args = graphing_utils.additional_plot_parameters(xlab=\"R-squared (%)\", ylab=None, palette = palette)"
   ]
  },
  {
   "cell_type": "code",
   "execution_count": 12,
   "id": "45589616",
   "metadata": {},
   "outputs": [],
   "source": [
    "get_order = lambda df: df.groupby(by=['Study']).max().sort_values('R2').index.values"
   ]
  },
  {
   "cell_type": "code",
   "execution_count": 13,
   "id": "fc55d630",
   "metadata": {},
   "outputs": [
    {
     "data": {
      "image/png": "[encoded data removed]",
      "text/plain": [
       "<Figure size 500x300 with 1 Axes>"
      ]
     },
     "metadata": {},
     "output_type": "display_data"
    }
   ],
   "source": [
    "with plt.rc_context({'axes.linewidth': 0.8, 'axes.labelsize':12, 'axes.spines.left': True, 'xtick.labelsize':10, \n",
    "                     'ytick.labelsize':11}):\n",
    "    figure, ax = plt.subplots(1, 1, figsize=(5, 3))\n",
    "    sns.stripplot(x='R2', y='Study', data=r2_melted, ax=ax, hue='Response variable in linear regression', s=7, \n",
    "                  order=get_order(r2_melted),\n",
    "                  palette= args.palette, )\n",
    "    ax.legend(title='Response variable', \n",
    "              title_fontsize='medium', framealpha=1, \n",
    "              facecolor='white', bbox_to_anchor = (1.65, 1))._legend_box.align = \"left\"\n",
    "    customized_plot.customise_plot(ax, args)\n",
    "    plt.subplots_adjust(wspace=0.4, hspace=0.45)\n",
    "#     figure.savefig(get_figure_path('FigureS3.svg'), bbox_inches='tight', dpi=300)"
   ]
  },
  {
   "cell_type": "markdown",
   "id": "c3dba4c9",
   "metadata": {},
   "source": [
    "<div class=\"alert alert-block alert-success\">\n",
    "    mRNA-protein (RPPA) correlation is better explained by antibody validation status compared to mRNA-protein (MS) correlation. \n",
    "</div>"
   ]
  }
 ],
 "metadata": {
  "kernelspec": {
   "display_name": "Python 3 (ipykernel)",
   "language": "python",
   "name": "python3"
  },
  "language_info": {
   "codemirror_mode": {
    "name": "ipython",
    "version": 3
   },
   "file_extension": ".py",
   "mimetype": "text/x-python",
   "name": "python",
   "nbconvert_exporter": "python",
   "pygments_lexer": "ipython3",
   "version": "3.8.16"
  }
 },
 "nbformat": 4,
 "nbformat_minor": 5
}
