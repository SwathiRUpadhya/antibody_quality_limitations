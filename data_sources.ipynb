{
 "cells": [
  {
   "cell_type": "markdown",
   "id": "93f051d9",
   "metadata": {},
   "source": [
    "### 1. Antibody validation status "
   ]
  },
  {
   "cell_type": "markdown",
   "id": "24cf8ae7",
   "metadata": {},
   "source": [
    "- File: TCPA antibody validation status\n",
    "- Source portal: https://gdc.cancer.gov/about-data/gdc-data-processing/gdc-reference-files\n",
    "- Source: <a href=https://api.gdc.cancer.gov/v0/data/62647302-b4d3-4a81-a7c0-d141f5dbd300>TCGA_antibodies_descriptions.gencode.v36.tsv</a>"
   ]
  },
  {
   "cell_type": "markdown",
   "id": "f873a0f9",
   "metadata": {},
   "source": [
    "### 2. Tumour studies\n",
    "\n",
    "#### TCGA: \n",
    "The TCGA PanCancer studies' transcriptomics (gene expression RNAseq) and proteomics (RPPA) data were obtained from the USC Xena browser (Pan-Cancer Atlas Hub in https://xenabrowser.net/datapages/). \n",
    "\n",
    "***Transcriptomics:***           \n",
    "https://tcga-pancan-atlas-hub.s3.us-east-1.amazonaws.com/download/EB%2B%2BAdjustPANCAN_IlluminaHiSeq_RNASeqV2.geneExp.xena.gz\n",
    "\n",
    "***Proteomics:***          \n",
    "https://tcga-pancan-atlas-hub.s3.us-east-1.amazonaws.com/download/TCGA-RPPA-pancan-clean.xena.gz\n",
    "\n",
    "              \n",
    "The mapping of the samples to the individual studies was done using the gdc reference file -   \n",
    "http://api.gdc.cancer.gov/data/fcbb373e-28d4-4818-92f3-601ede3da5e1\n",
    "\n",
    "--------------------------\n",
    "\n",
    "#### CPTAC:\n",
    "\n",
    "The gene-wise mRNA-protein correlation of the CPTAC studies were computed using a standardised pipeline in our previous publication (https://doi.org/10.1016/j.crmeth.2022.100288) as it is computed for the TCGA studies in this analysis. Therefore, we used the correlation provided in the supplementary table (Table S2) from the same paper. \n",
    "\n",
    "\n",
    "--------------------------\n",
    "\n",
    "|| Cancer Study |Representation in our study | TCGA | CPTAC |\n",
    "|:-------------------------|:-------------------------|:-------------------------|:-------------------------|:-------------------------|\n",
    "A.| Breast cancer | Breast | https://doi.org/10.1038/nature11412 | https://doi.org/10.1038/nature18003 |\n",
    "B.| Ovarian cancer | Ovarian |  https://doi.org/10.1038/nature10166 | https://doi.org/10.1016/j.cell.2016.05.069 |\n",
    "C.| Colorectal adenocarcinoma| Colorectal| https://doi.org/10.1038/nature11252 | https://doi.org/10.1038/nature13438 |\n",
    "D.| Endometrial carcinoma | Endometrial | https://doi.org/10.1038/nature12113 | https://doi.org/10.1016/j.cell.2020.01.026 |\n",
    "E.| Kidney renal carcinoma | Kidney | https://doi.org/10.1038/nature12222 | https://doi.org/10.1016/j.cell.2019.10.007 |\n",
    "F.| Low grade glioma, Glioblastoma | Brain | https://doi.org/10.1056/NEJMoa1402121 | https://doi.org/10.1016/j.ccell.2021.01.006 |"
   ]
  },
  {
   "cell_type": "markdown",
   "id": "11b5b315",
   "metadata": {},
   "source": [
    "### 3. CCLE "
   ]
  },
  {
   "cell_type": "markdown",
   "id": "67bb2757",
   "metadata": {},
   "source": [
    "***Transcriptomics:***\n",
    "\n",
    "- File: depmap/20Q4/CCLE_expression.csv\n",
    "- Downloaded from https://ndownloader.figshare.com/files/25494389    \n",
    "     \n",
    "     \n",
    "- Cell Line Mapping File: depmap/20Q4/sample.csv\n",
    "- Downloaded from https://ndownloader.figshare.com/files/25494443\n",
    "\n",
    "- Source Portal : https://depmap.org/portal/download/          \n",
    "\n",
    "\n",
    "***Proteomics (Mass spec):***\n",
    "\n",
    " - Source Portal: https://gygi.hms.harvard.edu/publications/ccle.html\n",
    " \n",
    " <u>Protein expression levels</u>\n",
    "    - File: nusinow_2020/Table_S2.xlsx\n",
    "    - Downloaded from <a href=https://gygi.hms.harvard.edu/data/ccle/Table_S2_Protein_Quant_Normalized.xlsx>Table S2</a>\n",
    "   \n",
    "\n",
    "\n",
    "***Protein expression (RPPA):***\n",
    "\n",
    "- File : depmap/ProteinArray_RPPA/CCLE_RPPA_20180123.csv\n",
    "- https://depmap.org/portal/download/api/download?file_name=ccle%2FCCLE_RPPA_20180123.csv&bucket=depmap-external-downloads  \n",
    "- Antibody validation status file: depmap/ProteinArray_RPPA/CCLE_RPPA_Ab_info_20180123.csv      \n",
    "  https://depmap.org/portal/download/api/download?file_name=ccle%2FCCLE_RPPA_Ab_info_20180123.csv&bucket=depmap-external-downloads"
   ]
  },
  {
   "cell_type": "markdown",
   "id": "35b17e92",
   "metadata": {},
   "source": [
    "### 4. GTEx protein and mRNA abundance\n",
    "\n",
    "Reference paper: www.tinyurl.com/2ccj77sn  \n",
    "    \n",
    "***Protein abundance :***\n",
    "    \n",
    "- File : jiang_2020/Table_S2.xlsx\n",
    "\n",
    "***mRNA abundance :***\n",
    "    \n",
    "- File : jiang_2020/Table_S3.xlsx   "
   ]
  },
  {
   "cell_type": "markdown",
   "id": "4c01683a",
   "metadata": {},
   "source": [
    "### 5. Aggregated Protein Reproducibility\n",
    "\n",
    "- Reference Paper: https://www.cell.com/cell-reports-methods/fulltext/S2667-2375(22)00170-9     \n",
    "- File : upadhya_ryan_2022/TableS2.xlsx"
   ]
  }
 ],
 "metadata": {
  "kernelspec": {
   "display_name": "Python 3",
   "language": "python",
   "name": "python3"
  },
  "language_info": {
   "codemirror_mode": {
    "name": "ipython",
    "version": 3
   },
   "file_extension": ".py",
   "mimetype": "text/x-python",
   "name": "python",
   "nbconvert_exporter": "python",
   "pygments_lexer": "ipython3",
   "version": "3.7.10"
  }
 },
 "nbformat": 4,
 "nbformat_minor": 5
}
